{
 "cells": [
  {
   "cell_type": "markdown",
   "metadata": {},
   "source": [
    "<h1> Feature Engineering </h1>\n",
    "\n",
    "In this notebook, you will learn how to incorporate feature engineering into your pipeline.\n",
    "<ul>\n",
    "<li> Working with feature columns </li>\n",
    "<li> Adding feature crosses in TensorFlow </li>\n",
    "<li> Reading data from BigQuery </li>\n",
    "<li> Creating datasets using Dataflow </li>\n",
    "<li> Using a wide-and-deep model </li>\n",
    "</ul>"
   ]
  },
  {
   "cell_type": "markdown",
   "metadata": {},
   "source": [
    "Apache Beam works better with Python 2 at the moment, so we're going to work within the Python 2 kernel."
   ]
  },
  {
   "cell_type": "code",
   "execution_count": 1,
   "metadata": {},
   "outputs": [
    {
     "name": "stdout",
     "output_type": "stream",
     "text": [
      "Collecting package metadata (current_repodata.json): ...working... done\n",
      "Solving environment: ...working... done\n",
      "\n",
      "## Package Plan ##\n",
      "\n",
      "  environment location: /usr/local\n",
      "\n",
      "  added / updated specs:\n",
      "    - conda\n",
      "\n",
      "\n",
      "The following packages will be REMOVED:\n",
      "\n",
      "  conda-env-2.6.0-1\n",
      "  packaging-19.0-py27_0\n",
      "  pycrypto-2.6.1-py27h14c3975_9\n",
      "  pyparsing-2.4.0-py_0\n",
      "  pyyaml-5.1-py27h7b6447c_0\n",
      "\n",
      "\n",
      "Preparing transaction: ...working... done\n",
      "Verifying transaction: ...working... done\n",
      "Executing transaction: ...working... done\n",
      "Collecting package metadata (current_repodata.json): ...working... done\n",
      "Solving environment: ...working... done\n",
      "\n",
      "## Package Plan ##\n",
      "\n",
      "  environment location: /usr/local/envs/py2env\n",
      "\n",
      "  added / updated specs:\n",
      "    - pytz\n",
      "\n",
      "\n",
      "The following packages will be downloaded:\n",
      "\n",
      "    package                    |            build\n",
      "    ---------------------------|-----------------\n",
      "    certifi-2019.6.16          |           py27_0         150 KB  defaults\n",
      "    pytz-2019.1                |             py_0         236 KB  defaults\n",
      "    ------------------------------------------------------------\n",
      "                                           Total:         386 KB\n",
      "\n",
      "The following packages will be UPDATED:\n",
      "\n",
      "  certifi                                   2019.3.9-py27_0 --> 2019.6.16-py27_0\n",
      "  pytz               pkgs/main/linux-64::pytz-2018.4-py27_0 --> pkgs/main/noarch::pytz-2019.1-py_0\n",
      "\n",
      "\n",
      "\n",
      "Downloading and Extracting Packages\n",
      "\r",
      "certifi-2019.6.16    | 150 KB    |            |   0% \r",
      "certifi-2019.6.16    | 150 KB    | #          |  11% \r",
      "certifi-2019.6.16    | 150 KB    | ########## | 100% \n",
      "\r",
      "pytz-2019.1          | 236 KB    |            |   0% \r",
      "pytz-2019.1          | 236 KB    | ########## | 100% \n",
      "Preparing transaction: ...working... done\n",
      "Verifying transaction: ...working... done\n",
      "Executing transaction: ...working... done\n",
      "Collecting apache-beam[gcp]==2.9.0\n",
      "  Downloading https://files.pythonhosted.org/packages/d4/3d/90aa15779e884feebae4b0c26cad6f52cd4040397a94deb58dad9c8b7300/apache_beam-2.9.0-cp27-cp27mu-manylinux1_x86_64.whl (2.4MB)\n",
      "Requirement already satisfied: dill<=0.2.8.2,>=0.2.6 in /usr/local/envs/py2env/lib/python2.7/site-packages (from apache-beam[gcp]==2.9.0) (0.2.6)\n",
      "Collecting pydot<1.3,>=1.2.0 (from apache-beam[gcp]==2.9.0)\n",
      "  Downloading https://files.pythonhosted.org/packages/c3/f1/e61d6dfe6c1768ed2529761a68f70939e2569da043e9f15a8d84bf56cadf/pydot-1.2.4.tar.gz (132kB)\n",
      "Collecting httplib2<=0.11.3,>=0.8 (from apache-beam[gcp]==2.9.0)\n",
      "  Downloading https://files.pythonhosted.org/packages/fd/ce/aa4a385e3e9fd351737fd2b07edaa56e7a730448465aceda6b35086a0d9b/httplib2-0.11.3.tar.gz (215kB)\n",
      "Requirement already satisfied: pyyaml<4.0.0,>=3.12 in /usr/local/envs/py2env/lib/python2.7/site-packages (from apache-beam[gcp]==2.9.0) (3.13)\n",
      "Collecting typing<3.7.0,>=3.6.0; python_version < \"3.5.0\" (from apache-beam[gcp]==2.9.0)\n",
      "  Downloading https://files.pythonhosted.org/packages/cc/3e/29f92b7aeda5b078c86d14f550bf85cff809042e3429ace7af6193c3bc9f/typing-3.6.6-py2-none-any.whl\n",
      "Requirement already satisfied: protobuf<4,>=3.5.0.post1 in /usr/local/envs/py2env/lib/python2.7/site-packages (from apache-beam[gcp]==2.9.0) (3.6.1)\n",
      "Requirement already satisfied: oauth2client<4,>=2.0.1 in /usr/local/envs/py2env/lib/python2.7/site-packages (from apache-beam[gcp]==2.9.0) (2.2.0)\n",
      "Requirement already satisfied: future<1.0.0,>=0.16.0 in /usr/local/envs/py2env/lib/python2.7/site-packages (from apache-beam[gcp]==2.9.0) (0.16.0)\n",
      "Requirement already satisfied: avro<2.0.0,>=1.8.1 in /usr/local/envs/py2env/lib/python2.7/site-packages (from apache-beam[gcp]==2.9.0) (1.9.0)\n",
      "Requirement already satisfied: crcmod<2.0,>=1.7 in /usr/local/envs/py2env/lib/python2.7/site-packages (from apache-beam[gcp]==2.9.0) (1.7)\n",
      "Collecting fastavro<0.22,>=0.21.4 (from apache-beam[gcp]==2.9.0)\n",
      "  Downloading https://files.pythonhosted.org/packages/15/e3/5956c75f68906b119191ef30d9acff661b422cf918a29a03ee0c3ba774be/fastavro-0.21.24-cp27-cp27mu-manylinux1_x86_64.whl (1.0MB)\n",
      "Requirement already satisfied: futures<4.0.0,>=3.1.1 in /usr/local/envs/py2env/lib/python2.7/site-packages (from apache-beam[gcp]==2.9.0) (3.2.0)\n",
      "Requirement already satisfied: grpcio<2,>=1.8 in /usr/local/envs/py2env/lib/python2.7/site-packages (from apache-beam[gcp]==2.9.0) (1.21.1)\n",
      "Collecting pyvcf<0.7.0,>=0.6.8 (from apache-beam[gcp]==2.9.0)\n",
      "  Downloading https://files.pythonhosted.org/packages/20/b6/36bfb1760f6983788d916096193fc14c83cce512c7787c93380e09458c09/PyVCF-0.6.8.tar.gz\n",
      "Requirement already satisfied: mock<3.0.0,>=1.0.1 in /usr/local/envs/py2env/lib/python2.7/site-packages (from apache-beam[gcp]==2.9.0) (2.0.0)\n",
      "Collecting hdfs<3.0.0,>=2.1.0 (from apache-beam[gcp]==2.9.0)\n",
      "  Downloading https://files.pythonhosted.org/packages/a0/a5/1433f90ac909e259c5fd38d75d8b730be93e40cf44a0d0f5ae2742aa1d7c/hdfs-2.5.7-py2-none-any.whl\n",
      "Collecting pytz<=2018.4,>=2018.3 (from apache-beam[gcp]==2.9.0)\n",
      "  Downloading https://files.pythonhosted.org/packages/dc/83/15f7833b70d3e067ca91467ca245bae0f6fe56ddc7451aa0dc5606b120f2/pytz-2018.4-py2.py3-none-any.whl (510kB)\n",
      "Collecting google-cloud-pubsub==0.35.4; extra == \"gcp\" (from apache-beam[gcp]==2.9.0)\n",
      "  Downloading https://files.pythonhosted.org/packages/66/f9/bfa284399fb59a8896e0c4164b46185f61f35a90a18c67b366406ad472a6/google_cloud_pubsub-0.35.4-py2.py3-none-any.whl (93kB)\n",
      "Requirement already satisfied: proto-google-cloud-datastore-v1<=0.90.4,>=0.90.0; extra == \"gcp\" in /usr/local/envs/py2env/lib/python2.7/site-packages (from apache-beam[gcp]==2.9.0) (0.90.0)\n",
      "Collecting google-apitools<=0.5.24,>=0.5.23; extra == \"gcp\" (from apache-beam[gcp]==2.9.0)\n",
      "  Downloading https://files.pythonhosted.org/packages/b2/26/abea123a1b5a2b0c1b49c0d8a2e030725f32ae0932d026f2c7a6ee32c8d3/google_apitools-0.5.24-py2-none-any.whl (129kB)\n",
      "Collecting google-cloud-bigquery<1.7.0,>=1.6.0; extra == \"gcp\" (from apache-beam[gcp]==2.9.0)\n",
      "  Downloading https://files.pythonhosted.org/packages/b7/1b/2b95f2fefddbbece38110712c225bfb5649206f4056445653bd5ca4dc86d/google_cloud_bigquery-1.6.1-py2.py3-none-any.whl (83kB)\n",
      "Requirement already satisfied: googledatastore<7.1,>=7.0.1; python_version < \"3.0\" and extra == \"gcp\" in /usr/local/envs/py2env/lib/python2.7/site-packages (from apache-beam[gcp]==2.9.0) (7.0.1)\n",
      "Requirement already satisfied: pyparsing>=2.1.4 in /usr/local/envs/py2env/lib/python2.7/site-packages (from pydot<1.3,>=1.2.0->apache-beam[gcp]==2.9.0) (2.4.0)\n",
      "Requirement already satisfied: six>=1.9 in /usr/local/envs/py2env/lib/python2.7/site-packages (from protobuf<4,>=3.5.0.post1->apache-beam[gcp]==2.9.0) (1.10.0)\n",
      "Requirement already satisfied: setuptools in /usr/local/envs/py2env/lib/python2.7/site-packages (from protobuf<4,>=3.5.0.post1->apache-beam[gcp]==2.9.0) (41.0.1)\n",
      "Requirement already satisfied: pyasn1>=0.1.7 in /usr/local/envs/py2env/lib/python2.7/site-packages (from oauth2client<4,>=2.0.1->apache-beam[gcp]==2.9.0) (0.4.5)\n",
      "Requirement already satisfied: pyasn1-modules>=0.0.5 in /usr/local/envs/py2env/lib/python2.7/site-packages (from oauth2client<4,>=2.0.1->apache-beam[gcp]==2.9.0) (0.2.4)\n",
      "Requirement already satisfied: rsa>=3.1.4 in /usr/local/envs/py2env/lib/python2.7/site-packages (from oauth2client<4,>=2.0.1->apache-beam[gcp]==2.9.0) (3.4.2)\n",
      "Requirement already satisfied: enum34>=1.0.4; python_version < \"3.4\" in /usr/local/envs/py2env/lib/python2.7/site-packages (from grpcio<2,>=1.8->apache-beam[gcp]==2.9.0) (1.1.6)\n",
      "Requirement already satisfied: funcsigs>=1 in /usr/local/envs/py2env/lib/python2.7/site-packages (from mock<3.0.0,>=1.0.1->apache-beam[gcp]==2.9.0) (1.0.0)\n",
      "Requirement already satisfied: pbr>=0.11 in /usr/local/envs/py2env/lib/python2.7/site-packages (from mock<3.0.0,>=1.0.1->apache-beam[gcp]==2.9.0) (5.1.3)\n",
      "Requirement already satisfied: requests>=2.7.0 in /usr/local/envs/py2env/lib/python2.7/site-packages (from hdfs<3.0.0,>=2.1.0->apache-beam[gcp]==2.9.0) (2.18.4)\n",
      "Collecting docopt (from hdfs<3.0.0,>=2.1.0->apache-beam[gcp]==2.9.0)\n",
      "  Downloading https://files.pythonhosted.org/packages/a2/55/8f8cab2afd404cf578136ef2cc5dfb50baa1761b68c9da1fb1e4eed343c9/docopt-0.6.2.tar.gz\n",
      "Requirement already satisfied: google-api-core[grpc]<2.0.0dev,>=0.1.3 in /usr/local/envs/py2env/lib/python2.7/site-packages (from google-cloud-pubsub==0.35.4; extra == \"gcp\"->apache-beam[gcp]==2.9.0) (0.1.4)\n",
      "Collecting grpc-google-iam-v1<0.12dev,>=0.11.1 (from google-cloud-pubsub==0.35.4; extra == \"gcp\"->apache-beam[gcp]==2.9.0)\n",
      "  Downloading https://files.pythonhosted.org/packages/9b/28/f26f67381cb23e81271b8d66c00a846ad9d25a909ae1ae1df8222fad2744/grpc-google-iam-v1-0.11.4.tar.gz\n",
      "Requirement already satisfied: googleapis-common-protos<2.0dev,>=1.5.0 in /usr/local/envs/py2env/lib/python2.7/site-packages (from proto-google-cloud-datastore-v1<=0.90.4,>=0.90.0; extra == \"gcp\"->apache-beam[gcp]==2.9.0) (1.5.10)\n",
      "Collecting fasteners>=0.14 (from google-apitools<=0.5.24,>=0.5.23; extra == \"gcp\"->apache-beam[gcp]==2.9.0)\n",
      "  Downloading https://files.pythonhosted.org/packages/18/bd/55eb2d6397b9c0e263af9d091ebdb756b15756029b3cededf6461481bc63/fasteners-0.15-py2.py3-none-any.whl\n",
      "Requirement already satisfied: google-resumable-media>=0.2.1 in /usr/local/envs/py2env/lib/python2.7/site-packages (from google-cloud-bigquery<1.7.0,>=1.6.0; extra == \"gcp\"->apache-beam[gcp]==2.9.0) (0.3.2)\n",
      "Requirement already satisfied: google-cloud-core<0.30dev,>=0.28.0 in /usr/local/envs/py2env/lib/python2.7/site-packages (from google-cloud-bigquery<1.7.0,>=1.6.0; extra == \"gcp\"->apache-beam[gcp]==2.9.0) (0.28.1)\n",
      "Requirement already satisfied: ordereddict in /usr/local/envs/py2env/lib/python2.7/site-packages (from funcsigs>=1->mock<3.0.0,>=1.0.1->apache-beam[gcp]==2.9.0) (1.1)\n",
      "Requirement already satisfied: chardet<3.1.0,>=3.0.2 in /usr/local/envs/py2env/lib/python2.7/site-packages (from requests>=2.7.0->hdfs<3.0.0,>=2.1.0->apache-beam[gcp]==2.9.0) (3.0.4)\n",
      "Requirement already satisfied: idna<2.7,>=2.5 in /usr/local/envs/py2env/lib/python2.7/site-packages (from requests>=2.7.0->hdfs<3.0.0,>=2.1.0->apache-beam[gcp]==2.9.0) (2.6)\n",
      "Requirement already satisfied: urllib3<1.23,>=1.21.1 in /usr/local/envs/py2env/lib/python2.7/site-packages (from requests>=2.7.0->hdfs<3.0.0,>=2.1.0->apache-beam[gcp]==2.9.0) (1.22)\n",
      "Requirement already satisfied: certifi>=2017.4.17 in /usr/local/envs/py2env/lib/python2.7/site-packages (from requests>=2.7.0->hdfs<3.0.0,>=2.1.0->apache-beam[gcp]==2.9.0) (2019.6.16)\n",
      "Requirement already satisfied: google-auth<2.0.0dev,>=0.4.0 in /usr/local/envs/py2env/lib/python2.7/site-packages (from google-api-core[grpc]<2.0.0dev,>=0.1.3->google-cloud-pubsub==0.35.4; extra == \"gcp\"->apache-beam[gcp]==2.9.0) (1.6.3)\n",
      "Collecting monotonic>=0.1 (from fasteners>=0.14->google-apitools<=0.5.24,>=0.5.23; extra == \"gcp\"->apache-beam[gcp]==2.9.0)\n",
      "  Downloading https://files.pythonhosted.org/packages/ac/aa/063eca6a416f397bd99552c534c6d11d57f58f2e94c14780f3bbf818c4cf/monotonic-1.5-py2.py3-none-any.whl\n",
      "Requirement already satisfied: cachetools>=2.0.0 in /usr/local/envs/py2env/lib/python2.7/site-packages (from google-auth<2.0.0dev,>=0.4.0->google-api-core[grpc]<2.0.0dev,>=0.1.3->google-cloud-pubsub==0.35.4; extra == \"gcp\"->apache-beam[gcp]==2.9.0) (2.1.0)\n",
      "Building wheels for collected packages: pydot, httplib2, pyvcf, docopt, grpc-google-iam-v1\n",
      "  Running setup.py bdist_wheel for pydot: started\n",
      "  Running setup.py bdist_wheel for pydot: finished with status 'done'\n",
      "  Stored in directory: /content/.cache/pip/wheels/6a/a5/14/25541ebcdeaf97a37b6d05c7ff15f5bd20f5e91b99d313e5b4\n",
      "  Running setup.py bdist_wheel for httplib2: started\n",
      "  Running setup.py bdist_wheel for httplib2: finished with status 'done'\n",
      "  Stored in directory: /content/.cache/pip/wheels/1b/9c/9e/1f6fdb21dbb1fe6a99101d697f12cb8c1fa96c1587df69adba\n",
      "  Running setup.py bdist_wheel for pyvcf: started\n",
      "  Running setup.py bdist_wheel for pyvcf: finished with status 'done'\n",
      "  Stored in directory: /content/.cache/pip/wheels/81/91/41/3272543c0b9c61da9c525f24ee35bae6fe8f60d4858c66805d\n",
      "  Running setup.py bdist_wheel for docopt: started\n",
      "  Running setup.py bdist_wheel for docopt: finished with status 'done'\n",
      "  Stored in directory: /content/.cache/pip/wheels/9b/04/dd/7daf4150b6d9b12949298737de9431a324d4b797ffd63f526e\n",
      "  Running setup.py bdist_wheel for grpc-google-iam-v1: started\n",
      "  Running setup.py bdist_wheel for grpc-google-iam-v1: finished with status 'done'\n",
      "  Stored in directory: /content/.cache/pip/wheels/b6/c6/31/c20321a5a3fde456fc375b7c2814135e6e98bc0d74c40239d9\n",
      "Successfully built pydot httplib2 pyvcf docopt grpc-google-iam-v1\n",
      "Installing collected packages: pydot, httplib2, typing, fastavro, pyvcf, docopt, hdfs, pytz, grpc-google-iam-v1, google-cloud-pubsub, monotonic, fasteners, google-apitools, google-cloud-bigquery, apache-beam\n",
      "  Found existing installation: httplib2 0.13.0\n",
      "    Uninstalling httplib2-0.13.0:\n",
      "      Successfully uninstalled httplib2-0.13.0\n",
      "  Found existing installation: pytz 2019.1\n",
      "    Uninstalling pytz-2019.1:\n",
      "      Successfully uninstalled pytz-2019.1\n",
      "  Found existing installation: google-apitools 0.5.10\n",
      "    Uninstalling google-apitools-0.5.10:\n",
      "      Successfully uninstalled google-apitools-0.5.10\n",
      "  Found existing installation: google-cloud-bigquery 0.23.0\n",
      "    Uninstalling google-cloud-bigquery-0.23.0:\n",
      "      Successfully uninstalled google-cloud-bigquery-0.23.0\n",
      "Successfully installed apache-beam-2.9.0 docopt-0.6.2 fastavro-0.21.24 fasteners-0.15 google-apitools-0.5.24 google-cloud-bigquery-1.6.1 google-cloud-pubsub-0.35.4 grpc-google-iam-v1-0.11.4 hdfs-2.5.7 httplib2-0.11.3 monotonic-1.5 pydot-1.2.4 pytz-2018.4 pyvcf-0.6.8 typing-3.6.6\n"
     ]
    },
    {
     "name": "stderr",
     "output_type": "stream",
     "text": [
      "Skipping google-cloud-dataflow as it is not installed.\n",
      "google-cloud-bigquery 1.6.1 has requirement google-api-core<2.0.0dev,>=1.0.0, but you'll have google-api-core 0.1.4 which is incompatible.\n",
      "googledatastore 7.0.1 has requirement httplib2<0.10,>=0.9.1, but you'll have httplib2 0.11.3 which is incompatible.\n"
     ]
    }
   ],
   "source": [
    "%%bash\n",
    "conda update -y -n base -c defaults conda\n",
    "source activate py2env\n",
    "pip uninstall -y google-cloud-dataflow\n",
    "conda install -y pytz \n",
    "pip install apache-beam[gcp]==2.9.0"
   ]
  },
  {
   "cell_type": "markdown",
   "metadata": {},
   "source": [
    "**After doing a pip install, you have to reload the session so that the new packages are picked up.  Please click on the reload button in the above menu.**"
   ]
  },
  {
   "cell_type": "code",
   "execution_count": 2,
   "metadata": {},
   "outputs": [
    {
     "name": "stderr",
     "output_type": "stream",
     "text": [
      "/usr/local/envs/py2env/lib/python2.7/site-packages/h5py/__init__.py:36: FutureWarning: Conversion of the second argument of issubdtype from `float` to `np.floating` is deprecated. In future, it will be treated as `np.float64 == np.dtype(float).type`.\n",
      "  from ._conv import register_converters as _register_converters\n"
     ]
    },
    {
     "name": "stdout",
     "output_type": "stream",
     "text": [
      "1.8.0\n"
     ]
    }
   ],
   "source": [
    "import tensorflow as tf\n",
    "import apache_beam as beam\n",
    "import shutil\n",
    "print(tf.__version__)"
   ]
  },
  {
   "cell_type": "markdown",
   "metadata": {},
   "source": [
    "<h2> 1. Environment variables for project and bucket </h2>\n",
    "\n",
    "<li> Your project id is the *unique* string that identifies your project (not the project name). You can find this from the GCP Console dashboard's Home page.  My dashboard reads:  <b>Project ID:</b> cloud-training-demos </li>\n",
    "<li> Cloud training often involves saving and restoring model files. Therefore, we should <b>create a single-region bucket</b>. If you don't have a bucket already, I suggest that you create one from the GCP console (because it will dynamically check whether the bucket name you want is available) </li>\n",
    "</ol>\n",
    "<b>Change the cell below</b> to reflect your Project ID and bucket name.\n"
   ]
  },
  {
   "cell_type": "code",
   "execution_count": 3,
   "metadata": {},
   "outputs": [],
   "source": [
    "import os\n",
    "PROJECT = 'qwiklabs-gcp-62f8ff21064dedde'    # CHANGE THIS\n",
    "BUCKET = 'qwiklabs-gcp-62f8ff21064dedde' # REPLACE WITH YOUR BUCKET NAME. Use a regional bucket in the region you selected.\n",
    "REGION = 'us-east1' # Choose an available region for Cloud MLE from https://cloud.google.com/ml-engine/docs/regions."
   ]
  },
  {
   "cell_type": "code",
   "execution_count": 4,
   "metadata": {},
   "outputs": [],
   "source": [
    "# for bash\n",
    "os.environ['PROJECT'] = PROJECT\n",
    "os.environ['BUCKET'] = BUCKET\n",
    "os.environ['REGION'] = REGION\n",
    "os.environ['TFVERSION'] = '1.8' \n",
    "\n",
    "## ensure we're using python2 env\n",
    "os.environ['CLOUDSDK_PYTHON'] = 'python2'"
   ]
  },
  {
   "cell_type": "code",
   "execution_count": 5,
   "metadata": {},
   "outputs": [
    {
     "name": "stderr",
     "output_type": "stream",
     "text": [
      "\n",
      "\n",
      "Your current Cloud SDK version is: 249.0.0\n",
      "You will be upgraded to version: 252.0.0\n",
      "\n",
      "+---------------------------------------------------------+\n",
      "|            These components will be updated.            |\n",
      "+---------------------------------+------------+----------+\n",
      "|               Name              |  Version   |   Size   |\n",
      "+---------------------------------+------------+----------+\n",
      "| Cloud SDK Core Libraries        | 2019.06.21 | 10.8 MiB |\n",
      "| Cloud Storage Command Line Tool |       4.39 |  3.6 MiB |\n",
      "+---------------------------------+------------+----------+\n",
      "\n",
      "The following release notes are new in this upgrade.\n",
      "Please read carefully for information about new features, breaking changes,\n",
      "and bugs fixed.  The latest full release notes can be viewed at:\n",
      "  https://cloud.google.com/sdk/release_notes\n",
      "\n",
      "252.0.0 (2019-06-25)\n",
      "  Breaking Changes\n",
      "      o **(Compute Engine)** Removed --network-interface from gcloud beta\n",
      "        compute start-iap-tunnel.\n",
      "\n",
      "  Cloud SDK\n",
      "      o Fixed issue where the Cloud SDK failed to install on Windows if the\n",
      "        install path contained exclamation point characters.\n",
      "\n",
      "  Cloud Data Catalog\n",
      "      o Added gcloud <alpha|beta> data-catalog <tags|tag-templates> to manage\n",
      "        tags and tag templates in Cloud Data Catalog.\n",
      "      o Added gcloud <alpha|beta> data-catalog search to search Cloud Data\n",
      "        Catalog resources.\n",
      "\n",
      "  Cloud Datalab\n",
      "      o Updated datalab component to the 20190610 release. Released changes\n",
      "        are documented in its tracking issue at\n",
      "        https://github.com/googledatalab/datalab/issues/2144\n",
      "        (https://github.com/googledatalab/datalab/issues/2144).\n",
      "\n",
      "  Cloud Functions\n",
      "      o Promoted gcloud functions\n",
      "        <add-iam-policy-binding|get-iam-policy|remove-iam-policy-binding|set-iam-policy>\n",
      "        to beta.\n",
      "      o Promoted --max-instances and --clear-max-instances flags of gcloud\n",
      "        functions deploy to GA.\n",
      "\n",
      "  Cloud Pub/Sub\n",
      "      o Promoted gcloud labels functionality to GA for topics and\n",
      "        subscriptions. These features allow users to create resource labels, or\n",
      "        update existing resource labels. The label features now live on the\n",
      "        following commands:\n",
      "        * gcloud pubsub topics create\n",
      "        * gcloud pubsub topics update\n",
      "        * gcloud pubsub subscriptions create\n",
      "        * gcloud pubsub subscriptions update\n",
      "\n",
      "  Cloud Storage\n",
      "    *\n",
      "      o Updated gsutil component to 4.39.\n",
      "\n",
      "  Compute Engine\n",
      "      o Promoted --allow-global-access flag of gcloud compute\n",
      "        forwarding-rules <create|update> to beta.\n",
      "      o Promoted --source-snapshot flag of gcloud compute instances create to\n",
      "        GA.\n",
      "      o Promoted source-snapshot option of --create-disk flag of gcloud\n",
      "        compute instances create to GA.\n",
      "      o update-instances command (gcloud beta compute instance-groups managed\n",
      "        update-instances) is now available in beta.\n",
      "      o Added gcloud beta compute reservations <get|set>-iam-policy and\n",
      "        gcloud beta compute reservations <add|remove>-iam-policy-binding.\n",
      "\n",
      "  Kubernetes Engine\n",
      "      o Promoted --identity-namespace and --disable-workload-identity flags\n",
      "        of gcloud container clusters <create|update> to beta. These flags\n",
      "        control Workload Identity, which lets Kubernetes service accounts act\n",
      "        as Google service accounts. For more information, see\n",
      "        <https://cloud.google.com/kubernetes-engine/docs/how-to/workload-identity>.\n",
      "\n",
      "    Subscribe to these release notes at\n",
      "    https://groups.google.com/forum/#!forum/google-cloud-sdk-announce\n",
      "    (https://groups.google.com/forum/#!forum/google-cloud-sdk-announce).\n",
      "\n",
      "251.0.0 (2019-06-18)\n",
      "  Breaking Changes\n",
      "      o **(Compute Engine)** Commands under the following command groups now\n",
      "        require either a --global or --region flag:\n",
      "        * gcloud beta compute target-http-proxies\n",
      "        * gcloud beta compute target-https-proxies\n",
      "        * gcloud beta compute url-maps\n",
      "        * gcloud beta compute health-checks\n",
      "      o **(Kubernetes Engine)** Modified Kubernetes Engine cluster creation\n",
      "        such that new clusters now come up in VPC-native (IP Alias enabled)\n",
      "        mode by default. Use --[no-]enable-ip-alias flag for the old,\n",
      "        non-default behavior (Routes mode).\n",
      "\n",
      "  Cloud Bigtable\n",
      "      o Fixed Latin-1 regex filters, allowing \\C.\n",
      "      o Exposed PassAllFilter.\n",
      "\n",
      "  Cloud Dataproc\n",
      "      o Added --kerberos-root-principal-password-uri, --kerberos-kms-key, and\n",
      "        --kerberos-config-file flags to gcloud dataproc clusters create and\n",
      "        gcloud dataproc workflow-templates set-managed-cluster.\n",
      "\n",
      "  Cloud Firestore Emulator\n",
      "      o Released Cloud Firestore emulator v1.5.0.\n",
      "        * Fixed bug where property paths with special characters would cause\n",
      "          errors due to ClassNotFound exceptions.\n",
      "        * Fixed bug where auto-id allocation only worked once per collection.\n",
      "        * Added REST API to set security rules.\n",
      "\n",
      "  Cloud Key Management Service\n",
      "      o Fixed issue where gcloud kms decrypt would crash when decrypting an\n",
      "        empty encrypted file.\n",
      "\n",
      "  Cloud Run\n",
      "      o Added --platform flag and its respective run/platform property to all\n",
      "        commands in gcloud beta run. This argument is optional but will be\n",
      "        required in a future release of the gcloud command-line tool.\n",
      "      o Added support for connecting to clusters defined in a kubeconfig\n",
      "        file. Specify --platform kubernetes or run/platform kubernetes to use.\n",
      "        Optionally, use --kubeconfig to specify a kubeconfig file and --context\n",
      "        to specify a connection context.\n",
      "\n",
      "  Compute Engine\n",
      "      o Added support for regional variants of the following resources in\n",
      "        beta:\n",
      "        * gcloud beta compute health-checks\n",
      "        * gcloud beta compute url-maps\n",
      "        * gcloud beta compute target-http-proxies\n",
      "        * gcloud beta compute target-https-proxies\n",
      "      o Added INTERNAL_MANAGED as an option for --load-balancing-scheme to\n",
      "        the following commands:\n",
      "        * gcloud beta compute forwarding-rules create.\n",
      "        * gcloud beta compute backend-services create.\n",
      "\n",
      "  Kubernetes Engine\n",
      "      o Promoted resource usage export to GA. Use\n",
      "        --resource-usage-bigquery-dataset with gcloud container clusters create\n",
      "        or gcloud container clusters update to enable this feature.\n",
      "      o Migrated the Occurrence type created by gcloud beta container\n",
      "        binauthz attestations create from PgpSignedAttestation to\n",
      "        GenericSignedAttestation.\n",
      "        * If you were signing JSON not generated by binauthz\n",
      "          create-signature-payload, you **must** now provide this JSON as\n",
      "          --payload-file when creating the Attestation.\n",
      "\n",
      "    Subscribe to these release notes at\n",
      "    https://groups.google.com/forum/#!forum/google-cloud-sdk-announce\n",
      "    (https://groups.google.com/forum/#!forum/google-cloud-sdk-announce).\n",
      "\n",
      "250.0.0 (2019-06-11)\n",
      "  Breaking Changes\n",
      "      o **(Compute Engine)** Modified gcloud compute networks update\n",
      "        --switch-to-custom-subnet-mode to poll and wait for operation to finish\n",
      "        instead of returning immediately. Please use --async flag to reproduce\n",
      "        the previous behavior of returning immediately.\n",
      "\n",
      "  Cloud SDK\n",
      "      o Added core/disable_file_logging property to prevent the gcloud\n",
      "        command-line tool from storing logs to a file. This may be useful if\n",
      "        disk space is limited. To set this property, run gcloud config set\n",
      "        core/disable_file_logging True.\n",
      "\n",
      "  App Engine\n",
      "      o Updated the Python SDK to version 1.9.86. For more details, see\n",
      "        <https://cloud.google.com/appengine/docs/python/release-notes>.\n",
      "      o Updated the Java SDK to version 1.9.75. For more details, see\n",
      "        <https://cloud.google.com/appengine/docs/java/release-notes>.\n",
      "\n",
      "  Cloud Functions\n",
      "      o Added --clear-vpc-connector flag to gcloud beta functions deploy.\n",
      "\n",
      "  Cloud Key Management Service\n",
      "      o Promoted the following commands to GA.\n",
      "        * gcloud kms asymmetric-decrypt.\n",
      "        * gcloud kms asymmetric-sign.\n",
      "        * gcloud kms keys versions get-public-key.\n",
      "      o Promoted the following flags in gcloud kms keys command group to GA.\n",
      "        * --attestation-file.\n",
      "        * --default-algorithm.\n",
      "        * --purpose.\n",
      "        * --protection-level.\n",
      "\n",
      "  Cloud Memorystore\n",
      "      o Added gcloud beta redis instances <import|export> to import data to\n",
      "        or export data from a Memorystore Redis instance from or to Google\n",
      "        Cloud Storage.\n",
      "      o Added gcloud beta redis operations cancel to cancel a Memorystore\n",
      "        Redis import or export operation.\n",
      "\n",
      "  Cloud Pub/Sub\n",
      "      o Added the following optional flags to gcloud beta pubsub topics\n",
      "        create to support Cloud KMS integration:\n",
      "        * --topic-encryption-key\n",
      "        * --topic-encryption-key-keyring\n",
      "        * --topic-encryption-key-location\n",
      "        * --topic-encryption-key-project\n",
      "\n",
      "  Cloud Run\n",
      "      o Promoted --service-account flag of gcloud run deploy and gcloud run\n",
      "        services update to beta.\n",
      "\n",
      "  Compute Engine\n",
      "      o Promoted gcloud compute instances create --source-snapshot flag to\n",
      "        beta.\n",
      "      o Promote INTERNAL_SELF_MANAGED value of --load-balancing-scheme in\n",
      "        gcloud compute backend-services create and gcloud compute\n",
      "        forwarding-rules create to GA.\n",
      "      o Modified gcloud compute backend-services create and gcloud compute\n",
      "        backend-services update to allow toggling logging for backend services\n",
      "        with HTTP2 protocol.\n",
      "      o Promoted --server-binding flag of gcloud compute sole-tenancy\n",
      "        node-templates create to GA.\n",
      "      o Promoted --enable-logging and --log-filter flags of gcloud compute\n",
      "        routers nats to GA.\n",
      "\n",
      "  Kubernetes Engine\n",
      "      o Promoted Stackdriver Kubernetes Engine Monitoring to GA. Use\n",
      "        --enable-stackdriver-kubernetes with gcloud container clusters create\n",
      "        or gcloud container clusters update to enable this feature.\n",
      "      o Updated several flag names in gcloud beta container binauthz that\n",
      "        assumed PGP as the only supported key type.\n",
      "\n",
      "    Subscribe to these release notes at\n",
      "    https://groups.google.com/forum/#!forum/google-cloud-sdk-announce\n",
      "    (https://groups.google.com/forum/#!forum/google-cloud-sdk-announce).\n",
      "\n",
      "Do you want to continue (Y/n)?  \n",
      "#============================================================#\n",
      "#= Creating update staging area                             =#\n",
      "#============================================================#\n",
      "#= Uninstalling: Cloud SDK Core Libraries                   =#\n",
      "#============================================================#\n",
      "#= Uninstalling: Cloud Storage Command Line Tool            =#\n",
      "#============================================================#\n",
      "#= Installing: Cloud SDK Core Libraries                     =#\n",
      "#============================================================#\n",
      "#= Installing: Cloud Storage Command Line Tool              =#\n",
      "#============================================================#\n",
      "#= Creating backup and activating new installation          =#\n",
      "#============================================================#\n",
      "\n",
      "Performing post processing steps...\n",
      "..................................done.\n",
      "\n",
      "Update done!\n",
      "\n",
      "To revert your SDK to the previously installed version, you may run:\n",
      "  $ gcloud components update --version 249.0.0\n",
      "\n"
     ]
    }
   ],
   "source": [
    "%%bash\n",
    "## ensure gcloud is up to date\n",
    "gcloud components update\n",
    "\n",
    "gcloud config set project $PROJECT\n",
    "gcloud config set compute/region $REGION\n",
    "\n",
    "## ensure we predict locally with our current Python environment\n",
    "gcloud config set ml_engine/local_python `which python`"
   ]
  },
  {
   "cell_type": "markdown",
   "metadata": {},
   "source": [
    "<h2> 2. Specifying query to pull the data </h2>\n",
    "\n",
    "Let's pull out a few extra columns from the timestamp."
   ]
  },
  {
   "cell_type": "code",
   "execution_count": 6,
   "metadata": {},
   "outputs": [
    {
     "name": "stdout",
     "output_type": "stream",
     "text": [
      "\n",
      "SELECT\n",
      "  (tolls_amount + fare_amount) AS fare_amount,\n",
      "  DAYOFWEEK(pickup_datetime) AS dayofweek,\n",
      "  HOUR(pickup_datetime) AS hourofday,\n",
      "  pickup_longitude AS pickuplon,\n",
      "  pickup_latitude AS pickuplat,\n",
      "  dropoff_longitude AS dropofflon,\n",
      "  dropoff_latitude AS dropofflat,\n",
      "  passenger_count*1.0 AS passengers,\n",
      "  CONCAT(STRING(pickup_datetime), STRING(pickup_longitude), STRING(pickup_latitude), STRING(dropoff_latitude), STRING(dropoff_longitude)) AS key\n",
      "FROM\n",
      "  [nyc-tlc:yellow.trips]\n",
      "WHERE\n",
      "  trip_distance > 0\n",
      "  AND fare_amount >= 2.5\n",
      "  AND pickup_longitude > -78\n",
      "  AND pickup_longitude < -70\n",
      "  AND dropoff_longitude > -78\n",
      "  AND dropoff_longitude < -70\n",
      "  AND pickup_latitude > 37\n",
      "  AND pickup_latitude < 45\n",
      "  AND dropoff_latitude > 37\n",
      "  AND dropoff_latitude < 45\n",
      "  AND passenger_count > 0\n",
      "   AND ABS(HASH(pickup_datetime)) % 100 == 2\n"
     ]
    }
   ],
   "source": [
    "def create_query(phase, EVERY_N):\n",
    "  if EVERY_N == None:\n",
    "    EVERY_N = 4 #use full dataset\n",
    "    \n",
    "  #select and pre-process fields\n",
    "  base_query = \"\"\"\n",
    "SELECT\n",
    "  (tolls_amount + fare_amount) AS fare_amount,\n",
    "  DAYOFWEEK(pickup_datetime) AS dayofweek,\n",
    "  HOUR(pickup_datetime) AS hourofday,\n",
    "  pickup_longitude AS pickuplon,\n",
    "  pickup_latitude AS pickuplat,\n",
    "  dropoff_longitude AS dropofflon,\n",
    "  dropoff_latitude AS dropofflat,\n",
    "  passenger_count*1.0 AS passengers,\n",
    "  CONCAT(STRING(pickup_datetime), STRING(pickup_longitude), STRING(pickup_latitude), STRING(dropoff_latitude), STRING(dropoff_longitude)) AS key\n",
    "FROM\n",
    "  [nyc-tlc:yellow.trips]\n",
    "WHERE\n",
    "  trip_distance > 0\n",
    "  AND fare_amount >= 2.5\n",
    "  AND pickup_longitude > -78\n",
    "  AND pickup_longitude < -70\n",
    "  AND dropoff_longitude > -78\n",
    "  AND dropoff_longitude < -70\n",
    "  AND pickup_latitude > 37\n",
    "  AND pickup_latitude < 45\n",
    "  AND dropoff_latitude > 37\n",
    "  AND dropoff_latitude < 45\n",
    "  AND passenger_count > 0\n",
    "  \"\"\"\n",
    "  \n",
    "  #add subsampling criteria by modding with hashkey\n",
    "  if phase == 'train': \n",
    "    query = \"{} AND ABS(HASH(pickup_datetime)) % {} < 2\".format(base_query,EVERY_N)\n",
    "  elif phase == 'valid': \n",
    "    query = \"{} AND ABS(HASH(pickup_datetime)) % {} == 2\".format(base_query,EVERY_N)\n",
    "  elif phase == 'test':\n",
    "    query = \"{} AND ABS(HASH(pickup_datetime)) % {} == 3\".format(base_query,EVERY_N)\n",
    "  return query\n",
    "    \n",
    "print(create_query('valid', 100)) #example query using 1% of data"
   ]
  },
  {
   "cell_type": "markdown",
   "metadata": {},
   "source": [
    "Try the query above in https://bigquery.cloud.google.com/table/nyc-tlc:yellow.trips if you want to see what it does (ADD LIMIT 10 to the query!)"
   ]
  },
  {
   "cell_type": "markdown",
   "metadata": {},
   "source": [
    "<h2> 3. Preprocessing Dataflow job from BigQuery </h2>\n",
    "\n",
    "This code reads from BigQuery and saves the data as-is on Google Cloud Storage.  We can do additional preprocessing and cleanup inside Dataflow, but then we'll have to remember to repeat that prepreprocessing during inference. It is better to use tf.transform which will do this book-keeping for you, or to do preprocessing within your TensorFlow model. We will look at this in future notebooks. For now, we are simply moving data from BigQuery to CSV using Dataflow.\n",
    "\n",
    "While we could read from BQ directly from TensorFlow (See: https://www.tensorflow.org/api_docs/python/tf/contrib/cloud/BigQueryReader), it is quite convenient to export to CSV and do the training off CSV.  Let's use Dataflow to do this at scale.\n",
    "\n",
    "Because we are running this on the Cloud, you should go to the GCP Console (https://console.cloud.google.com/dataflow) to look at the status of the job. It will take several minutes for the preprocessing job to launch."
   ]
  },
  {
   "cell_type": "code",
   "execution_count": 7,
   "metadata": {},
   "outputs": [],
   "source": [
    "%%bash\n",
    "if gsutil ls | grep -q gs://${BUCKET}/taxifare/ch4/taxi_preproc/; then\n",
    "  gsutil -m rm -rf gs://$BUCKET/taxifare/ch4/taxi_preproc/\n",
    "fi"
   ]
  },
  {
   "cell_type": "markdown",
   "metadata": {},
   "source": [
    "First, let's define a function for preprocessing the data"
   ]
  },
  {
   "cell_type": "code",
   "execution_count": 8,
   "metadata": {},
   "outputs": [],
   "source": [
    "import datetime\n",
    "\n",
    "####\n",
    "# Arguments:\n",
    "#   -rowdict: Dictionary. The beam bigquery reader returns a PCollection in\n",
    "#     which each row is represented as a python dictionary\n",
    "# Returns:\n",
    "#   -rowstring: a comma separated string representation of the record with dayofweek\n",
    "#     converted from int to string (e.g. 3 --> Tue)\n",
    "####\n",
    "def to_csv(rowdict):\n",
    "  days = ['null', 'Sun', 'Mon', 'Tue', 'Wed', 'Thu', 'Fri', 'Sat']\n",
    "  CSV_COLUMNS = 'fare_amount,dayofweek,hourofday,pickuplon,pickuplat,dropofflon,dropofflat,passengers,key'.split(',')\n",
    "  rowdict['dayofweek'] = days[rowdict['dayofweek']]\n",
    "  rowstring = ','.join([str(rowdict[k]) for k in CSV_COLUMNS])\n",
    "  return rowstring\n",
    "\n",
    "\n",
    "####\n",
    "# Arguments:\n",
    "#   -EVERY_N: Integer. Sample one out of every N rows from the full dataset.\n",
    "#     Larger values will yield smaller sample\n",
    "#   -RUNNER: 'DirectRunner' or 'DataflowRunner'. Specfy to run the pipeline\n",
    "#     locally or on Google Cloud respectively. \n",
    "# Side-effects:\n",
    "#   -Creates and executes dataflow pipeline. \n",
    "#     See https://beam.apache.org/documentation/programming-guide/#creating-a-pipeline\n",
    "####\n",
    "def preprocess(EVERY_N, RUNNER):\n",
    "  job_name = 'preprocess-taxifeatures' + '-' + datetime.datetime.now().strftime('%y%m%d-%H%M%S')\n",
    "  print('Launching Dataflow job {} ... hang on'.format(job_name))\n",
    "  OUTPUT_DIR = 'gs://{0}/taxifare/ch4/taxi_preproc/'.format(BUCKET)\n",
    "\n",
    "  #dictionary of pipeline options\n",
    "  options = {\n",
    "    'staging_location': os.path.join(OUTPUT_DIR, 'tmp', 'staging'),\n",
    "    'temp_location': os.path.join(OUTPUT_DIR, 'tmp'),\n",
    "    'job_name': 'preprocess-taxifeatures' + '-' + datetime.datetime.now().strftime('%y%m%d-%H%M%S'),\n",
    "    'project': PROJECT,\n",
    "    'runner': RUNNER\n",
    "  }\n",
    "  #instantiate PipelineOptions object using options dictionary\n",
    "  opts = beam.pipeline.PipelineOptions(flags=[], **options)\n",
    "  #instantantiate Pipeline object using PipelineOptions\n",
    "  with beam.Pipeline(options=opts) as p:\n",
    "      for phase in ['train', 'valid']:\n",
    "        query = create_query(phase, EVERY_N) \n",
    "        outfile = os.path.join(OUTPUT_DIR, '{}.csv'.format(phase))\n",
    "        (\n",
    "          p | 'read_{}'.format(phase) >> beam.io.Read(beam.io.BigQuerySource(query=query))\n",
    "            | 'tocsv_{}'.format(phase) >> beam.Map(to_csv)\n",
    "            | 'write_{}'.format(phase) >> beam.io.Write(beam.io.WriteToText(outfile))\n",
    "        )\n",
    "  print(\"Done\")"
   ]
  },
  {
   "cell_type": "markdown",
   "metadata": {},
   "source": [
    "Now, let's run pipeline locally. This takes upto <b>5 minutes</b>.  You will see a message \"Done\" when it is done."
   ]
  },
  {
   "cell_type": "code",
   "execution_count": 9,
   "metadata": {},
   "outputs": [
    {
     "name": "stdout",
     "output_type": "stream",
     "text": [
      "Launching Dataflow job preprocess-taxifeatures-190702-012039 ... hang on\n"
     ]
    },
    {
     "name": "stderr",
     "output_type": "stream",
     "text": [
      "/usr/local/envs/py2env/lib/python2.7/site-packages/apache_beam/runners/direct/direct_runner.py:365: BeamDeprecationWarning: options is deprecated since First stable release. References to <pipeline>.options will not be supported\n",
      "  pipeline.replace_all(_get_transform_overrides(pipeline.options))\n",
      "/usr/local/envs/py2env/lib/python2.7/site-packages/oauth2client/contrib/gce.py:99: UserWarning: You have requested explicit scopes to be used with a GCE service account.\n",
      "Using this argument will have no effect on the actual scopes for tokens\n",
      "requested. These scopes are set at VM instance creation time and\n",
      "can't be overridden in the request.\n",
      "\n",
      "  warnings.warn(_SCOPES_WARNING)\n",
      "WARNING:root:Dataset qwiklabs-gcp-62f8ff21064dedde:temp_dataset_4057fcae6a60436ca6a7124e0d1c46e6 does not exist so we will create it as temporary with location=US\n",
      "WARNING:root:Dataset qwiklabs-gcp-62f8ff21064dedde:temp_dataset_37cfa24926d54ef294a840a266beeca6 does not exist so we will create it as temporary with location=US\n"
     ]
    },
    {
     "name": "stdout",
     "output_type": "stream",
     "text": [
      "Done\n"
     ]
    }
   ],
   "source": [
    "preprocess(50*10000, 'DirectRunner') "
   ]
  },
  {
   "cell_type": "code",
   "execution_count": 10,
   "metadata": {},
   "outputs": [
    {
     "name": "stdout",
     "output_type": "stream",
     "text": [
      "gs://qwiklabs-gcp-62f8ff21064dedde/taxifare/ch4/taxi_preproc/train.csv-00000-of-00005\n",
      "gs://qwiklabs-gcp-62f8ff21064dedde/taxifare/ch4/taxi_preproc/train.csv-00001-of-00005\n",
      "gs://qwiklabs-gcp-62f8ff21064dedde/taxifare/ch4/taxi_preproc/train.csv-00002-of-00005\n",
      "gs://qwiklabs-gcp-62f8ff21064dedde/taxifare/ch4/taxi_preproc/train.csv-00003-of-00005\n",
      "gs://qwiklabs-gcp-62f8ff21064dedde/taxifare/ch4/taxi_preproc/train.csv-00004-of-00005\n",
      "gs://qwiklabs-gcp-62f8ff21064dedde/taxifare/ch4/taxi_preproc/valid.csv-00000-of-00002\n",
      "gs://qwiklabs-gcp-62f8ff21064dedde/taxifare/ch4/taxi_preproc/valid.csv-00001-of-00002\n"
     ]
    }
   ],
   "source": [
    "%%bash\n",
    "gsutil ls gs://$BUCKET/taxifare/ch4/taxi_preproc/"
   ]
  },
  {
   "cell_type": "markdown",
   "metadata": {},
   "source": [
    "## 4. Run Beam pipeline on Cloud Dataflow"
   ]
  },
  {
   "cell_type": "markdown",
   "metadata": {},
   "source": [
    "Run pipeline on cloud on a larger sample size."
   ]
  },
  {
   "cell_type": "code",
   "execution_count": 11,
   "metadata": {},
   "outputs": [],
   "source": [
    "%%bash\n",
    "if gsutil ls | grep -q gs://${BUCKET}/taxifare/ch4/taxi_preproc/; then\n",
    "  gsutil -m rm -rf gs://$BUCKET/taxifare/ch4/taxi_preproc/\n",
    "fi"
   ]
  },
  {
   "cell_type": "markdown",
   "metadata": {},
   "source": [
    "The following step will take <b>15-20 minutes.</b> Monitor job progress on the [Cloud Console, in the Dataflow](https://console.cloud.google.com/dataflow) section"
   ]
  },
  {
   "cell_type": "code",
   "execution_count": 12,
   "metadata": {},
   "outputs": [
    {
     "name": "stdout",
     "output_type": "stream",
     "text": [
      "Launching Dataflow job preprocess-taxifeatures-190702-012155 ... hang on\n"
     ]
    },
    {
     "name": "stderr",
     "output_type": "stream",
     "text": [
      "/usr/local/envs/py2env/lib/python2.7/site-packages/apache_beam/runners/dataflow/dataflow_runner.py:800: BeamDeprecationWarning: options is deprecated since First stable release. References to <pipeline>.options will not be supported\n",
      "  options = pbegin.pipeline.options.view_as(DebugOptions)\n"
     ]
    },
    {
     "ename": "ContextualVersionConflict",
     "evalue": "(httplib2 0.13.0 (/usr/local/envs/py2env/lib/python2.7/site-packages), Requirement.parse('httplib2<=0.11.3,>=0.8'), set(['apache-beam']))",
     "output_type": "error",
     "traceback": [
      "\u001b[0;31m\u001b[0m",
      "\u001b[0;31mContextualVersionConflict\u001b[0mTraceback (most recent call last)",
      "\u001b[0;32m<ipython-input-12-b4775e416971>\u001b[0m in \u001b[0;36m<module>\u001b[0;34m()\u001b[0m\n\u001b[0;32m----> 1\u001b[0;31m \u001b[0mpreprocess\u001b[0m\u001b[0;34m(\u001b[0m\u001b[0;36m50\u001b[0m\u001b[0;34m*\u001b[0m\u001b[0;36m100\u001b[0m\u001b[0;34m,\u001b[0m \u001b[0;34m'DataflowRunner'\u001b[0m\u001b[0;34m)\u001b[0m\u001b[0;34m\u001b[0m\u001b[0m\n\u001b[0m\u001b[1;32m      2\u001b[0m \u001b[0;31m#change first arg to None to preprocess full dataset\u001b[0m\u001b[0;34m\u001b[0m\u001b[0;34m\u001b[0m\u001b[0m\n",
      "\u001b[0;32m<ipython-input-8-0ab357cc98ce>\u001b[0m in \u001b[0;36mpreprocess\u001b[0;34m(EVERY_N, RUNNER)\u001b[0m\n\u001b[1;32m     50\u001b[0m           \u001b[0mp\u001b[0m \u001b[0;34m|\u001b[0m \u001b[0;34m'read_{}'\u001b[0m\u001b[0;34m.\u001b[0m\u001b[0mformat\u001b[0m\u001b[0;34m(\u001b[0m\u001b[0mphase\u001b[0m\u001b[0;34m)\u001b[0m \u001b[0;34m>>\u001b[0m \u001b[0mbeam\u001b[0m\u001b[0;34m.\u001b[0m\u001b[0mio\u001b[0m\u001b[0;34m.\u001b[0m\u001b[0mRead\u001b[0m\u001b[0;34m(\u001b[0m\u001b[0mbeam\u001b[0m\u001b[0;34m.\u001b[0m\u001b[0mio\u001b[0m\u001b[0;34m.\u001b[0m\u001b[0mBigQuerySource\u001b[0m\u001b[0;34m(\u001b[0m\u001b[0mquery\u001b[0m\u001b[0;34m=\u001b[0m\u001b[0mquery\u001b[0m\u001b[0;34m)\u001b[0m\u001b[0;34m)\u001b[0m\u001b[0;34m\u001b[0m\u001b[0m\n\u001b[1;32m     51\u001b[0m             \u001b[0;34m|\u001b[0m \u001b[0;34m'tocsv_{}'\u001b[0m\u001b[0;34m.\u001b[0m\u001b[0mformat\u001b[0m\u001b[0;34m(\u001b[0m\u001b[0mphase\u001b[0m\u001b[0;34m)\u001b[0m \u001b[0;34m>>\u001b[0m \u001b[0mbeam\u001b[0m\u001b[0;34m.\u001b[0m\u001b[0mMap\u001b[0m\u001b[0;34m(\u001b[0m\u001b[0mto_csv\u001b[0m\u001b[0;34m)\u001b[0m\u001b[0;34m\u001b[0m\u001b[0m\n\u001b[0;32m---> 52\u001b[0;31m             \u001b[0;34m|\u001b[0m \u001b[0;34m'write_{}'\u001b[0m\u001b[0;34m.\u001b[0m\u001b[0mformat\u001b[0m\u001b[0;34m(\u001b[0m\u001b[0mphase\u001b[0m\u001b[0;34m)\u001b[0m \u001b[0;34m>>\u001b[0m \u001b[0mbeam\u001b[0m\u001b[0;34m.\u001b[0m\u001b[0mio\u001b[0m\u001b[0;34m.\u001b[0m\u001b[0mWrite\u001b[0m\u001b[0;34m(\u001b[0m\u001b[0mbeam\u001b[0m\u001b[0;34m.\u001b[0m\u001b[0mio\u001b[0m\u001b[0;34m.\u001b[0m\u001b[0mWriteToText\u001b[0m\u001b[0;34m(\u001b[0m\u001b[0moutfile\u001b[0m\u001b[0;34m)\u001b[0m\u001b[0;34m)\u001b[0m\u001b[0;34m\u001b[0m\u001b[0m\n\u001b[0m\u001b[1;32m     53\u001b[0m         )\n\u001b[1;32m     54\u001b[0m   \u001b[0;32mprint\u001b[0m\u001b[0;34m(\u001b[0m\u001b[0;34m\"Done\"\u001b[0m\u001b[0;34m)\u001b[0m\u001b[0;34m\u001b[0m\u001b[0m\n",
      "\u001b[0;32m/usr/local/envs/py2env/lib/python2.7/site-packages/apache_beam/pipeline.pyc\u001b[0m in \u001b[0;36m__exit__\u001b[0;34m(self, exc_type, exc_val, exc_tb)\u001b[0m\n\u001b[1;32m    423\u001b[0m   \u001b[0;32mdef\u001b[0m \u001b[0m__exit__\u001b[0m\u001b[0;34m(\u001b[0m\u001b[0mself\u001b[0m\u001b[0;34m,\u001b[0m \u001b[0mexc_type\u001b[0m\u001b[0;34m,\u001b[0m \u001b[0mexc_val\u001b[0m\u001b[0;34m,\u001b[0m \u001b[0mexc_tb\u001b[0m\u001b[0;34m)\u001b[0m\u001b[0;34m:\u001b[0m\u001b[0;34m\u001b[0m\u001b[0m\n\u001b[1;32m    424\u001b[0m     \u001b[0;32mif\u001b[0m \u001b[0;32mnot\u001b[0m \u001b[0mexc_type\u001b[0m\u001b[0;34m:\u001b[0m\u001b[0;34m\u001b[0m\u001b[0m\n\u001b[0;32m--> 425\u001b[0;31m       \u001b[0mself\u001b[0m\u001b[0;34m.\u001b[0m\u001b[0mrun\u001b[0m\u001b[0;34m(\u001b[0m\u001b[0;34m)\u001b[0m\u001b[0;34m.\u001b[0m\u001b[0mwait_until_finish\u001b[0m\u001b[0;34m(\u001b[0m\u001b[0;34m)\u001b[0m\u001b[0;34m\u001b[0m\u001b[0m\n\u001b[0m\u001b[1;32m    426\u001b[0m \u001b[0;34m\u001b[0m\u001b[0m\n\u001b[1;32m    427\u001b[0m   \u001b[0;32mdef\u001b[0m \u001b[0mvisit\u001b[0m\u001b[0;34m(\u001b[0m\u001b[0mself\u001b[0m\u001b[0;34m,\u001b[0m \u001b[0mvisitor\u001b[0m\u001b[0;34m)\u001b[0m\u001b[0;34m:\u001b[0m\u001b[0;34m\u001b[0m\u001b[0m\n",
      "\u001b[0;32m/usr/local/envs/py2env/lib/python2.7/site-packages/apache_beam/pipeline.pyc\u001b[0m in \u001b[0;36mrun\u001b[0;34m(self, test_runner_api)\u001b[0m\n\u001b[1;32m    403\u001b[0m           \u001b[0mself\u001b[0m\u001b[0;34m.\u001b[0m\u001b[0mto_runner_api\u001b[0m\u001b[0;34m(\u001b[0m\u001b[0muse_fake_coders\u001b[0m\u001b[0;34m=\u001b[0m\u001b[0mTrue\u001b[0m\u001b[0;34m)\u001b[0m\u001b[0;34m,\u001b[0m\u001b[0;34m\u001b[0m\u001b[0m\n\u001b[1;32m    404\u001b[0m           \u001b[0mself\u001b[0m\u001b[0;34m.\u001b[0m\u001b[0mrunner\u001b[0m\u001b[0;34m,\u001b[0m\u001b[0;34m\u001b[0m\u001b[0m\n\u001b[0;32m--> 405\u001b[0;31m           self._options).run(False)\n\u001b[0m\u001b[1;32m    406\u001b[0m \u001b[0;34m\u001b[0m\u001b[0m\n\u001b[1;32m    407\u001b[0m     \u001b[0;32mif\u001b[0m \u001b[0mself\u001b[0m\u001b[0;34m.\u001b[0m\u001b[0m_options\u001b[0m\u001b[0;34m.\u001b[0m\u001b[0mview_as\u001b[0m\u001b[0;34m(\u001b[0m\u001b[0mTypeOptions\u001b[0m\u001b[0;34m)\u001b[0m\u001b[0;34m.\u001b[0m\u001b[0mruntime_type_check\u001b[0m\u001b[0;34m:\u001b[0m\u001b[0;34m\u001b[0m\u001b[0m\n",
      "\u001b[0;32m/usr/local/envs/py2env/lib/python2.7/site-packages/apache_beam/pipeline.pyc\u001b[0m in \u001b[0;36mrun\u001b[0;34m(self, test_runner_api)\u001b[0m\n\u001b[1;32m    416\u001b[0m       \u001b[0;32mfinally\u001b[0m\u001b[0;34m:\u001b[0m\u001b[0;34m\u001b[0m\u001b[0m\n\u001b[1;32m    417\u001b[0m         \u001b[0mshutil\u001b[0m\u001b[0;34m.\u001b[0m\u001b[0mrmtree\u001b[0m\u001b[0;34m(\u001b[0m\u001b[0mtmpdir\u001b[0m\u001b[0;34m)\u001b[0m\u001b[0;34m\u001b[0m\u001b[0m\n\u001b[0;32m--> 418\u001b[0;31m     \u001b[0;32mreturn\u001b[0m \u001b[0mself\u001b[0m\u001b[0;34m.\u001b[0m\u001b[0mrunner\u001b[0m\u001b[0;34m.\u001b[0m\u001b[0mrun_pipeline\u001b[0m\u001b[0;34m(\u001b[0m\u001b[0mself\u001b[0m\u001b[0;34m)\u001b[0m\u001b[0;34m\u001b[0m\u001b[0m\n\u001b[0m\u001b[1;32m    419\u001b[0m \u001b[0;34m\u001b[0m\u001b[0m\n\u001b[1;32m    420\u001b[0m   \u001b[0;32mdef\u001b[0m \u001b[0m__enter__\u001b[0m\u001b[0;34m(\u001b[0m\u001b[0mself\u001b[0m\u001b[0;34m)\u001b[0m\u001b[0;34m:\u001b[0m\u001b[0;34m\u001b[0m\u001b[0m\n",
      "\u001b[0;32m/usr/local/envs/py2env/lib/python2.7/site-packages/apache_beam/runners/dataflow/dataflow_runner.pyc\u001b[0m in \u001b[0;36mrun_pipeline\u001b[0;34m(self, pipeline)\u001b[0m\n\u001b[1;32m    392\u001b[0m     \u001b[0;31m# raise an exception.\u001b[0m\u001b[0;34m\u001b[0m\u001b[0;34m\u001b[0m\u001b[0m\n\u001b[1;32m    393\u001b[0m     result = DataflowPipelineResult(\n\u001b[0;32m--> 394\u001b[0;31m         self.dataflow_client.create_job(self.job), self)\n\u001b[0m\u001b[1;32m    395\u001b[0m \u001b[0;34m\u001b[0m\u001b[0m\n\u001b[1;32m    396\u001b[0m     \u001b[0;31m# TODO(BEAM-4274): Circular import runners-metrics. Requires refactoring.\u001b[0m\u001b[0;34m\u001b[0m\u001b[0;34m\u001b[0m\u001b[0m\n",
      "\u001b[0;32m/usr/local/envs/py2env/lib/python2.7/site-packages/apache_beam/utils/retry.pyc\u001b[0m in \u001b[0;36mwrapper\u001b[0;34m(*args, **kwargs)\u001b[0m\n\u001b[1;32m    182\u001b[0m       \u001b[0;32mwhile\u001b[0m \u001b[0mTrue\u001b[0m\u001b[0;34m:\u001b[0m\u001b[0;34m\u001b[0m\u001b[0m\n\u001b[1;32m    183\u001b[0m         \u001b[0;32mtry\u001b[0m\u001b[0;34m:\u001b[0m\u001b[0;34m\u001b[0m\u001b[0m\n\u001b[0;32m--> 184\u001b[0;31m           \u001b[0;32mreturn\u001b[0m \u001b[0mfun\u001b[0m\u001b[0;34m(\u001b[0m\u001b[0;34m*\u001b[0m\u001b[0margs\u001b[0m\u001b[0;34m,\u001b[0m \u001b[0;34m**\u001b[0m\u001b[0mkwargs\u001b[0m\u001b[0;34m)\u001b[0m\u001b[0;34m\u001b[0m\u001b[0m\n\u001b[0m\u001b[1;32m    185\u001b[0m         \u001b[0;32mexcept\u001b[0m \u001b[0mException\u001b[0m \u001b[0;32mas\u001b[0m \u001b[0mexn\u001b[0m\u001b[0;34m:\u001b[0m  \u001b[0;31m# pylint: disable=broad-except\u001b[0m\u001b[0;34m\u001b[0m\u001b[0m\n\u001b[1;32m    186\u001b[0m           \u001b[0;32mif\u001b[0m \u001b[0;32mnot\u001b[0m \u001b[0mretry_filter\u001b[0m\u001b[0;34m(\u001b[0m\u001b[0mexn\u001b[0m\u001b[0;34m)\u001b[0m\u001b[0;34m:\u001b[0m\u001b[0;34m\u001b[0m\u001b[0m\n",
      "\u001b[0;32m/usr/local/envs/py2env/lib/python2.7/site-packages/apache_beam/runners/dataflow/internal/apiclient.pyc\u001b[0m in \u001b[0;36mcreate_job\u001b[0;34m(self, job)\u001b[0m\n\u001b[1;32m    498\u001b[0m   \u001b[0;32mdef\u001b[0m \u001b[0mcreate_job\u001b[0m\u001b[0;34m(\u001b[0m\u001b[0mself\u001b[0m\u001b[0;34m,\u001b[0m \u001b[0mjob\u001b[0m\u001b[0;34m)\u001b[0m\u001b[0;34m:\u001b[0m\u001b[0;34m\u001b[0m\u001b[0m\n\u001b[1;32m    499\u001b[0m     \u001b[0;34m\"\"\"Creates job description. May stage and/or submit for remote execution.\"\"\"\u001b[0m\u001b[0;34m\u001b[0m\u001b[0m\n\u001b[0;32m--> 500\u001b[0;31m     \u001b[0mself\u001b[0m\u001b[0;34m.\u001b[0m\u001b[0mcreate_job_description\u001b[0m\u001b[0;34m(\u001b[0m\u001b[0mjob\u001b[0m\u001b[0;34m)\u001b[0m\u001b[0;34m\u001b[0m\u001b[0m\n\u001b[0m\u001b[1;32m    501\u001b[0m \u001b[0;34m\u001b[0m\u001b[0m\n\u001b[1;32m    502\u001b[0m     \u001b[0;31m# Stage and submit the job when necessary\u001b[0m\u001b[0;34m\u001b[0m\u001b[0;34m\u001b[0m\u001b[0m\n",
      "\u001b[0;32m/usr/local/envs/py2env/lib/python2.7/site-packages/apache_beam/runners/dataflow/internal/apiclient.pyc\u001b[0m in \u001b[0;36mcreate_job_description\u001b[0;34m(self, job)\u001b[0m\n\u001b[1;32m    527\u001b[0m \u001b[0;34m\u001b[0m\u001b[0m\n\u001b[1;32m    528\u001b[0m     \u001b[0;31m# Stage other resources for the SDK harness\u001b[0m\u001b[0;34m\u001b[0m\u001b[0;34m\u001b[0m\u001b[0m\n\u001b[0;32m--> 529\u001b[0;31m     \u001b[0mresources\u001b[0m \u001b[0;34m=\u001b[0m \u001b[0mself\u001b[0m\u001b[0;34m.\u001b[0m\u001b[0m_stage_resources\u001b[0m\u001b[0;34m(\u001b[0m\u001b[0mjob\u001b[0m\u001b[0;34m.\u001b[0m\u001b[0moptions\u001b[0m\u001b[0;34m)\u001b[0m\u001b[0;34m\u001b[0m\u001b[0m\n\u001b[0m\u001b[1;32m    530\u001b[0m \u001b[0;34m\u001b[0m\u001b[0m\n\u001b[1;32m    531\u001b[0m     job.proto.environment = Environment(\n",
      "\u001b[0;32m/usr/local/envs/py2env/lib/python2.7/site-packages/apache_beam/runners/dataflow/internal/apiclient.pyc\u001b[0m in \u001b[0;36m_stage_resources\u001b[0;34m(self, options)\u001b[0m\n\u001b[1;32m    460\u001b[0m         \u001b[0moptions\u001b[0m\u001b[0;34m,\u001b[0m\u001b[0;34m\u001b[0m\u001b[0m\n\u001b[1;32m    461\u001b[0m         \u001b[0mtemp_dir\u001b[0m\u001b[0;34m=\u001b[0m\u001b[0mtempfile\u001b[0m\u001b[0;34m.\u001b[0m\u001b[0mmkdtemp\u001b[0m\u001b[0;34m(\u001b[0m\u001b[0;34m)\u001b[0m\u001b[0;34m,\u001b[0m\u001b[0;34m\u001b[0m\u001b[0m\n\u001b[0;32m--> 462\u001b[0;31m         staging_location=google_cloud_options.staging_location)\n\u001b[0m\u001b[1;32m    463\u001b[0m     \u001b[0;32mreturn\u001b[0m \u001b[0mresources\u001b[0m\u001b[0;34m\u001b[0m\u001b[0m\n\u001b[1;32m    464\u001b[0m \u001b[0;34m\u001b[0m\u001b[0m\n",
      "\u001b[0;32m/usr/local/envs/py2env/lib/python2.7/site-packages/apache_beam/runners/portability/stager.pyc\u001b[0m in \u001b[0;36mstage_job_resources\u001b[0;34m(self, options, build_setup_args, temp_dir, populate_requirements_cache, staging_location)\u001b[0m\n\u001b[1;32m    226\u001b[0m         resources.extend(\n\u001b[1;32m    227\u001b[0m             self._stage_beam_sdk(sdk_remote_location, staging_location,\n\u001b[0;32m--> 228\u001b[0;31m                                  temp_dir))\n\u001b[0m\u001b[1;32m    229\u001b[0m       \u001b[0;32melif\u001b[0m \u001b[0msetup_options\u001b[0m\u001b[0;34m.\u001b[0m\u001b[0msdk_location\u001b[0m \u001b[0;34m==\u001b[0m \u001b[0;34m'container'\u001b[0m\u001b[0;34m:\u001b[0m\u001b[0;34m\u001b[0m\u001b[0m\n\u001b[1;32m    230\u001b[0m         \u001b[0;31m# Use the SDK that's built into the container, rather than re-staging\u001b[0m\u001b[0;34m\u001b[0m\u001b[0;34m\u001b[0m\u001b[0m\n",
      "\u001b[0;32m/usr/local/envs/py2env/lib/python2.7/site-packages/apache_beam/runners/portability/stager.pyc\u001b[0m in \u001b[0;36m_stage_beam_sdk\u001b[0;34m(self, sdk_remote_location, staging_location, temp_dir)\u001b[0m\n\u001b[1;32m    479\u001b[0m       \"\"\"\n\u001b[1;32m    480\u001b[0m     \u001b[0;32mif\u001b[0m \u001b[0msdk_remote_location\u001b[0m \u001b[0;34m==\u001b[0m \u001b[0;34m'pypi'\u001b[0m\u001b[0;34m:\u001b[0m\u001b[0;34m\u001b[0m\u001b[0m\n\u001b[0;32m--> 481\u001b[0;31m       \u001b[0msdk_local_file\u001b[0m \u001b[0;34m=\u001b[0m \u001b[0mStager\u001b[0m\u001b[0;34m.\u001b[0m\u001b[0m_download_pypi_sdk_package\u001b[0m\u001b[0;34m(\u001b[0m\u001b[0mtemp_dir\u001b[0m\u001b[0;34m)\u001b[0m\u001b[0;34m\u001b[0m\u001b[0m\n\u001b[0m\u001b[1;32m    482\u001b[0m       \u001b[0msdk_sources_staged_name\u001b[0m \u001b[0;34m=\u001b[0m \u001b[0mStager\u001b[0m\u001b[0;34m.\u001b[0m\u001b[0;31m\\\u001b[0m\u001b[0;34m\u001b[0m\u001b[0m\n\u001b[1;32m    483\u001b[0m           \u001b[0m_desired_sdk_filename_in_staging_location\u001b[0m\u001b[0;34m(\u001b[0m\u001b[0msdk_local_file\u001b[0m\u001b[0;34m)\u001b[0m\u001b[0;34m\u001b[0m\u001b[0m\n",
      "\u001b[0;32m/usr/local/envs/py2env/lib/python2.7/site-packages/apache_beam/runners/portability/stager.pyc\u001b[0m in \u001b[0;36m_download_pypi_sdk_package\u001b[0;34m(temp_dir, fetch_binary, language_version_tag, language_implementation_tag, abi_tag, platform_tag)\u001b[0m\n\u001b[1;32m    528\u001b[0m     \u001b[0mpackage_name\u001b[0m \u001b[0;34m=\u001b[0m \u001b[0mStager\u001b[0m\u001b[0;34m.\u001b[0m\u001b[0mget_sdk_package_name\u001b[0m\u001b[0;34m(\u001b[0m\u001b[0;34m)\u001b[0m\u001b[0;34m\u001b[0m\u001b[0m\n\u001b[1;32m    529\u001b[0m     \u001b[0;32mtry\u001b[0m\u001b[0;34m:\u001b[0m\u001b[0;34m\u001b[0m\u001b[0m\n\u001b[0;32m--> 530\u001b[0;31m       \u001b[0mversion\u001b[0m \u001b[0;34m=\u001b[0m \u001b[0mpkg_resources\u001b[0m\u001b[0;34m.\u001b[0m\u001b[0mget_distribution\u001b[0m\u001b[0;34m(\u001b[0m\u001b[0mpackage_name\u001b[0m\u001b[0;34m)\u001b[0m\u001b[0;34m.\u001b[0m\u001b[0mversion\u001b[0m\u001b[0;34m\u001b[0m\u001b[0m\n\u001b[0m\u001b[1;32m    531\u001b[0m     \u001b[0;32mexcept\u001b[0m \u001b[0mpkg_resources\u001b[0m\u001b[0;34m.\u001b[0m\u001b[0mDistributionNotFound\u001b[0m\u001b[0;34m:\u001b[0m\u001b[0;34m\u001b[0m\u001b[0m\n\u001b[1;32m    532\u001b[0m       raise RuntimeError('Please set --sdk_location command-line option '\n",
      "\u001b[0;32m/usr/local/envs/py2env/lib/python2.7/site-packages/pkg_resources/__init__.pyc\u001b[0m in \u001b[0;36mget_distribution\u001b[0;34m(dist)\u001b[0m\n\u001b[1;32m    479\u001b[0m         \u001b[0mdist\u001b[0m \u001b[0;34m=\u001b[0m \u001b[0mRequirement\u001b[0m\u001b[0;34m.\u001b[0m\u001b[0mparse\u001b[0m\u001b[0;34m(\u001b[0m\u001b[0mdist\u001b[0m\u001b[0;34m)\u001b[0m\u001b[0;34m\u001b[0m\u001b[0m\n\u001b[1;32m    480\u001b[0m     \u001b[0;32mif\u001b[0m \u001b[0misinstance\u001b[0m\u001b[0;34m(\u001b[0m\u001b[0mdist\u001b[0m\u001b[0;34m,\u001b[0m \u001b[0mRequirement\u001b[0m\u001b[0;34m)\u001b[0m\u001b[0;34m:\u001b[0m\u001b[0;34m\u001b[0m\u001b[0m\n\u001b[0;32m--> 481\u001b[0;31m         \u001b[0mdist\u001b[0m \u001b[0;34m=\u001b[0m \u001b[0mget_provider\u001b[0m\u001b[0;34m(\u001b[0m\u001b[0mdist\u001b[0m\u001b[0;34m)\u001b[0m\u001b[0;34m\u001b[0m\u001b[0m\n\u001b[0m\u001b[1;32m    482\u001b[0m     \u001b[0;32mif\u001b[0m \u001b[0;32mnot\u001b[0m \u001b[0misinstance\u001b[0m\u001b[0;34m(\u001b[0m\u001b[0mdist\u001b[0m\u001b[0;34m,\u001b[0m \u001b[0mDistribution\u001b[0m\u001b[0;34m)\u001b[0m\u001b[0;34m:\u001b[0m\u001b[0;34m\u001b[0m\u001b[0m\n\u001b[1;32m    483\u001b[0m         \u001b[0;32mraise\u001b[0m \u001b[0mTypeError\u001b[0m\u001b[0;34m(\u001b[0m\u001b[0;34m\"Expected string, Requirement, or Distribution\"\u001b[0m\u001b[0;34m,\u001b[0m \u001b[0mdist\u001b[0m\u001b[0;34m)\u001b[0m\u001b[0;34m\u001b[0m\u001b[0m\n",
      "\u001b[0;32m/usr/local/envs/py2env/lib/python2.7/site-packages/pkg_resources/__init__.pyc\u001b[0m in \u001b[0;36mget_provider\u001b[0;34m(moduleOrReq)\u001b[0m\n\u001b[1;32m    355\u001b[0m     \u001b[0;34m\"\"\"Return an IResourceProvider for the named module or requirement\"\"\"\u001b[0m\u001b[0;34m\u001b[0m\u001b[0m\n\u001b[1;32m    356\u001b[0m     \u001b[0;32mif\u001b[0m \u001b[0misinstance\u001b[0m\u001b[0;34m(\u001b[0m\u001b[0mmoduleOrReq\u001b[0m\u001b[0;34m,\u001b[0m \u001b[0mRequirement\u001b[0m\u001b[0;34m)\u001b[0m\u001b[0;34m:\u001b[0m\u001b[0;34m\u001b[0m\u001b[0m\n\u001b[0;32m--> 357\u001b[0;31m         \u001b[0;32mreturn\u001b[0m \u001b[0mworking_set\u001b[0m\u001b[0;34m.\u001b[0m\u001b[0mfind\u001b[0m\u001b[0;34m(\u001b[0m\u001b[0mmoduleOrReq\u001b[0m\u001b[0;34m)\u001b[0m \u001b[0;32mor\u001b[0m \u001b[0mrequire\u001b[0m\u001b[0;34m(\u001b[0m\u001b[0mstr\u001b[0m\u001b[0;34m(\u001b[0m\u001b[0mmoduleOrReq\u001b[0m\u001b[0;34m)\u001b[0m\u001b[0;34m)\u001b[0m\u001b[0;34m[\u001b[0m\u001b[0;36m0\u001b[0m\u001b[0;34m]\u001b[0m\u001b[0;34m\u001b[0m\u001b[0m\n\u001b[0m\u001b[1;32m    358\u001b[0m     \u001b[0;32mtry\u001b[0m\u001b[0;34m:\u001b[0m\u001b[0;34m\u001b[0m\u001b[0m\n\u001b[1;32m    359\u001b[0m         \u001b[0mmodule\u001b[0m \u001b[0;34m=\u001b[0m \u001b[0msys\u001b[0m\u001b[0;34m.\u001b[0m\u001b[0mmodules\u001b[0m\u001b[0;34m[\u001b[0m\u001b[0mmoduleOrReq\u001b[0m\u001b[0;34m]\u001b[0m\u001b[0;34m\u001b[0m\u001b[0m\n",
      "\u001b[0;32m/usr/local/envs/py2env/lib/python2.7/site-packages/pkg_resources/__init__.pyc\u001b[0m in \u001b[0;36mrequire\u001b[0;34m(self, *requirements)\u001b[0m\n\u001b[1;32m    898\u001b[0m         \u001b[0mincluded\u001b[0m\u001b[0;34m,\u001b[0m \u001b[0meven\u001b[0m \u001b[0;32mif\u001b[0m \u001b[0mthey\u001b[0m \u001b[0mwere\u001b[0m \u001b[0malready\u001b[0m \u001b[0mactivated\u001b[0m \u001b[0;32min\u001b[0m \u001b[0mthis\u001b[0m \u001b[0mworking\u001b[0m \u001b[0mset\u001b[0m\u001b[0;34m.\u001b[0m\u001b[0;34m\u001b[0m\u001b[0m\n\u001b[1;32m    899\u001b[0m         \"\"\"\n\u001b[0;32m--> 900\u001b[0;31m         \u001b[0mneeded\u001b[0m \u001b[0;34m=\u001b[0m \u001b[0mself\u001b[0m\u001b[0;34m.\u001b[0m\u001b[0mresolve\u001b[0m\u001b[0;34m(\u001b[0m\u001b[0mparse_requirements\u001b[0m\u001b[0;34m(\u001b[0m\u001b[0mrequirements\u001b[0m\u001b[0;34m)\u001b[0m\u001b[0;34m)\u001b[0m\u001b[0;34m\u001b[0m\u001b[0m\n\u001b[0m\u001b[1;32m    901\u001b[0m \u001b[0;34m\u001b[0m\u001b[0m\n\u001b[1;32m    902\u001b[0m         \u001b[0;32mfor\u001b[0m \u001b[0mdist\u001b[0m \u001b[0;32min\u001b[0m \u001b[0mneeded\u001b[0m\u001b[0;34m:\u001b[0m\u001b[0;34m\u001b[0m\u001b[0m\n",
      "\u001b[0;32m/usr/local/envs/py2env/lib/python2.7/site-packages/pkg_resources/__init__.pyc\u001b[0m in \u001b[0;36mresolve\u001b[0;34m(self, requirements, env, installer, replace_conflicting, extras)\u001b[0m\n\u001b[1;32m    789\u001b[0m                 \u001b[0;31m# Oops, the \"best\" so far conflicts with a dependency\u001b[0m\u001b[0;34m\u001b[0m\u001b[0;34m\u001b[0m\u001b[0m\n\u001b[1;32m    790\u001b[0m                 \u001b[0mdependent_req\u001b[0m \u001b[0;34m=\u001b[0m \u001b[0mrequired_by\u001b[0m\u001b[0;34m[\u001b[0m\u001b[0mreq\u001b[0m\u001b[0;34m]\u001b[0m\u001b[0;34m\u001b[0m\u001b[0m\n\u001b[0;32m--> 791\u001b[0;31m                 \u001b[0;32mraise\u001b[0m \u001b[0mVersionConflict\u001b[0m\u001b[0;34m(\u001b[0m\u001b[0mdist\u001b[0m\u001b[0;34m,\u001b[0m \u001b[0mreq\u001b[0m\u001b[0;34m)\u001b[0m\u001b[0;34m.\u001b[0m\u001b[0mwith_context\u001b[0m\u001b[0;34m(\u001b[0m\u001b[0mdependent_req\u001b[0m\u001b[0;34m)\u001b[0m\u001b[0;34m\u001b[0m\u001b[0m\n\u001b[0m\u001b[1;32m    792\u001b[0m \u001b[0;34m\u001b[0m\u001b[0m\n\u001b[1;32m    793\u001b[0m             \u001b[0;31m# push the new requirements onto the stack\u001b[0m\u001b[0;34m\u001b[0m\u001b[0;34m\u001b[0m\u001b[0m\n",
      "\u001b[0;31mContextualVersionConflict\u001b[0m: (httplib2 0.13.0 (/usr/local/envs/py2env/lib/python2.7/site-packages), Requirement.parse('httplib2<=0.11.3,>=0.8'), set(['apache-beam']))"
     ]
    }
   ],
   "source": [
    "preprocess(50*100, 'DataflowRunner') \n",
    "#change first arg to None to preprocess full dataset"
   ]
  },
  {
   "cell_type": "markdown",
   "metadata": {},
   "source": [
    "Once the job completes, observe the files created in Google Cloud Storage"
   ]
  },
  {
   "cell_type": "code",
   "execution_count": 16,
   "metadata": {},
   "outputs": [
    {
     "name": "stdout",
     "output_type": "stream",
     "text": [
      "    114723  2019-07-02T01:21:17Z  gs://qwiklabs-gcp-62f8ff21064dedde/taxifare/ch4/taxi_preproc/train.csv-00000-of-00005\n",
      "    114333  2019-07-02T01:21:17Z  gs://qwiklabs-gcp-62f8ff21064dedde/taxifare/ch4/taxi_preproc/train.csv-00001-of-00005\n",
      "    114928  2019-07-02T01:21:17Z  gs://qwiklabs-gcp-62f8ff21064dedde/taxifare/ch4/taxi_preproc/train.csv-00002-of-00005\n",
      "    113891  2019-07-02T01:21:17Z  gs://qwiklabs-gcp-62f8ff21064dedde/taxifare/ch4/taxi_preproc/train.csv-00003-of-00005\n",
      "    108806  2019-07-02T01:21:17Z  gs://qwiklabs-gcp-62f8ff21064dedde/taxifare/ch4/taxi_preproc/train.csv-00004-of-00005\n",
      "    106772  2019-07-02T01:21:16Z  gs://qwiklabs-gcp-62f8ff21064dedde/taxifare/ch4/taxi_preproc/valid.csv-00000-of-00002\n",
      "    113569  2019-07-02T01:21:16Z  gs://qwiklabs-gcp-62f8ff21064dedde/taxifare/ch4/taxi_preproc/valid.csv-00001-of-00002\n",
      "                                 gs://qwiklabs-gcp-62f8ff21064dedde/taxifare/ch4/taxi_preproc/tmp/\n",
      "TOTAL: 7 objects, 787022 bytes (768.58 KiB)\n"
     ]
    }
   ],
   "source": [
    "%%bash\n",
    "gsutil ls -l gs://$BUCKET/taxifare/ch4/taxi_preproc/"
   ]
  },
  {
   "cell_type": "code",
   "execution_count": 17,
   "metadata": {},
   "outputs": [
    {
     "name": "stdout",
     "output_type": "stream",
     "text": [
      "19.3,Tue,0,-73.971018,40.751163,-73.973142,40.67806,1.0,2011-11-29 00:46:00.000000-73.97140.751240.6781-73.9731\n",
      "31.0,Tue,0,-73.7764358521,40.6451301575,-73.9119033813,40.7053756714,4.0,2015-03-24 00:34:01.000000-73.776440.645140.7054-73.9119\n",
      "31.3,Tue,0,-73.96871,40.63919,-73.96871,40.63919,3.0,2011-11-29 00:46:00.000000-73.968740.639240.6392-73.9687\n",
      "15.3,Tue,0,-73.996457,40.742907,-73.96584,40.677997,1.0,2011-11-29 00:46:00.000000-73.996540.742940.678-73.9658\n",
      "11.8,Sun,0,-73.983132,40.722446,-73.956341,40.767218,2.0,2009-04-12 00:40:41.000000-73.983140.722440.7672-73.9563\n",
      "8.6,Sat,0,-73.947914,40.740628,-73.947982,40.743065,4.0,2009-01-17 00:04:32.000000-73.947940.740640.7431-73.948\n",
      "16.9,Tue,0,-73.983507,40.72135,-73.976568,40.764637,4.0,2011-11-29 00:46:00.000000-73.983540.721440.7646-73.9766\n",
      "30.5,Fri,0,-73.9804077148,40.7457847595,-74.0038757324,40.6466941833,3.0,2015-03-20 00:37:15.000000-73.980440.745840.6467-74.0039\n",
      "16.1,Tue,0,-74.005553,40.726371,-73.957306,40.673426,2.0,2011-11-29 00:46:00.000000-74.005640.726440.6734-73.9573\n",
      "14.1,Tue,0,-73.973183,40.760847,-73.957145,40.712024,2.0,2010-01-19 00:34:36.000000-73.973240.760840.712-73.9571\n"
     ]
    }
   ],
   "source": [
    "%%bash\n",
    "#print first 10 lines of first shard of train.csv\n",
    "gsutil cat \"gs://$BUCKET/taxifare/ch4/taxi_preproc/train.csv-00000-of-*\" | head"
   ]
  },
  {
   "cell_type": "markdown",
   "metadata": {},
   "source": [
    "## 5. Develop model with new inputs\n",
    "\n",
    "Download the first shard of the preprocessed data to enable local development."
   ]
  },
  {
   "cell_type": "code",
   "execution_count": 18,
   "metadata": {},
   "outputs": [],
   "source": [
    "%%bash\n",
    "if [ -d sample ]; then\n",
    "  rm -rf sample\n",
    "fi\n",
    "mkdir sample\n",
    "gsutil cat \"gs://$BUCKET/taxifare/ch4/taxi_preproc/train.csv-00000-of-*\" > sample/train.csv\n",
    "gsutil cat \"gs://$BUCKET/taxifare/ch4/taxi_preproc/valid.csv-00000-of-*\" > sample/valid.csv"
   ]
  },
  {
   "cell_type": "markdown",
   "metadata": {},
   "source": [
    "We have two new inputs in the INPUT_COLUMNS, three engineered features, and the estimator involves bucketization and feature crosses."
   ]
  },
  {
   "cell_type": "code",
   "execution_count": 19,
   "metadata": {},
   "outputs": [
    {
     "name": "stdout",
     "output_type": "stream",
     "text": [
      "INPUT_COLUMNS = [\n",
      "    # Define features\n",
      "    tf.feature_column.categorical_column_with_vocabulary_list('dayofweek', vocabulary_list = ['Sun', 'Mon', 'Tues', 'Wed', 'Thu', 'Fri', 'Sat']),\n",
      "    tf.feature_column.categorical_column_with_identity('hourofday', num_buckets = 24),\n",
      "\n",
      "    # Numeric columns\n",
      "    tf.feature_column.numeric_column('pickuplat'),\n",
      "    tf.feature_column.numeric_column('pickuplon'),\n",
      "    tf.feature_column.numeric_column('dropofflat'),\n",
      "    tf.feature_column.numeric_column('dropofflon'),\n",
      "    tf.feature_column.numeric_column('passengers'),\n",
      "    \n",
      "    # Engineered features that are created in the input_fn\n",
      "    tf.feature_column.numeric_column('latdiff'),\n",
      "    tf.feature_column.numeric_column('londiff'),\n",
      "    tf.feature_column.numeric_column('euclidean')\n",
      "]\n",
      "\n",
      "# Build the estimator\n",
      "def build_estimator(model_dir, nbuckets, hidden_units):\n",
      "    \"\"\"\n"
     ]
    }
   ],
   "source": [
    "%%bash\n",
    "grep -A 20 \"INPUT_COLUMNS =\" taxifare/trainer/model.py"
   ]
  },
  {
   "cell_type": "code",
   "execution_count": 20,
   "metadata": {},
   "outputs": [
    {
     "name": "stdout",
     "output_type": "stream",
     "text": [
      "def build_estimator(model_dir, nbuckets, hidden_units):\n",
      "    \"\"\"\n",
      "     Build an estimator starting from INPUT COLUMNS.\n",
      "     These include feature transformations and synthetic features.\n",
      "     The model is a wide-and-deep model.\n",
      "  \"\"\"\n",
      "\n",
      "    # Input columns\n",
      "    (dayofweek, hourofday, plat, plon, dlat, dlon, pcount, latdiff, londiff, euclidean) = INPUT_COLUMNS\n",
      "\n",
      "    # Bucketize the lats & lons\n",
      "    latbuckets = np.linspace(38.0, 42.0, nbuckets).tolist()\n",
      "    lonbuckets = np.linspace(-76.0, -72.0, nbuckets).tolist()\n",
      "    b_plat = tf.feature_column.bucketized_column(plat, latbuckets)\n",
      "    b_dlat = tf.feature_column.bucketized_column(dlat, latbuckets)\n",
      "    b_plon = tf.feature_column.bucketized_column(plon, lonbuckets)\n",
      "    b_dlon = tf.feature_column.bucketized_column(dlon, lonbuckets)\n",
      "\n",
      "    # Feature cross\n",
      "    ploc = tf.feature_column.crossed_column([b_plat, b_plon], nbuckets * nbuckets)\n",
      "    dloc = tf.feature_column.crossed_column([b_dlat, b_dlon], nbuckets * nbuckets)\n",
      "    pd_pair = tf.feature_column.crossed_column([ploc, dloc], nbuckets ** 4 )\n",
      "    day_hr =  tf.feature_column.crossed_column([dayofweek, hourofday], 24 * 7)\n",
      "\n",
      "    # Wide columns and deep columns.\n",
      "    wide_columns = [\n",
      "        # Feature crosses\n",
      "        dloc, ploc, pd_pair,\n",
      "        day_hr,\n",
      "\n",
      "        # Sparse columns\n",
      "        dayofweek, hourofday,\n",
      "\n",
      "        # Anything with a linear relationship\n",
      "        pcount \n",
      "    ]\n",
      "\n",
      "    deep_columns = [\n",
      "        # Embedding_column to \"group\" together ...\n",
      "        tf.feature_column.embedding_column(pd_pair, 10),\n",
      "        tf.feature_column.embedding_column(day_hr, 10),\n",
      "\n",
      "        # Numeric columns\n",
      "        plat, plon, dlat, dlon,\n",
      "        latdiff, londiff, euclidean\n",
      "    ]\n",
      "    \n",
      "    ## setting the checkpoint interval to be much lower for this task\n",
      "    run_config = tf.estimator.RunConfig(save_checkpoints_secs = 30, \n",
      "                                        keep_checkpoint_max = 3)\n",
      "    estimator = tf.estimator.DNNLinearCombinedRegressor(\n",
      "--\n",
      "    estimator = build_estimator(args['output_dir'], args['nbuckets'], args['hidden_units'].split(' '))\n",
      "    train_spec = tf.estimator.TrainSpec(\n",
      "        input_fn = read_dataset(\n",
      "            filename = args['train_data_paths'],\n",
      "            mode = tf.estimator.ModeKeys.TRAIN,\n",
      "            batch_size = args['train_batch_size']),\n",
      "        max_steps = args['train_steps'])\n",
      "    exporter = tf.estimator.LatestExporter('exporter', serving_input_fn)\n",
      "    eval_spec = tf.estimator.EvalSpec(\n",
      "        input_fn = read_dataset(\n",
      "            filename = args['eval_data_paths'],\n",
      "            mode = tf.estimator.ModeKeys.EVAL,\n",
      "            batch_size = args['eval_batch_size']),\n",
      "        steps = 100,\n",
      "        exporters = exporter)\n",
      "    tf.estimator.train_and_evaluate(estimator, train_spec, eval_spec)\n",
      "\n",
      "# If we want to use TFRecords instead of CSV\n",
      "def gzip_reader_fn():\n",
      "    return tf.TFRecordReader(options=tf.python_io.TFRecordOptions(\n",
      "            compression_type = tf.python_io.TFRecordCompressionType.GZIP))\n",
      "\n",
      "def generate_tfrecord_input_fn(data_paths, num_epochs = None, batch_size = 512, mode = tf.estimator.ModeKeys.TRAIN):\n",
      "    def get_input_features():\n",
      "        # Read the tfrecords. Same input schema as in preprocess\n",
      "        input_schema = {}\n",
      "        if mode != tf.estimator.ModeKeys.INFER:\n",
      "            input_schema[LABEL_COLUMN] = tf.FixedLenFeature(shape = [1], dtype = tf.float32, default_value = 0.0)\n",
      "        for name in ['dayofweek', 'key']:\n",
      "            input_schema[name] = tf.FixedLenFeature(shape = [1], dtype = tf.string, default_value = 'null')\n",
      "        for name in ['hourofday']:\n",
      "            input_schema[name] = tf.FixedLenFeature(shape = [1], dtype = tf.int64, default_value = 0)\n",
      "        for name in SCALE_COLUMNS:\n",
      "            input_schema[name] = tf.FixedLenFeature(shape = [1], dtype = tf.float32, default_value = 0.0)\n",
      "\n",
      "        # How? \n",
      "        keys, features = tf.contrib.learn.io.read_keyed_batch_features(\n",
      "            data_paths[0] if len(data_paths) == 1 else data_paths,\n",
      "            batch_size,\n",
      "            input_schema,\n",
      "            reader = gzip_reader_fn,\n",
      "            reader_num_threads = 4,\n",
      "            queue_capacity = batch_size * 2,\n",
      "            randomize_input = (mode != tf.estimator.ModeKeys.EVAL),\n",
      "            num_epochs = (1 if mode == tf.estimator.ModeKeys.EVAL else num_epochs))\n",
      "        target = features.pop(LABEL_COLUMN)\n",
      "        features[KEY_FEATURE_COLUMN] = keys\n",
      "        return add_engineered(features), target\n",
      "\n",
      "    # Return a function to input the features into the model from a data path.\n",
      "    return get_input_features\n"
     ]
    }
   ],
   "source": [
    "%%bash\n",
    "grep -A 50 \"build_estimator\" taxifare/trainer/model.py"
   ]
  },
  {
   "cell_type": "code",
   "execution_count": 21,
   "metadata": {},
   "outputs": [
    {
     "name": "stdout",
     "output_type": "stream",
     "text": [
      "def add_engineered(features):\n",
      "    # this is how you can do feature engineering in TensorFlow\n",
      "    lat1 = features['pickuplat']\n",
      "    lat2 = features['dropofflat']\n",
      "    lon1 = features['pickuplon']\n",
      "    lon2 = features['dropofflon']\n",
      "    latdiff = (lat1 - lat2)\n",
      "    londiff = (lon1 - lon2)\n",
      "    \n",
      "    # set features for distance with sign that indicates direction\n",
      "    features['latdiff'] = latdiff\n",
      "    features['londiff'] = londiff\n",
      "    dist = tf.sqrt(latdiff * latdiff + londiff * londiff)\n",
      "    features['euclidean'] = dist\n",
      "    return features\n",
      "\n",
      "--\n",
      "    features = add_engineered(feature_placeholders.copy())\n",
      "    return tf.estimator.export.ServingInputReceiver(features, feature_placeholders)\n",
      "\n",
      "# Create input function to load data into datasets\n",
      "def read_dataset(filename, mode, batch_size = 512):\n",
      "    def _input_fn():\n",
      "        def decode_csv(value_column):\n",
      "            columns = tf.decode_csv(value_column, record_defaults = DEFAULTS)\n",
      "            features = dict(zip(CSV_COLUMNS, columns))\n",
      "            label = features.pop(LABEL_COLUMN)\n",
      "            return add_engineered(features), label\n",
      "        \n",
      "        # Create list of files that match pattern\n",
      "        file_list = tf.gfile.Glob(filename)\n",
      "\n",
      "        # Create dataset from file list\n",
      "        dataset = tf.data.TextLineDataset(file_list).map(decode_csv)\n",
      "\n",
      "        if mode == tf.estimator.ModeKeys.TRAIN:\n",
      "            num_epochs = None # indefinitely\n",
      "            dataset = dataset.shuffle(buffer_size = 10 * batch_size)\n",
      "        else:\n",
      "            num_epochs = 1 # end-of-input after this\n",
      "\n",
      "        dataset = dataset.repeat(num_epochs).batch(batch_size)\n",
      "        batch_features, batch_labels = dataset.make_one_shot_iterator().get_next()\n",
      "--\n",
      "        return add_engineered(features), target\n",
      "\n",
      "    # Return a function to input the features into the model from a data path.\n",
      "    return get_input_features\n",
      "\n",
      "def add_eval_metrics(labels, predictions):\n",
      "    pred_values = predictions['predictions']\n",
      "    return {\n",
      "        'rmse': tf.metrics.root_mean_squared_error(labels, pred_values)\n",
      "    }\n",
      "\n"
     ]
    }
   ],
   "source": [
    "%%bash\n",
    "grep -A 15 \"add_engineered(\" taxifare/trainer/model.py"
   ]
  },
  {
   "cell_type": "markdown",
   "metadata": {},
   "source": [
    "Try out the new model on the local sample (this takes <b>5 minutes</b>) to make sure it works fine."
   ]
  },
  {
   "cell_type": "code",
   "execution_count": 22,
   "metadata": {},
   "outputs": [
    {
     "name": "stderr",
     "output_type": "stream",
     "text": [
      "/usr/local/envs/py2env/lib/python2.7/site-packages/h5py/__init__.py:36: FutureWarning: Conversion of the second argument of issubdtype from `float` to `np.floating` is deprecated. In future, it will be treated as `np.float64 == np.dtype(float).type`.\n",
      "  from ._conv import register_converters as _register_converters\n",
      "INFO:tensorflow:Using config: {'_save_checkpoints_secs': 30, '_session_config': None, '_keep_checkpoint_max': 3, '_task_type': 'worker', '_train_distribute': None, '_is_chief': True, '_cluster_spec': <tensorflow.python.training.server_lib.ClusterSpec object at 0x7f39b2974cd0>, '_evaluation_master': '', '_save_checkpoints_steps': None, '_keep_checkpoint_every_n_hours': 10000, '_service': None, '_num_ps_replicas': 0, '_tf_random_seed': None, '_master': '', '_num_worker_replicas': 1, '_task_id': 0, '_log_step_count_steps': 100, '_model_dir': '/content/datalab/training-data-analyst/courses/machine_learning/feateng/taxi_trained/', '_global_id_in_cluster': 0, '_save_summary_steps': 100}\n",
      "INFO:tensorflow:Using config: {'_save_checkpoints_secs': 30, '_session_config': None, '_keep_checkpoint_max': 3, '_task_type': 'worker', '_train_distribute': None, '_is_chief': True, '_cluster_spec': <tensorflow.python.training.server_lib.ClusterSpec object at 0x7f39b2974b10>, '_evaluation_master': '', '_save_checkpoints_steps': None, '_keep_checkpoint_every_n_hours': 10000, '_service': None, '_num_ps_replicas': 0, '_tf_random_seed': None, '_master': '', '_num_worker_replicas': 1, '_task_id': 0, '_log_step_count_steps': 100, '_model_dir': '/content/datalab/training-data-analyst/courses/machine_learning/feateng/taxi_trained/', '_global_id_in_cluster': 0, '_save_summary_steps': 100}\n",
      "INFO:tensorflow:Running training and evaluation locally (non-distributed).\n",
      "INFO:tensorflow:Start train and evaluate loop. The evaluate will happen after 600 secs (eval_spec.throttle_secs) or training is finished.\n",
      "INFO:tensorflow:Calling model_fn.\n",
      "INFO:tensorflow:Calling model_fn.\n",
      "INFO:tensorflow:Done calling model_fn.\n",
      "INFO:tensorflow:Done calling model_fn.\n",
      "INFO:tensorflow:Create CheckpointSaverHook.\n",
      "INFO:tensorflow:Graph was finalized.\n",
      "2019-07-02 01:23:43.864457: I tensorflow/core/platform/cpu_feature_guard.cc:140] Your CPU supports instructions that this TensorFlow binary was not compiled to use: AVX2 FMA\n",
      "INFO:tensorflow:Running local_init_op.\n",
      "INFO:tensorflow:Done running local_init_op.\n",
      "INFO:tensorflow:Saving checkpoints for 1 into /content/datalab/training-data-analyst/courses/machine_learning/feateng/taxi_trained/model.ckpt.\n",
      "INFO:tensorflow:loss = 420391.94, step = 1\n",
      "INFO:tensorflow:Saving checkpoints for 10 into /content/datalab/training-data-analyst/courses/machine_learning/feateng/taxi_trained/model.ckpt.\n",
      "INFO:tensorflow:Loss for final step: 251282.22.\n",
      "INFO:tensorflow:Calling model_fn.\n",
      "INFO:tensorflow:Calling model_fn.\n",
      "INFO:tensorflow:Done calling model_fn.\n",
      "INFO:tensorflow:Done calling model_fn.\n",
      "INFO:tensorflow:Starting evaluation at 2019-07-02-01:24:13\n",
      "INFO:tensorflow:Graph was finalized.\n",
      "INFO:tensorflow:Restoring parameters from /content/datalab/training-data-analyst/courses/machine_learning/feateng/taxi_trained/model.ckpt-10\n",
      "INFO:tensorflow:Running local_init_op.\n",
      "INFO:tensorflow:Done running local_init_op.\n",
      "INFO:tensorflow:Finished evaluation at 2019-07-02-01:24:14\n",
      "INFO:tensorflow:Saving dict for global step 10: average_loss = 111.41957, global_step = 10, loss = 52200.07, rmse = 10.555547\n",
      "INFO:tensorflow:Calling model_fn.\n",
      "INFO:tensorflow:Calling model_fn.\n",
      "INFO:tensorflow:Done calling model_fn.\n",
      "INFO:tensorflow:Done calling model_fn.\n",
      "INFO:tensorflow:Signatures INCLUDED in export for Classify: None\n",
      "INFO:tensorflow:Signatures INCLUDED in export for Regress: None\n",
      "INFO:tensorflow:Signatures INCLUDED in export for Predict: ['predict']\n",
      "INFO:tensorflow:Signatures EXCLUDED from export because they cannot be be served via TensorFlow Serving APIs:\n",
      "INFO:tensorflow:'serving_default' : Regression input must be a single string Tensor; got {'dayofweek': <tf.Tensor 'Placeholder_5:0' shape=(?,) dtype=string>, 'passengers': <tf.Tensor 'Placeholder_4:0' shape=(?,) dtype=float32>, 'pickuplat': <tf.Tensor 'Placeholder:0' shape=(?,) dtype=float32>, 'dropofflat': <tf.Tensor 'Placeholder_2:0' shape=(?,) dtype=float32>, 'hourofday': <tf.Tensor 'Placeholder_6:0' shape=(?,) dtype=int32>, 'pickuplon': <tf.Tensor 'Placeholder_1:0' shape=(?,) dtype=float32>, 'dropofflon': <tf.Tensor 'Placeholder_3:0' shape=(?,) dtype=float32>}\n",
      "INFO:tensorflow:'regression' : Regression input must be a single string Tensor; got {'dayofweek': <tf.Tensor 'Placeholder_5:0' shape=(?,) dtype=string>, 'passengers': <tf.Tensor 'Placeholder_4:0' shape=(?,) dtype=float32>, 'pickuplat': <tf.Tensor 'Placeholder:0' shape=(?,) dtype=float32>, 'dropofflat': <tf.Tensor 'Placeholder_2:0' shape=(?,) dtype=float32>, 'hourofday': <tf.Tensor 'Placeholder_6:0' shape=(?,) dtype=int32>, 'pickuplon': <tf.Tensor 'Placeholder_1:0' shape=(?,) dtype=float32>, 'dropofflon': <tf.Tensor 'Placeholder_3:0' shape=(?,) dtype=float32>}\n",
      "WARNING:tensorflow:Export includes no default signature!\n",
      "INFO:tensorflow:Restoring parameters from /content/datalab/training-data-analyst/courses/machine_learning/feateng/taxi_trained/model.ckpt-10\n",
      "INFO:tensorflow:Assets added to graph.\n",
      "INFO:tensorflow:No assets to write.\n",
      "INFO:tensorflow:SavedModel written to: /content/datalab/training-data-analyst/courses/machine_learning/feateng/taxi_trained/export/exporter/temp-1562030656/saved_model.pb\n"
     ]
    }
   ],
   "source": [
    "%%bash\n",
    "rm -rf taxifare.tar.gz taxi_trained\n",
    "export PYTHONPATH=${PYTHONPATH}:${PWD}/taxifare\n",
    "python -m trainer.task \\\n",
    "  --train_data_paths=${PWD}/sample/train.csv \\\n",
    "  --eval_data_paths=${PWD}/sample/valid.csv  \\\n",
    "  --output_dir=${PWD}/taxi_trained \\\n",
    "  --train_steps=10 \\\n",
    "  --job-dir=/tmp"
   ]
  },
  {
   "cell_type": "code",
   "execution_count": 23,
   "metadata": {},
   "outputs": [
    {
     "name": "stdout",
     "output_type": "stream",
     "text": [
      "1562030656\n"
     ]
    }
   ],
   "source": [
    "%%bash\n",
    "ls taxi_trained/export/exporter/"
   ]
  },
  {
   "cell_type": "markdown",
   "metadata": {},
   "source": [
    "You can use ```saved_model_cli``` to look at the exported signature. Note that the model doesn't need any of the engineered features as inputs. It will compute latdiff, londiff, euclidean from the provided inputs, thanks to the ```add_engineered``` call in the serving_input_fn."
   ]
  },
  {
   "cell_type": "code",
   "execution_count": 24,
   "metadata": {},
   "outputs": [
    {
     "name": "stdout",
     "output_type": "stream",
     "text": [
      "\n",
      "MetaGraphDef with tag-set: 'serve' contains the following SignatureDefs:\n",
      "\n",
      "signature_def['predict']:\n",
      "  The given SavedModel SignatureDef contains the following input(s):\n",
      "    inputs['dayofweek'] tensor_info:\n",
      "        dtype: DT_STRING\n",
      "        shape: (-1)\n",
      "        name: Placeholder_5:0\n",
      "    inputs['dropofflat'] tensor_info:\n",
      "        dtype: DT_FLOAT\n",
      "        shape: (-1)\n",
      "        name: Placeholder_2:0\n",
      "    inputs['dropofflon'] tensor_info:\n",
      "        dtype: DT_FLOAT\n",
      "        shape: (-1)\n",
      "        name: Placeholder_3:0\n",
      "    inputs['hourofday'] tensor_info:\n",
      "        dtype: DT_INT32\n",
      "        shape: (-1)\n",
      "        name: Placeholder_6:0\n",
      "    inputs['passengers'] tensor_info:\n",
      "        dtype: DT_FLOAT\n",
      "        shape: (-1)\n",
      "        name: Placeholder_4:0\n",
      "    inputs['pickuplat'] tensor_info:\n",
      "        dtype: DT_FLOAT\n",
      "        shape: (-1)\n",
      "        name: Placeholder:0\n",
      "    inputs['pickuplon'] tensor_info:\n",
      "        dtype: DT_FLOAT\n",
      "        shape: (-1)\n",
      "        name: Placeholder_1:0\n",
      "  The given SavedModel SignatureDef contains the following output(s):\n",
      "    outputs['predictions'] tensor_info:\n",
      "        dtype: DT_FLOAT\n",
      "        shape: (-1, 1)\n",
      "        name: add_1:0\n",
      "  Method name is: tensorflow/serving/predict\n"
     ]
    },
    {
     "name": "stderr",
     "output_type": "stream",
     "text": [
      "/usr/local/envs/py2env/lib/python2.7/site-packages/h5py/__init__.py:36: FutureWarning: Conversion of the second argument of issubdtype from `float` to `np.floating` is deprecated. In future, it will be treated as `np.float64 == np.dtype(float).type`.\n",
      "  from ._conv import register_converters as _register_converters\n"
     ]
    }
   ],
   "source": [
    "%%bash\n",
    "model_dir=$(ls ${PWD}/taxi_trained/export/exporter | tail -1)\n",
    "saved_model_cli show --dir ${PWD}/taxi_trained/export/exporter/${model_dir} --all"
   ]
  },
  {
   "cell_type": "code",
   "execution_count": 25,
   "metadata": {},
   "outputs": [
    {
     "name": "stdout",
     "output_type": "stream",
     "text": [
      "Writing /tmp/test.json\n"
     ]
    }
   ],
   "source": [
    "%%writefile /tmp/test.json\n",
    "{\"dayofweek\": \"Sun\", \"hourofday\": 17, \"pickuplon\": -73.885262, \"pickuplat\": 40.773008, \"dropofflon\": -73.987232, \"dropofflat\": 40.732403, \"passengers\": 2}"
   ]
  },
  {
   "cell_type": "code",
   "execution_count": 26,
   "metadata": {},
   "outputs": [
    {
     "name": "stdout",
     "output_type": "stream",
     "text": [
      "PREDICTIONS\n",
      "[5.343318462371826]\n"
     ]
    },
    {
     "name": "stderr",
     "output_type": "stream",
     "text": [
      "WARNING: The `gcloud ml-engine` commands have been renamed and will soon be removed. Please use `gcloud ai-platform` instead.\n",
      "WARNING: /usr/local/envs/py2env/lib/python2.7/site-packages/h5py/__init__.py:36: FutureWarning: Conversion of the second argument of issubdtype from `float` to `np.floating` is deprecated. In future, it will be treated as `np.float64 == np.dtype(float).type`.\n",
      "  from ._conv import register_converters as _register_converters\n",
      "2019-07-02 01:24:45.452891: I tensorflow/core/platform/cpu_feature_guard.cc:140] Your CPU supports instructions that this TensorFlow binary was not compiled to use: AVX2 FMA\n",
      "\n"
     ]
    }
   ],
   "source": [
    "%%bash\n",
    "model_dir=$(ls ${PWD}/taxi_trained/export/exporter)\n",
    "gcloud ml-engine local predict \\\n",
    "  --model-dir=${PWD}/taxi_trained/export/exporter/${model_dir} \\\n",
    "  --json-instances=/tmp/test.json"
   ]
  },
  {
   "cell_type": "markdown",
   "metadata": {},
   "source": [
    "## 5. Train on cloud\n",
    "\n",
    "This will take <b> 10-15 minutes </b> even though the prompt immediately returns after the job is submitted. Monitor job progress on the [Cloud Console, in the AI Platform](https://console.cloud.google.com/mlengine) section and wait for the training job to complete.\n"
   ]
  },
  {
   "cell_type": "code",
   "execution_count": 27,
   "metadata": {},
   "outputs": [
    {
     "name": "stdout",
     "output_type": "stream",
     "text": [
      "gs://qwiklabs-gcp-62f8ff21064dedde/taxifare/ch4/taxi_trained us-east1 lab4a_190702_012452\n",
      "jobId: lab4a_190702_012452\n",
      "state: QUEUED\n"
     ]
    },
    {
     "name": "stderr",
     "output_type": "stream",
     "text": [
      "CommandException: 1 files/objects could not be removed.\n",
      "Job [lab4a_190702_012452] submitted successfully.\n",
      "Your job is still active. You may view the status of your job with the command\n",
      "\n",
      "  $ gcloud ai-platform jobs describe lab4a_190702_012452\n",
      "\n",
      "or continue streaming the logs with the command\n",
      "\n",
      "  $ gcloud ai-platform jobs stream-logs lab4a_190702_012452\n"
     ]
    }
   ],
   "source": [
    "%%bash\n",
    "OUTDIR=gs://${BUCKET}/taxifare/ch4/taxi_trained\n",
    "JOBNAME=lab4a_$(date -u +%y%m%d_%H%M%S)\n",
    "echo $OUTDIR $REGION $JOBNAME\n",
    "gsutil -m rm -rf $OUTDIR\n",
    "gcloud ai-platform jobs submit training $JOBNAME \\\n",
    "  --region=$REGION \\\n",
    "  --module-name=trainer.task \\\n",
    "  --package-path=${PWD}/taxifare/trainer \\\n",
    "  --job-dir=$OUTDIR \\\n",
    "  --staging-bucket=gs://$BUCKET \\\n",
    "  --scale-tier=BASIC \\\n",
    "  --runtime-version=$TFVERSION \\\n",
    "  -- \\\n",
    "  --train_data_paths=\"gs://$BUCKET/taxifare/ch4/taxi_preproc/train*\" \\\n",
    "  --eval_data_paths=\"gs://${BUCKET}/taxifare/ch4/taxi_preproc/valid*\"  \\\n",
    "  --train_steps=5000 \\\n",
    "  --output_dir=$OUTDIR"
   ]
  },
  {
   "cell_type": "markdown",
   "metadata": {},
   "source": [
    "The RMSE is now 8.33249, an improvement over the 9.3 that we were getting ... of course, we won't know until we train/validate on a larger dataset. Still, this is promising. But before we do that, let's do hyper-parameter tuning.\n",
    "\n",
    "<b>Use the Cloud Console link to monitor the job and do NOT proceed until the job is done.</b>"
   ]
  },
  {
   "cell_type": "code",
   "execution_count": 29,
   "metadata": {},
   "outputs": [
    {
     "name": "stdout",
     "output_type": "stream",
     "text": [
      "INFO\t2019-07-02 01:24:57 +0000\tservice\t\tValidating job requirements...\n",
      "INFO\t2019-07-02 01:24:58 +0000\tservice\t\tJob creation request has been successfully validated.\n",
      "INFO\t2019-07-02 01:24:58 +0000\tservice\t\tJob lab4a_190702_012452 is queued.\n",
      "INFO\t2019-07-02 01:24:58 +0000\tservice\t\tWaiting for job to be provisioned.\n",
      "INFO\t2019-07-02 01:25:01 +0000\tservice\t\tWaiting for training program to start.\n",
      "INFO\t2019-07-02 01:26:07 +0000\tmaster-replica-0\t\tRunning task with arguments: --cluster={\"master\": [\"127.0.0.1:2222\"]} --task={\"type\": \"master\", \"index\": 0} --job={  \"package_uris\": [\"gs://qwiklabs-gcp-62f8ff21064dedde/lab4a_190702_012452/02d2c55c8e4e4ffeab05921a4449fe85603ae03e769d9530cca80a77194b7982/trainer-0.0.0.tar.gz\"],  \"python_module\": \"trainer.task\",  \"args\": [\"--train_data_paths\\u003dgs://qwiklabs-gcp-62f8ff21064dedde/taxifare/ch4/taxi_preproc/train*\", \"--eval_data_paths\\u003dgs://qwiklabs-gcp-62f8ff21064dedde/taxifare/ch4/taxi_preproc/valid*\", \"--train_steps\\u003d5000\", \"--output_dir\\u003dgs://qwiklabs-gcp-62f8ff21064dedde/taxifare/ch4/taxi_trained\"],  \"region\": \"us-east1\",  \"runtime_version\": \"1.8\",  \"job_dir\": \"gs://qwiklabs-gcp-62f8ff21064dedde/taxifare/ch4/taxi_trained\",  \"run_on_raw_vm\": true}\n",
      "INFO\t2019-07-02 01:26:58 +0000\tmaster-replica-0\t\tRunning module trainer.task.\n",
      "INFO\t2019-07-02 01:26:58 +0000\tmaster-replica-0\t\tDownloading the package: gs://qwiklabs-gcp-62f8ff21064dedde/lab4a_190702_012452/02d2c55c8e4e4ffeab05921a4449fe85603ae03e769d9530cca80a77194b7982/trainer-0.0.0.tar.gz\n",
      "INFO\t2019-07-02 01:26:58 +0000\tmaster-replica-0\t\tRunning command: gsutil -q cp gs://qwiklabs-gcp-62f8ff21064dedde/lab4a_190702_012452/02d2c55c8e4e4ffeab05921a4449fe85603ae03e769d9530cca80a77194b7982/trainer-0.0.0.tar.gz trainer-0.0.0.tar.gz\n",
      "INFO\t2019-07-02 01:26:59 +0000\tmaster-replica-0\t\tInstalling the package: gs://qwiklabs-gcp-62f8ff21064dedde/lab4a_190702_012452/02d2c55c8e4e4ffeab05921a4449fe85603ae03e769d9530cca80a77194b7982/trainer-0.0.0.tar.gz\n",
      "INFO\t2019-07-02 01:26:59 +0000\tmaster-replica-0\t\tRunning command: pip install --user --upgrade --force-reinstall --no-deps trainer-0.0.0.tar.gz\n",
      "ERROR\t2019-07-02 01:27:01 +0000\tmaster-replica-0\t\tDEPRECATION: Python 2.7 will reach the end of its life on January 1st, 2020. Please upgrade your Python as Python 2.7 won't be maintained after that date. A future version of pip will drop support for Python 2.7.\n",
      "INFO\t2019-07-02 01:27:01 +0000\tmaster-replica-0\t\tProcessing ./trainer-0.0.0.tar.gz\n",
      "INFO\t2019-07-02 01:27:02 +0000\tmaster-replica-0\t\tBuilding wheels for collected packages: trainer\n",
      "INFO\t2019-07-02 01:27:02 +0000\tmaster-replica-0\t\t  Building wheel for trainer (setup.py): started\n",
      "INFO\t2019-07-02 01:27:03 +0000\tmaster-replica-0\t\t  Building wheel for trainer (setup.py): finished with status 'done'\n",
      "INFO\t2019-07-02 01:27:03 +0000\tmaster-replica-0\t\t  Stored in directory: /root/.cache/pip/wheels/0d/1b/db/f8e86b296734f0b137e17e5d34862f4ae4faf8388755c6272f\n",
      "INFO\t2019-07-02 01:27:03 +0000\tmaster-replica-0\t\tSuccessfully built trainer\n",
      "INFO\t2019-07-02 01:27:03 +0000\tmaster-replica-0\t\tInstalling collected packages: trainer\n",
      "INFO\t2019-07-02 01:27:03 +0000\tmaster-replica-0\t\tSuccessfully installed trainer-0.0.0\n",
      "INFO\t2019-07-02 01:27:03 +0000\tmaster-replica-0\t\tRunning command: pip install --user trainer-0.0.0.tar.gz\n",
      "ERROR\t2019-07-02 01:27:03 +0000\tmaster-replica-0\t\tDEPRECATION: Python 2.7 will reach the end of its life on January 1st, 2020. Please upgrade your Python as Python 2.7 won't be maintained after that date. A future version of pip will drop support for Python 2.7.\n",
      "INFO\t2019-07-02 01:27:03 +0000\tmaster-replica-0\t\tProcessing ./trainer-0.0.0.tar.gz\n",
      "INFO\t2019-07-02 01:27:04 +0000\tmaster-replica-0\t\tBuilding wheels for collected packages: trainer\n",
      "INFO\t2019-07-02 01:27:04 +0000\tmaster-replica-0\t\t  Building wheel for trainer (setup.py): started\n",
      "INFO\t2019-07-02 01:27:04 +0000\tmaster-replica-0\t\t  Building wheel for trainer (setup.py): finished with status 'done'\n",
      "INFO\t2019-07-02 01:27:04 +0000\tmaster-replica-0\t\t  Stored in directory: /root/.cache/pip/wheels/0d/1b/db/f8e86b296734f0b137e17e5d34862f4ae4faf8388755c6272f\n",
      "INFO\t2019-07-02 01:27:04 +0000\tmaster-replica-0\t\tSuccessfully built trainer\n",
      "INFO\t2019-07-02 01:27:05 +0000\tmaster-replica-0\t\tInstalling collected packages: trainer\n",
      "INFO\t2019-07-02 01:27:05 +0000\tmaster-replica-0\t\t  Found existing installation: trainer 0.0.0\n",
      "INFO\t2019-07-02 01:27:05 +0000\tmaster-replica-0\t\t    Uninstalling trainer-0.0.0:\n",
      "INFO\t2019-07-02 01:27:05 +0000\tmaster-replica-0\t\t      Successfully uninstalled trainer-0.0.0\n",
      "INFO\t2019-07-02 01:27:05 +0000\tmaster-replica-0\t\tSuccessfully installed trainer-0.0.0\n",
      "INFO\t2019-07-02 01:27:05 +0000\tmaster-replica-0\t\tRunning command: python -m trainer.task --train_data_paths=gs://qwiklabs-gcp-62f8ff21064dedde/taxifare/ch4/taxi_preproc/train* --eval_data_paths=gs://qwiklabs-gcp-62f8ff21064dedde/taxifare/ch4/taxi_preproc/valid* --train_steps=5000 --output_dir=gs://qwiklabs-gcp-62f8ff21064dedde/taxifare/ch4/taxi_trained --job-dir gs://qwiklabs-gcp-62f8ff21064dedde/taxifare/ch4/taxi_trained\n",
      "INFO\t2019-07-02 01:27:06 +0000\tmaster-replica-0\t\tTF_CONFIG environment variable: {u'environment': u'cloud', u'cluster': {u'master': [u'127.0.0.1:2222']}, u'job': {u'python_module': u'trainer.task', u'region': u'us-east1', u'args': [u'--train_data_paths=gs://qwiklabs-gcp-62f8ff21064dedde/taxifare/ch4/taxi_preproc/train*', u'--eval_data_paths=gs://qwiklabs-gcp-62f8ff21064dedde/taxifare/ch4/taxi_preproc/valid*', u'--train_steps=5000', u'--output_dir=gs://qwiklabs-gcp-62f8ff21064dedde/taxifare/ch4/taxi_trained', u'--job-dir', u'gs://qwiklabs-gcp-62f8ff21064dedde/taxifare/ch4/taxi_trained'], u'job_dir': u'gs://qwiklabs-gcp-62f8ff21064dedde/taxifare/ch4/taxi_trained', u'runtime_version': u'1.8', u'package_uris': [u'gs://qwiklabs-gcp-62f8ff21064dedde/lab4a_190702_012452/02d2c55c8e4e4ffeab05921a4449fe85603ae03e769d9530cca80a77194b7982/trainer-0.0.0.tar.gz'], u'run_on_raw_vm': True}, u'task': {u'index': 0, u'type': u'master', u'cloud': u'w327a84bb629abc11-ml'}}\n",
      "INFO\t2019-07-02 01:27:06 +0000\tmaster-replica-0\t\tUsing config: {'_save_checkpoints_secs': 30, '_session_config': None, '_keep_checkpoint_max': 3, '_task_type': u'master', '_train_distribute': None, '_is_chief': True, '_cluster_spec': <tensorflow.python.training.server_lib.ClusterSpec object at 0x7ff12af180d0>, '_evaluation_master': '', '_save_checkpoints_steps': None, '_keep_checkpoint_every_n_hours': 10000, '_service': None, '_num_ps_replicas': 0, '_tf_random_seed': None, '_master': '', '_num_worker_replicas': 1, '_task_id': 0, '_log_step_count_steps': 100, '_model_dir': 'gs://qwiklabs-gcp-62f8ff21064dedde/taxifare/ch4/taxi_trained/', '_global_id_in_cluster': 0, '_save_summary_steps': 100}\n",
      "INFO\t2019-07-02 01:27:13 +0000\tmaster-replica-0\t\tUsing config: {'_save_checkpoints_secs': 30, '_session_config': None, '_keep_checkpoint_max': 3, '_task_type': u'master', '_train_distribute': None, '_is_chief': True, '_cluster_spec': <tensorflow.python.training.server_lib.ClusterSpec object at 0x7ff12af18190>, '_evaluation_master': '', '_save_checkpoints_steps': None, '_keep_checkpoint_every_n_hours': 10000, '_service': None, '_num_ps_replicas': 0, '_tf_random_seed': None, '_master': '', '_num_worker_replicas': 1, '_task_id': 0, '_log_step_count_steps': 100, '_model_dir': 'gs://qwiklabs-gcp-62f8ff21064dedde/taxifare/ch4/taxi_trained/', '_global_id_in_cluster': 0, '_save_summary_steps': 100}\n",
      "INFO\t2019-07-02 01:27:13 +0000\tmaster-replica-0\t\tSkip starting Tensorflow server as there is only one node in the cluster.\n",
      "INFO\t2019-07-02 01:27:13 +0000\tmaster-replica-0\t\tCalling model_fn.\n",
      "INFO\t2019-07-02 01:27:13 +0000\tmaster-replica-0\t\tCalling model_fn.\n",
      "INFO\t2019-07-02 01:27:15 +0000\tmaster-replica-0\t\tDone calling model_fn.\n",
      "INFO\t2019-07-02 01:27:15 +0000\tmaster-replica-0\t\tDone calling model_fn.\n",
      "INFO\t2019-07-02 01:27:15 +0000\tmaster-replica-0\t\tCreate CheckpointSaverHook.\n",
      "INFO\t2019-07-02 01:27:17 +0000\tmaster-replica-0\t\tGraph was finalized.\n",
      "INFO\t2019-07-02 01:27:17 +0000\tmaster-replica-0\t\tYour CPU supports instructions that this TensorFlow binary was not compiled to use: AVX2 FMA\n",
      "INFO\t2019-07-02 01:27:17 +0000\tmaster-replica-0\t\tRunning local_init_op.\n",
      "INFO\t2019-07-02 01:27:17 +0000\tmaster-replica-0\t\tDone running local_init_op.\n",
      "INFO\t2019-07-02 01:27:21 +0000\tmaster-replica-0\t\tSaving checkpoints for 1 into gs://qwiklabs-gcp-62f8ff21064dedde/taxifare/ch4/taxi_trained/model.ckpt.\n",
      "INFO\t2019-07-02 01:27:31 +0000\tmaster-replica-0\t\tCalling model_fn.\n",
      "INFO\t2019-07-02 01:27:31 +0000\tmaster-replica-0\t\tCalling model_fn.\n",
      "INFO\t2019-07-02 01:27:33 +0000\tmaster-replica-0\t\tDone calling model_fn.\n",
      "INFO\t2019-07-02 01:27:33 +0000\tmaster-replica-0\t\tDone calling model_fn.\n",
      "INFO\t2019-07-02 01:27:33 +0000\tmaster-replica-0\t\tStarting evaluation at 2019-07-02-01:27:33\n",
      "INFO\t2019-07-02 01:27:33 +0000\tmaster-replica-0\t\tGraph was finalized.\n",
      "INFO\t2019-07-02 01:27:33 +0000\tmaster-replica-0\t\tRestoring parameters from gs://qwiklabs-gcp-62f8ff21064dedde/taxifare/ch4/taxi_trained/model.ckpt-1\n",
      "INFO\t2019-07-02 01:27:33 +0000\tmaster-replica-0\t\tRunning local_init_op.\n",
      "INFO\t2019-07-02 01:27:33 +0000\tmaster-replica-0\t\tDone running local_init_op.\n",
      "INFO\t2019-07-02 01:27:35 +0000\tmaster-replica-0\t\tFinished evaluation at 2019-07-02-01:27:35\n",
      "INFO\t2019-07-02 01:27:35 +0000\tmaster-replica-0\t\tSaving dict for global step 1: average_loss = 267.06717, global_step = 1, loss = 129327.27, rmse = 16.34219\n",
      "INFO\t2019-07-02 01:27:36 +0000\tmaster-replica-0\t\tCalling model_fn.\n",
      "INFO\t2019-07-02 01:27:36 +0000\tmaster-replica-0\t\tCalling model_fn.\n",
      "INFO\t2019-07-02 01:27:37 +0000\tmaster-replica-0\t\tDone calling model_fn.\n",
      "INFO\t2019-07-02 01:27:37 +0000\tmaster-replica-0\t\tDone calling model_fn.\n",
      "INFO\t2019-07-02 01:27:37 +0000\tmaster-replica-0\t\tSignatures INCLUDED in export for Classify: None\n",
      "INFO\t2019-07-02 01:27:37 +0000\tmaster-replica-0\t\tSignatures INCLUDED in export for Regress: None\n",
      "INFO\t2019-07-02 01:27:37 +0000\tmaster-replica-0\t\tSignatures INCLUDED in export for Predict: ['predict']\n",
      "INFO\t2019-07-02 01:27:37 +0000\tmaster-replica-0\t\tSignatures EXCLUDED from export because they cannot be be served via TensorFlow Serving APIs:\n",
      "INFO\t2019-07-02 01:27:37 +0000\tmaster-replica-0\t\t'serving_default' : Regression input must be a single string Tensor; got {'dayofweek': <tf.Tensor 'Placeholder_5:0' shape=(?,) dtype=string>, 'passengers': <tf.Tensor 'Placeholder_4:0' shape=(?,) dtype=float32>, 'pickuplat': <tf.Tensor 'Placeholder:0' shape=(?,) dtype=float32>, 'dropofflat': <tf.Tensor 'Placeholder_2:0' shape=(?,) dtype=float32>, 'hourofday': <tf.Tensor 'Placeholder_6:0' shape=(?,) dtype=int32>, 'pickuplon': <tf.Tensor 'Placeholder_1:0' shape=(?,) dtype=float32>, 'dropofflon': <tf.Tensor 'Placeholder_3:0' shape=(?,) dtype=float32>}\n",
      "INFO\t2019-07-02 01:27:37 +0000\tmaster-replica-0\t\t'regression' : Regression input must be a single string Tensor; got {'dayofweek': <tf.Tensor 'Placeholder_5:0' shape=(?,) dtype=string>, 'passengers': <tf.Tensor 'Placeholder_4:0' shape=(?,) dtype=float32>, 'pickuplat': <tf.Tensor 'Placeholder:0' shape=(?,) dtype=float32>, 'dropofflat': <tf.Tensor 'Placeholder_2:0' shape=(?,) dtype=float32>, 'hourofday': <tf.Tensor 'Placeholder_6:0' shape=(?,) dtype=int32>, 'pickuplon': <tf.Tensor 'Placeholder_1:0' shape=(?,) dtype=float32>, 'dropofflon': <tf.Tensor 'Placeholder_3:0' shape=(?,) dtype=float32>}\n",
      "WARNING\t2019-07-02 01:27:37 +0000\tmaster-replica-0\t\tExport includes no default signature!\n",
      "INFO\t2019-07-02 01:27:38 +0000\tmaster-replica-0\t\tRestoring parameters from gs://qwiklabs-gcp-62f8ff21064dedde/taxifare/ch4/taxi_trained/model.ckpt-1\n",
      "INFO\t2019-07-02 01:27:39 +0000\tmaster-replica-0\t\tAssets added to graph.\n",
      "INFO\t2019-07-02 01:27:39 +0000\tmaster-replica-0\t\tNo assets to write.\n",
      "INFO\t2019-07-02 01:27:44 +0000\tmaster-replica-0\t\tSavedModel written to: gs://qwiklabs-gcp-62f8ff21064dedde/taxifare/ch4/taxi_trained/export/exporter/temp-1562030857/saved_model.pb\n",
      "INFO\t2019-07-02 01:27:46 +0000\tmaster-replica-0\t\tloss = 190522.62, step = 1\n",
      "INFO\t2019-07-02 01:27:52 +0000\tmaster-replica-0\t\tSaving checkpoints for 68 into gs://qwiklabs-gcp-62f8ff21064dedde/taxifare/ch4/taxi_trained/model.ckpt.\n",
      "INFO\t2019-07-02 01:27:55 +0000\tmaster-replica-0\t\tSkip the current checkpoint eval due to throttle secs (600 secs).\n",
      "INFO\t2019-07-02 01:27:57 +0000\tmaster-replica-0\t\tglobal_step/sec: 9.26491\n",
      "INFO\t2019-07-02 01:27:57 +0000\tmaster-replica-0\t\tloss = 100224.53, step = 101 (10.794 sec)\n",
      "INFO\t2019-07-02 01:28:03 +0000\tmaster-replica-0\t\tglobal_step/sec: 15.2752\n",
      "INFO\t2019-07-02 01:28:03 +0000\tmaster-replica-0\t\tloss = 96116.91, step = 201 (6.546 sec)\n",
      "INFO\t2019-07-02 01:28:10 +0000\tmaster-replica-0\t\tglobal_step/sec: 14.0949\n",
      "INFO\t2019-07-02 01:28:10 +0000\tmaster-replica-0\t\tloss = 91610.164, step = 301 (7.095 sec)\n",
      "INFO\t2019-07-02 01:28:17 +0000\tmaster-replica-0\t\tglobal_step/sec: 15.6867\n",
      "INFO\t2019-07-02 01:28:17 +0000\tmaster-replica-0\t\tloss = 100330.875, step = 401 (6.375 sec)\n",
      "INFO\t2019-07-02 01:28:22 +0000\tmaster-replica-0\t\tSaving checkpoints for 476 into gs://qwiklabs-gcp-62f8ff21064dedde/taxifare/ch4/taxi_trained/model.ckpt.\n",
      "INFO\t2019-07-02 01:28:25 +0000\tmaster-replica-0\t\tSkip the current checkpoint eval due to throttle secs (600 secs).\n",
      "INFO\t2019-07-02 01:28:27 +0000\tmaster-replica-0\t\tglobal_step/sec: 9.87928\n",
      "INFO\t2019-07-02 01:28:27 +0000\tmaster-replica-0\t\tloss = 88674.08, step = 501 (10.122 sec)\n",
      "INFO\t2019-07-02 01:28:33 +0000\tmaster-replica-0\t\tglobal_step/sec: 15.1867\n",
      "INFO\t2019-07-02 01:28:33 +0000\tmaster-replica-0\t\tloss = 93516.04, step = 601 (6.585 sec)\n",
      "INFO\t2019-07-02 01:28:40 +0000\tmaster-replica-0\t\tglobal_step/sec: 14.2897\n",
      "INFO\t2019-07-02 01:28:40 +0000\tmaster-replica-0\t\tloss = 114673.48, step = 701 (6.998 sec)\n",
      "INFO\t2019-07-02 01:28:47 +0000\tmaster-replica-0\t\tglobal_step/sec: 15.7716\n",
      "INFO\t2019-07-02 01:28:47 +0000\tmaster-replica-0\t\tloss = 88799.11, step = 801 (6.340 sec)\n",
      "INFO\t2019-07-02 01:28:53 +0000\tmaster-replica-0\t\tSaving checkpoints for 883 into gs://qwiklabs-gcp-62f8ff21064dedde/taxifare/ch4/taxi_trained/model.ckpt.\n",
      "INFO\t2019-07-02 01:28:56 +0000\tmaster-replica-0\t\tSkip the current checkpoint eval due to throttle secs (600 secs).\n",
      "INFO\t2019-07-02 01:28:57 +0000\tmaster-replica-0\t\tglobal_step/sec: 9.55801\n",
      "INFO\t2019-07-02 01:28:57 +0000\tmaster-replica-0\t\tloss = 80707.77, step = 901 (10.463 sec)\n",
      "INFO\t2019-07-02 01:29:04 +0000\tmaster-replica-0\t\tglobal_step/sec: 13.9972\n",
      "INFO\t2019-07-02 01:29:04 +0000\tmaster-replica-0\t\tloss = 90241.69, step = 1001 (7.144 sec)\n",
      "INFO\t2019-07-02 01:29:11 +0000\tmaster-replica-0\t\tglobal_step/sec: 15.2699\n",
      "INFO\t2019-07-02 01:29:11 +0000\tmaster-replica-0\t\tloss = 83566.8, step = 1101 (6.549 sec)\n",
      "INFO\t2019-07-02 01:29:18 +0000\tmaster-replica-0\t\tglobal_step/sec: 15.6439\n",
      "INFO\t2019-07-02 01:29:18 +0000\tmaster-replica-0\t\tloss = 71514.72, step = 1201 (6.645 sec)\n",
      "INFO\t2019-07-02 01:29:23 +0000\tmaster-replica-0\t\tSaving checkpoints for 1271 into gs://qwiklabs-gcp-62f8ff21064dedde/taxifare/ch4/taxi_trained/model.ckpt.\n",
      "INFO\t2019-07-02 01:29:27 +0000\tmaster-replica-0\t\tSkip the current checkpoint eval due to throttle secs (600 secs).\n",
      "INFO\t2019-07-02 01:29:29 +0000\tmaster-replica-0\t\tglobal_step/sec: 8.56038\n",
      "INFO\t2019-07-02 01:29:29 +0000\tmaster-replica-0\t\tloss = 77944.24, step = 1301 (11.429 sec)\n",
      "INFO\t2019-07-02 01:29:35 +0000\tmaster-replica-0\t\tglobal_step/sec: 15.7695\n",
      "INFO\t2019-07-02 01:29:35 +0000\tmaster-replica-0\t\tloss = 74442.95, step = 1401 (6.342 sec)\n",
      "INFO\t2019-07-02 01:29:42 +0000\tmaster-replica-0\t\tglobal_step/sec: 15.0971\n",
      "INFO\t2019-07-02 01:29:42 +0000\tmaster-replica-0\t\tloss = 92144.59, step = 1501 (6.624 sec)\n",
      "INFO\t2019-07-02 01:29:49 +0000\tmaster-replica-0\t\tglobal_step/sec: 14.2587\n",
      "INFO\t2019-07-02 01:29:49 +0000\tmaster-replica-0\t\tloss = 84615.22, step = 1601 (7.013 sec)\n",
      "INFO\t2019-07-02 01:29:53 +0000\tmaster-replica-0\t\tSaving checkpoints for 1659 into gs://qwiklabs-gcp-62f8ff21064dedde/taxifare/ch4/taxi_trained/model.ckpt.\n",
      "INFO\t2019-07-02 01:29:56 +0000\tmaster-replica-0\t\tSkip the current checkpoint eval due to throttle secs (600 secs).\n",
      "INFO\t2019-07-02 01:29:59 +0000\tmaster-replica-0\t\tglobal_step/sec: 9.77627\n",
      "INFO\t2019-07-02 01:29:59 +0000\tmaster-replica-0\t\tloss = 59824.016, step = 1701 (10.229 sec)\n",
      "INFO\t2019-07-02 01:30:06 +0000\tmaster-replica-0\t\tglobal_step/sec: 15.8567\n",
      "INFO\t2019-07-02 01:30:06 +0000\tmaster-replica-0\t\tloss = 87431.414, step = 1801 (6.306 sec)\n",
      "INFO\t2019-07-02 01:30:13 +0000\tmaster-replica-0\t\tglobal_step/sec: 14.2755\n",
      "INFO\t2019-07-02 01:30:13 +0000\tmaster-replica-0\t\tloss = 70896.81, step = 1901 (7.005 sec)\n",
      "INFO\t2019-07-02 01:30:19 +0000\tmaster-replica-0\t\tglobal_step/sec: 15.4952\n",
      "INFO\t2019-07-02 01:30:19 +0000\tmaster-replica-0\t\tloss = 63839.09, step = 2001 (6.454 sec)\n",
      "INFO\t2019-07-02 01:30:23 +0000\tmaster-replica-0\t\tSaving checkpoints for 2059 into gs://qwiklabs-gcp-62f8ff21064dedde/taxifare/ch4/taxi_trained/model.ckpt.\n",
      "INFO\t2019-07-02 01:30:27 +0000\tmaster-replica-0\t\tSkip the current checkpoint eval due to throttle secs (600 secs).\n",
      "INFO\t2019-07-02 01:30:29 +0000\tmaster-replica-0\t\tglobal_step/sec: 9.5501\n",
      "INFO\t2019-07-02 01:30:29 +0000\tmaster-replica-0\t\tloss = 71126.08, step = 2101 (10.471 sec)\n",
      "INFO\t2019-07-02 01:30:36 +0000\tmaster-replica-0\t\tglobal_step/sec: 15.9864\n",
      "INFO\t2019-07-02 01:30:36 +0000\tmaster-replica-0\t\tloss = 78517.83, step = 2201 (6.255 sec)\n",
      "INFO\t2019-07-02 01:30:43 +0000\tmaster-replica-0\t\tglobal_step/sec: 14.3321\n",
      "INFO\t2019-07-02 01:30:43 +0000\tmaster-replica-0\t\tloss = 90313.984, step = 2301 (6.977 sec)\n",
      "INFO\t2019-07-02 01:30:49 +0000\tmaster-replica-0\t\tglobal_step/sec: 15.4049\n",
      "INFO\t2019-07-02 01:30:49 +0000\tmaster-replica-0\t\tloss = 71411.766, step = 2401 (6.492 sec)\n",
      "INFO\t2019-07-02 01:30:53 +0000\tmaster-replica-0\t\tSaving checkpoints for 2454 into gs://qwiklabs-gcp-62f8ff21064dedde/taxifare/ch4/taxi_trained/model.ckpt.\n",
      "INFO\t2019-07-02 01:30:56 +0000\tmaster-replica-0\t\tSkip the current checkpoint eval due to throttle secs (600 secs).\n",
      "INFO\t2019-07-02 01:30:59 +0000\tmaster-replica-0\t\tglobal_step/sec: 9.91204\n",
      "INFO\t2019-07-02 01:30:59 +0000\tmaster-replica-0\t\tloss = 81294.54, step = 2501 (10.089 sec)\n",
      "INFO\t2019-07-02 01:31:06 +0000\tmaster-replica-0\t\tglobal_step/sec: 14.5548\n",
      "INFO\t2019-07-02 01:31:06 +0000\tmaster-replica-0\t\tloss = 63268.875, step = 2601 (6.871 sec)\n",
      "INFO\t2019-07-02 01:31:13 +0000\tmaster-replica-0\t\tglobal_step/sec: 15.4564\n",
      "INFO\t2019-07-02 01:31:13 +0000\tmaster-replica-0\t\tloss = 86724.664, step = 2701 (6.470 sec)\n",
      "INFO\t2019-07-02 01:31:19 +0000\tmaster-replica-0\t\tglobal_step/sec: 15.1908\n",
      "INFO\t2019-07-02 01:31:20 +0000\tmaster-replica-0\t\tloss = 53536.945, step = 2801 (6.974 sec)\n",
      "INFO\t2019-07-02 01:31:23 +0000\tmaster-replica-0\t\tSaving checkpoints for 2851 into gs://qwiklabs-gcp-62f8ff21064dedde/taxifare/ch4/taxi_trained/model.ckpt.\n",
      "INFO\t2019-07-02 01:31:27 +0000\tmaster-replica-0\t\tSkip the current checkpoint eval due to throttle secs (600 secs).\n",
      "INFO\t2019-07-02 01:31:30 +0000\tmaster-replica-0\t\tglobal_step/sec: 8.92064\n",
      "INFO\t2019-07-02 01:31:30 +0000\tmaster-replica-0\t\tloss = 73671.61, step = 2901 (10.819 sec)\n",
      "INFO\t2019-07-02 01:31:37 +0000\tmaster-replica-0\t\tglobal_step/sec: 15.5808\n",
      "INFO\t2019-07-02 01:31:37 +0000\tmaster-replica-0\t\tloss = 78697.766, step = 3001 (6.418 sec)\n",
      "INFO\t2019-07-02 01:31:43 +0000\tmaster-replica-0\t\tglobal_step/sec: 15.3071\n",
      "INFO\t2019-07-02 01:31:43 +0000\tmaster-replica-0\t\tloss = 66621.36, step = 3101 (6.533 sec)\n",
      "INFO\t2019-07-02 01:31:50 +0000\tmaster-replica-0\t\tglobal_step/sec: 14.1204\n",
      "INFO\t2019-07-02 01:31:50 +0000\tmaster-replica-0\t\tloss = 94159.25, step = 3201 (7.082 sec)\n",
      "INFO\t2019-07-02 01:31:54 +0000\tmaster-replica-0\t\tSaving checkpoints for 3249 into gs://qwiklabs-gcp-62f8ff21064dedde/taxifare/ch4/taxi_trained/model.ckpt.\n",
      "INFO\t2019-07-02 01:31:57 +0000\tmaster-replica-0\t\tSkip the current checkpoint eval due to throttle secs (600 secs).\n",
      "INFO\t2019-07-02 01:32:00 +0000\tmaster-replica-0\t\tglobal_step/sec: 9.94316\n",
      "INFO\t2019-07-02 01:32:00 +0000\tmaster-replica-0\t\tloss = 68413.016, step = 3301 (10.057 sec)\n",
      "INFO\t2019-07-02 01:32:07 +0000\tmaster-replica-0\t\tglobal_step/sec: 15.7386\n",
      "INFO\t2019-07-02 01:32:07 +0000\tmaster-replica-0\t\tloss = 51840.234, step = 3401 (6.354 sec)\n",
      "INFO\t2019-07-02 01:32:14 +0000\tmaster-replica-0\t\tglobal_step/sec: 14.1517\n",
      "INFO\t2019-07-02 01:32:14 +0000\tmaster-replica-0\t\tloss = 66950.09, step = 3501 (7.066 sec)\n",
      "INFO\t2019-07-02 01:32:21 +0000\tmaster-replica-0\t\tglobal_step/sec: 14.253\n",
      "INFO\t2019-07-02 01:32:21 +0000\tmaster-replica-0\t\tloss = 64567.773, step = 3601 (7.016 sec)\n",
      "INFO\t2019-07-02 01:32:24 +0000\tmaster-replica-0\t\tSaving checkpoints for 3642 into gs://qwiklabs-gcp-62f8ff21064dedde/taxifare/ch4/taxi_trained/model.ckpt.\n",
      "INFO\t2019-07-02 01:32:27 +0000\tmaster-replica-0\t\tSkip the current checkpoint eval due to throttle secs (600 secs).\n",
      "INFO\t2019-07-02 01:32:31 +0000\tmaster-replica-0\t\tglobal_step/sec: 9.55102\n",
      "INFO\t2019-07-02 01:32:31 +0000\tmaster-replica-0\t\tloss = 73827.17, step = 3701 (10.470 sec)\n",
      "INFO\t2019-07-02 01:32:38 +0000\tmaster-replica-0\t\tglobal_step/sec: 15.2337\n",
      "INFO\t2019-07-02 01:32:38 +0000\tmaster-replica-0\t\tloss = 64548.14, step = 3801 (6.564 sec)\n",
      "INFO\t2019-07-02 01:32:45 +0000\tmaster-replica-0\t\tglobal_step/sec: 13.6084\n",
      "INFO\t2019-07-02 01:32:45 +0000\tmaster-replica-0\t\tloss = 75356.79, step = 3901 (7.349 sec)\n",
      "INFO\t2019-07-02 01:32:58 +0000\tmaster-replica-0\t\tSkip the current checkpoint eval due to throttle secs (600 secs).\n",
      "INFO\t2019-07-02 01:33:02 +0000\tmaster-replica-0\t\tglobal_step/sec: 9.70668\n",
      "INFO\t2019-07-02 01:33:02 +0000\tmaster-replica-0\t\tloss = 66107.234, step = 4101 (10.302 sec)\n",
      "INFO\t2019-07-02 01:33:10 +0000\tmaster-replica-0\t\tglobal_step/sec: 13.9928\n",
      "INFO\t2019-07-02 01:33:10 +0000\tmaster-replica-0\t\tloss = 68596.03, step = 4201 (7.147 sec)\n",
      "INFO\t2019-07-02 01:33:16 +0000\tmaster-replica-0\t\tglobal_step/sec: 15.5206\n",
      "INFO\t2019-07-02 01:33:16 +0000\tmaster-replica-0\t\tloss = 54582.887, step = 4301 (6.443 sec)\n",
      "INFO\t2019-07-02 01:33:23 +0000\tmaster-replica-0\t\tglobal_step/sec: 15.1382\n",
      "INFO\t2019-07-02 01:33:23 +0000\tmaster-replica-0\t\tloss = 62594.23, step = 4401 (6.859 sec)\n",
      "INFO\t2019-07-02 01:33:24 +0000\tmaster-replica-0\t\tSaving checkpoints for 4413 into gs://qwiklabs-gcp-62f8ff21064dedde/taxifare/ch4/taxi_trained/model.ckpt.\n",
      "INFO\t2019-07-02 01:33:28 +0000\tmaster-replica-0\t\tSkip the current checkpoint eval due to throttle secs (600 secs).\n",
      "INFO\t2019-07-02 01:33:34 +0000\tmaster-replica-0\t\tglobal_step/sec: 9.01417\n",
      "INFO\t2019-07-02 01:33:34 +0000\tmaster-replica-0\t\tloss = 59833.52, step = 4501 (10.841 sec)\n",
      "INFO\t2019-07-02 01:33:40 +0000\tmaster-replica-0\t\tglobal_step/sec: 15.4504\n",
      "INFO\t2019-07-02 01:33:40 +0000\tmaster-replica-0\t\tloss = 75888.08, step = 4601 (6.472 sec)\n",
      "INFO\t2019-07-02 01:33:47 +0000\tmaster-replica-0\t\tglobal_step/sec: 15.4188\n",
      "INFO\t2019-07-02 01:33:47 +0000\tmaster-replica-0\t\tloss = 78298.05, step = 4701 (6.486 sec)\n",
      "INFO\t2019-07-02 01:33:54 +0000\tmaster-replica-0\t\tglobal_step/sec: 13.818\n",
      "INFO\t2019-07-02 01:33:54 +0000\tmaster-replica-0\t\tloss = 59271.945, step = 4801 (7.237 sec)\n",
      "INFO\t2019-07-02 01:33:55 +0000\tmaster-replica-0\t\tSaving checkpoints for 4810 into gs://qwiklabs-gcp-62f8ff21064dedde/taxifare/ch4/taxi_trained/model.ckpt.\n",
      "INFO\t2019-07-02 01:33:59 +0000\tmaster-replica-0\t\tSkip the current checkpoint eval due to throttle secs (600 secs).\n",
      "INFO\t2019-07-02 01:34:05 +0000\tmaster-replica-0\t\tglobal_step/sec: 8.87333\n",
      "INFO\t2019-07-02 01:34:05 +0000\tmaster-replica-0\t\tloss = 57037.055, step = 4901 (11.270 sec)\n",
      "INFO\t2019-07-02 01:34:12 +0000\tmaster-replica-0\t\tSaving checkpoints for 5000 into gs://qwiklabs-gcp-62f8ff21064dedde/taxifare/ch4/taxi_trained/model.ckpt.\n",
      "INFO\t2019-07-02 01:34:15 +0000\tmaster-replica-0\t\tSkip the current checkpoint eval due to throttle secs (600 secs).\n",
      "INFO\t2019-07-02 01:34:16 +0000\tmaster-replica-0\t\tLoss for final step: 67455.3.\n",
      "INFO\t2019-07-02 01:34:16 +0000\tmaster-replica-0\t\tTraining has already ended. But the last eval is skipped due to eval throttle_secs. Now evaluating the final checkpoint.\n",
      "INFO\t2019-07-02 01:34:17 +0000\tmaster-replica-0\t\tCalling model_fn.\n",
      "INFO\t2019-07-02 01:34:17 +0000\tmaster-replica-0\t\tCalling model_fn.\n",
      "INFO\t2019-07-02 01:34:18 +0000\tmaster-replica-0\t\tDone calling model_fn.\n",
      "INFO\t2019-07-02 01:34:18 +0000\tmaster-replica-0\t\tDone calling model_fn.\n",
      "INFO\t2019-07-02 01:34:18 +0000\tmaster-replica-0\t\tStarting evaluation at 2019-07-02-01:34:18\n",
      "INFO\t2019-07-02 01:34:18 +0000\tmaster-replica-0\t\tGraph was finalized.\n",
      "INFO\t2019-07-02 01:34:18 +0000\tmaster-replica-0\t\tRestoring parameters from gs://qwiklabs-gcp-62f8ff21064dedde/taxifare/ch4/taxi_trained/model.ckpt-5000\n",
      "INFO\t2019-07-02 01:34:19 +0000\tmaster-replica-0\t\tRunning local_init_op.\n",
      "INFO\t2019-07-02 01:34:19 +0000\tmaster-replica-0\t\tDone running local_init_op.\n",
      "INFO\t2019-07-02 01:34:20 +0000\tmaster-replica-0\t\tFinished evaluation at 2019-07-02-01:34:20\n",
      "INFO\t2019-07-02 01:34:20 +0000\tmaster-replica-0\t\tSaving dict for global step 5000: average_loss = 111.63668, global_step = 5000, loss = 54060.062, rmse = 10.565826\n",
      "INFO\t2019-07-02 01:34:20 +0000\tmaster-replica-0\t\tCalling model_fn.\n",
      "INFO\t2019-07-02 01:34:20 +0000\tmaster-replica-0\t\tCalling model_fn.\n",
      "INFO\t2019-07-02 01:34:21 +0000\tmaster-replica-0\t\tDone calling model_fn.\n",
      "INFO\t2019-07-02 01:34:21 +0000\tmaster-replica-0\t\tDone calling model_fn.\n",
      "INFO\t2019-07-02 01:34:21 +0000\tmaster-replica-0\t\tSignatures INCLUDED in export for Classify: None\n",
      "INFO\t2019-07-02 01:34:21 +0000\tmaster-replica-0\t\tSignatures INCLUDED in export for Regress: None\n",
      "INFO\t2019-07-02 01:34:21 +0000\tmaster-replica-0\t\tSignatures INCLUDED in export for Predict: ['predict']\n",
      "INFO\t2019-07-02 01:34:21 +0000\tmaster-replica-0\t\tSignatures EXCLUDED from export because they cannot be be served via TensorFlow Serving APIs:\n",
      "INFO\t2019-07-02 01:34:21 +0000\tmaster-replica-0\t\t'serving_default' : Regression input must be a single string Tensor; got {'dayofweek': <tf.Tensor 'Placeholder_5:0' shape=(?,) dtype=string>, 'passengers': <tf.Tensor 'Placeholder_4:0' shape=(?,) dtype=float32>, 'pickuplat': <tf.Tensor 'Placeholder:0' shape=(?,) dtype=float32>, 'dropofflat': <tf.Tensor 'Placeholder_2:0' shape=(?,) dtype=float32>, 'hourofday': <tf.Tensor 'Placeholder_6:0' shape=(?,) dtype=int32>, 'pickuplon': <tf.Tensor 'Placeholder_1:0' shape=(?,) dtype=float32>, 'dropofflon': <tf.Tensor 'Placeholder_3:0' shape=(?,) dtype=float32>}\n",
      "INFO\t2019-07-02 01:34:21 +0000\tmaster-replica-0\t\t'regression' : Regression input must be a single string Tensor; got {'dayofweek': <tf.Tensor 'Placeholder_5:0' shape=(?,) dtype=string>, 'passengers': <tf.Tensor 'Placeholder_4:0' shape=(?,) dtype=float32>, 'pickuplat': <tf.Tensor 'Placeholder:0' shape=(?,) dtype=float32>, 'dropofflat': <tf.Tensor 'Placeholder_2:0' shape=(?,) dtype=float32>, 'hourofday': <tf.Tensor 'Placeholder_6:0' shape=(?,) dtype=int32>, 'pickuplon': <tf.Tensor 'Placeholder_1:0' shape=(?,) dtype=float32>, 'dropofflon': <tf.Tensor 'Placeholder_3:0' shape=(?,) dtype=float32>}\n",
      "WARNING\t2019-07-02 01:34:21 +0000\tmaster-replica-0\t\tExport includes no default signature!\n",
      "INFO\t2019-07-02 01:34:21 +0000\tmaster-replica-0\t\tRestoring parameters from gs://qwiklabs-gcp-62f8ff21064dedde/taxifare/ch4/taxi_trained/model.ckpt-5000\n",
      "INFO\t2019-07-02 01:34:22 +0000\tmaster-replica-0\t\tAssets added to graph.\n",
      "INFO\t2019-07-02 01:34:22 +0000\tmaster-replica-0\t\tNo assets to write.\n",
      "INFO\t2019-07-02 01:34:26 +0000\tmaster-replica-0\t\tSavedModel written to: gs://qwiklabs-gcp-62f8ff21064dedde/taxifare/ch4/taxi_trained/export/exporter/temp-1562031261/saved_model.pb\n",
      "INFO\t2019-07-02 01:34:27 +0000\tmaster-replica-0\t\tModule completed; cleaning up.\n",
      "INFO\t2019-07-02 01:34:27 +0000\tmaster-replica-0\t\tClean up finished.\n",
      "INFO\t2019-07-02 01:34:27 +0000\tmaster-replica-0\t\tTask completed successfully.\n",
      "gs://qwiklabs-gcp-62f8ff21064dedde/taxifare/ch4/taxi_trained/export/exporter/1562031261/\n"
     ]
    }
   ],
   "source": [
    "%%bash\n",
    "gcloud ai-platform jobs stream-logs lab4a_190702_012452\n",
    "\n",
    "gsutil ls gs://${BUCKET}/taxifare/ch4/taxi_trained/export/exporter | tail -1"
   ]
  },
  {
   "cell_type": "code",
   "execution_count": 30,
   "metadata": {},
   "outputs": [
    {
     "name": "stdout",
     "output_type": "stream",
     "text": [
      "\n",
      "MetaGraphDef with tag-set: 'serve' contains the following SignatureDefs:\n",
      "\n",
      "signature_def['predict']:\n",
      "  The given SavedModel SignatureDef contains the following input(s):\n",
      "    inputs['dayofweek'] tensor_info:\n",
      "        dtype: DT_STRING\n",
      "        shape: (-1)\n",
      "        name: Placeholder_5:0\n",
      "    inputs['dropofflat'] tensor_info:\n",
      "        dtype: DT_FLOAT\n",
      "        shape: (-1)\n",
      "        name: Placeholder_2:0\n",
      "    inputs['dropofflon'] tensor_info:\n",
      "        dtype: DT_FLOAT\n",
      "        shape: (-1)\n",
      "        name: Placeholder_3:0\n",
      "    inputs['hourofday'] tensor_info:\n",
      "        dtype: DT_INT32\n",
      "        shape: (-1)\n",
      "        name: Placeholder_6:0\n",
      "    inputs['passengers'] tensor_info:\n",
      "        dtype: DT_FLOAT\n",
      "        shape: (-1)\n",
      "        name: Placeholder_4:0\n",
      "    inputs['pickuplat'] tensor_info:\n",
      "        dtype: DT_FLOAT\n",
      "        shape: (-1)\n",
      "        name: Placeholder:0\n",
      "    inputs['pickuplon'] tensor_info:\n",
      "        dtype: DT_FLOAT\n",
      "        shape: (-1)\n",
      "        name: Placeholder_1:0\n",
      "  The given SavedModel SignatureDef contains the following output(s):\n",
      "    outputs['predictions'] tensor_info:\n",
      "        dtype: DT_FLOAT\n",
      "        shape: (-1, 1)\n",
      "        name: add_1:0\n",
      "  Method name is: tensorflow/serving/predict\n"
     ]
    },
    {
     "name": "stderr",
     "output_type": "stream",
     "text": [
      "/usr/local/envs/py2env/lib/python2.7/site-packages/h5py/__init__.py:36: FutureWarning: Conversion of the second argument of issubdtype from `float` to `np.floating` is deprecated. In future, it will be treated as `np.float64 == np.dtype(float).type`.\n",
      "  from ._conv import register_converters as _register_converters\n"
     ]
    }
   ],
   "source": [
    "%%bash\n",
    "model_dir=$(gsutil ls gs://${BUCKET}/taxifare/ch4/taxi_trained/export/exporter | tail -1)\n",
    "saved_model_cli show --dir ${model_dir} --all"
   ]
  },
  {
   "cell_type": "code",
   "execution_count": 31,
   "metadata": {},
   "outputs": [
    {
     "name": "stdout",
     "output_type": "stream",
     "text": [
      "PREDICTIONS\n",
      "[5.493101596832275]\n"
     ]
    },
    {
     "name": "stderr",
     "output_type": "stream",
     "text": [
      "WARNING: The `gcloud ml-engine` commands have been renamed and will soon be removed. Please use `gcloud ai-platform` instead.\n",
      "WARNING: /usr/local/envs/py2env/lib/python2.7/site-packages/h5py/__init__.py:36: FutureWarning: Conversion of the second argument of issubdtype from `float` to `np.floating` is deprecated. In future, it will be treated as `np.float64 == np.dtype(float).type`.\n",
      "  from ._conv import register_converters as _register_converters\n",
      "2019-07-02 01:38:07.242266: I tensorflow/core/platform/cpu_feature_guard.cc:140] Your CPU supports instructions that this TensorFlow binary was not compiled to use: AVX2 FMA\n",
      "\n"
     ]
    }
   ],
   "source": [
    "%%bash\n",
    "model_dir=$(gsutil ls gs://${BUCKET}/taxifare/ch4/taxi_trained/export/exporter | tail -1)\n",
    "gcloud ml-engine local predict \\\n",
    "  --model-dir=${model_dir} \\\n",
    "  --json-instances=/tmp/test.json"
   ]
  },
  {
   "cell_type": "markdown",
   "metadata": {},
   "source": [
    "### Optional: deploy model to cloud"
   ]
  },
  {
   "cell_type": "code",
   "execution_count": 32,
   "metadata": {},
   "outputs": [
    {
     "name": "stdout",
     "output_type": "stream",
     "text": [
      "Run these commands one-by-one (the very first time, you'll create a model and then create a version)\n"
     ]
    },
    {
     "name": "stderr",
     "output_type": "stream",
     "text": [
      "Created ml engine model [projects/qwiklabs-gcp-62f8ff21064dedde/models/feateng].\n",
      "Creating version (this might take a few minutes)......\n",
      "..............................................................................................................................................................................................................................................................................................................................................................................................................................................................................................................................................................................................................................................................................................................................................................................................................................................................................................................................................................................................................................................................................................................................................................................................................................................................................................................................................................................................................................................................................................................................................................................................done.\n"
     ]
    }
   ],
   "source": [
    "%%bash\n",
    "MODEL_NAME=\"feateng\"\n",
    "MODEL_VERSION=\"v1\"\n",
    "MODEL_LOCATION=$(gsutil ls gs://${BUCKET}/taxifare/ch4/taxi_trained/export/exporter | tail -1)\n",
    "echo \"Run these commands one-by-one (the very first time, you'll create a model and then create a version)\"\n",
    "#gcloud ai-platform versions delete ${MODEL_VERSION} --model ${MODEL_NAME}\n",
    "#gcloud ai-platform delete ${MODEL_NAME}\n",
    "gcloud ai-platform models create ${MODEL_NAME} --regions $REGION\n",
    "gcloud ai-platform versions create ${MODEL_VERSION} --model ${MODEL_NAME} --origin ${MODEL_LOCATION} --runtime-version $TFVERSION"
   ]
  },
  {
   "cell_type": "code",
   "execution_count": 33,
   "metadata": {},
   "outputs": [
    {
     "name": "stdout",
     "output_type": "stream",
     "text": [
      "PREDICTIONS\n",
      "[5.493101596832275]\n"
     ]
    }
   ],
   "source": [
    "%%bash\n",
    "gcloud ai-platform predict --model=feateng --version=v1 --json-instances=/tmp/test.json"
   ]
  },
  {
   "cell_type": "markdown",
   "metadata": {},
   "source": [
    "<h2> 6. Hyper-parameter tune </h2>\n",
    "\n",
    "Look at <a href=\"hyperparam.ipynb\">hyper-parameter tuning notebook</a> to decide what parameters to use for model. Based on that run, I ended up choosing:\n",
    "<ol>\n",
    "<li> train_batch_size: 512 </li>\n",
    "<li> nbuckets: 16 </li>\n",
    "<li> hidden_units: \"64 64 64 8\" </li>    \n",
    "</ol>\n",
    "\n",
    "This gives an RMSE of 5, a considerable improvement from the 8.3 we were getting earlier ... Let's try this over a larger dataset."
   ]
  },
  {
   "cell_type": "markdown",
   "metadata": {},
   "source": [
    "# Optional: Run Cloud training on 2 million row dataset\n",
    "\n",
    "This run uses as input 2 million rows and takes ~20 minutes with 10 workers (STANDARD_1 pricing tier). The model is exactly the same as above. The only changes are to the input (to use the larger dataset) and to the Cloud MLE tier (to use STANDARD_1 instead of BASIC -- STANDARD_1 is approximately 10x more powerful than BASIC). Because the Dataflow preprocessing takes about 15 minutes, we train here using CSV files in a public bucket.\n",
    "\n",
    "When doing distributed training, use train_steps instead of num_epochs. The distributed workers don't know how many rows there are, but we can calculate train_steps = num_rows \\* num_epochs / train_batch_size. In this case, we have 2141023 * 100 / 512 = 418168 train steps."
   ]
  },
  {
   "cell_type": "code",
   "execution_count": null,
   "metadata": {
    "collapsed": true
   },
   "outputs": [],
   "source": [
    "%%bash\n",
    "\n",
    "WARNING -- this uses significant resources and is optional. Remove this line to run the block.\n",
    "\n",
    "OUTDIR=gs://${BUCKET}/taxifare/feateng2m\n",
    "JOBNAME=lab4a_$(date -u +%y%m%d_%H%M%S)\n",
    "TIER=STANDARD_1 \n",
    "echo $OUTDIR $REGION $JOBNAME\n",
    "gsutil -m rm -rf $OUTDIR\n",
    "gcloud ai-platform jobs submit training $JOBNAME \\\n",
    "   --region=$REGION \\\n",
    "   --module-name=trainer.task \\\n",
    "   --package-path=${PWD}/taxifare/trainer \\\n",
    "   --job-dir=$OUTDIR \\\n",
    "   --staging-bucket=gs://$BUCKET \\\n",
    "   --scale-tier=$TIER \\\n",
    "   --runtime-version=$TFVERSION \\\n",
    "   -- \\\n",
    "   --train_data_paths=\"gs://${BUCKET}/taxifare/train*\" \\\n",
    "   --eval_data_paths=\"gs://${BUCKET}/taxifare/valid*\"  \\\n",
    "   --output_dir=$OUTDIR \\\n",
    "   --train_steps=418168 \\\n",
    "   --train_batch_size=512 --nbuckets=16 --hidden_units=\"64 64 64 8\""
   ]
  },
  {
   "cell_type": "markdown",
   "metadata": {},
   "source": [
    "The RMSE after training on the 2-million-row dataset is \\$3.03.  This graph shows the improvements so far ..."
   ]
  },
  {
   "cell_type": "code",
   "execution_count": null,
   "metadata": {
    "collapsed": true
   },
   "outputs": [],
   "source": [
    "import pandas as pd\n",
    "import seaborn as sns\n",
    "import numpy as np\n",
    "import matplotlib.pyplot as plt\n",
    "\n",
    "df = pd.DataFrame({'Lab' : pd.Series(['1a', '2-3', '4a', '4b', '4c']),\n",
    "              'Method' : pd.Series(['Heuristic Benchmark', 'tf.learn', '+Feature Eng.', '+ Hyperparam', '+ 2m rows']),\n",
    "              'RMSE': pd.Series([8.026, 9.4, 8.3, 5.0, 3.03]) })\n",
    "\n",
    "ax = sns.barplot(data = df, x = 'Method', y = 'RMSE')\n",
    "ax.set_ylabel('RMSE (dollars)')\n",
    "ax.set_xlabel('Labs/Methods')\n",
    "plt.plot(np.linspace(-20, 120, 1000), [5] * 1000, 'b');"
   ]
  },
  {
   "cell_type": "code",
   "execution_count": null,
   "metadata": {
    "collapsed": true
   },
   "outputs": [],
   "source": [
    "%%bash\n",
    "gsutil -m mv gs://${BUCKET}/taxifare/ch4/ gs://${BUCKET}/taxifare/ch4_1m/"
   ]
  },
  {
   "cell_type": "markdown",
   "metadata": {},
   "source": [
    "Copyright 2016 Google Inc. Licensed under the Apache License, Version 2.0 (the \"License\"); you may not use this file except in compliance with the License. You may obtain a copy of the License at http://www.apache.org/licenses/LICENSE-2.0 Unless required by applicable law or agreed to in writing, software distributed under the License is distributed on an \"AS IS\" BASIS, WITHOUT WARRANTIES OR CONDITIONS OF ANY KIND, either express or implied. See the License for the specific language governing permissions and limitations under the License"
   ]
  }
 ],
 "metadata": {
  "kernelspec": {
   "display_name": "Python 2",
   "language": "python",
   "name": "python2"
  },
  "language_info": {
   "codemirror_mode": {
    "name": "ipython",
    "version": 2
   },
   "file_extension": ".py",
   "mimetype": "text/x-python",
   "name": "python",
   "nbconvert_exporter": "python",
   "pygments_lexer": "ipython2",
   "version": "2.7.15"
  }
 },
 "nbformat": 4,
 "nbformat_minor": 2
}
