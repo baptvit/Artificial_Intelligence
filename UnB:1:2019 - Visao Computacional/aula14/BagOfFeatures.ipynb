{
 "cells": [
  {
   "cell_type": "markdown",
   "metadata": {},
   "source": [
    "## encontrando pontos-de-interesse em uma imagem e gerando um vetor-de-característica para cada ponto"
   ]
  },
  {
   "cell_type": "code",
   "execution_count": 25,
   "metadata": {},
   "outputs": [
    {
     "data": {
      "image/png": "[encoded data removed]",
      "text/plain": [
       "<Figure size 432x288 with 1 Axes>"
      ]
     },
     "metadata": {},
     "output_type": "display_data"
    },
    {
     "data": {
      "text/plain": [
       "(<matplotlib.image.AxesImage at 0x1e72ce56208>, None)"
      ]
     },
     "execution_count": 25,
     "metadata": {},
     "output_type": "execute_result"
    }
   ],
   "source": [
    "import numpy as np\n",
    "import cv2\n",
    "from matplotlib import pyplot as plt\n",
    "\n",
    "img = cv2.imread('1-0.jpg',0)\n",
    "\n",
    "# Initiate SIFT detector\n",
    "#orb = cv2.ORB_create() #ORB é a versão não patenteada\n",
    "sift = cv2.xfeatures2d.SIFT_create()\n",
    "\n",
    "# encontrando os pontos-de-interesse\n",
    "kp = sift.detect(img,None)\n",
    "\n",
    "# computando o vetor-de-característica para cada ponto dectado no passo anterior\n",
    "kp, des = sift.compute(img, kp)\n",
    "\n",
    "#desenhando os pontos na imagem\n",
    "img2 = cv2.drawKeypoints(img, kp, None)\n",
    "\n",
    "\n",
    "plt.imshow(img2),plt.show()"
   ]
  },
  {
   "cell_type": "code",
   "execution_count": 19,
   "metadata": {},
   "outputs": [
    {
     "name": "stdout",
     "output_type": "stream",
     "text": [
      "Foram detectados:  640  pontos\n",
      "Cada ponto tem:  128  características\n"
     ]
    }
   ],
   "source": [
    "qtdePontos = len(kp)\n",
    "print('Foram detectados: ', qtdePontos, ' pontos')\n",
    "print('Cada ponto tem: ', len(des[0]), ' características')"
   ]
  },
  {
   "cell_type": "markdown",
   "metadata": {},
   "source": [
    "# criando o dicionário de palavras-visuais"
   ]
  },
  {
   "cell_type": "code",
   "execution_count": 12,
   "metadata": {},
   "outputs": [
    {
     "name": "stdout",
     "output_type": "stream",
     "text": [
      "[[21.351852  14.         7.7592626 ... 20.166662  15.740743  26.370369 ]\n",
      " [25.921345  17.606739   8.089891  ...  4.0674095  3.4831486 16.94382  ]\n",
      " [35.634914  12.253963   8.095242  ... 18.857143   7.063493  14.761905 ]\n",
      " ...\n",
      " [43.351357  19.527025   9.283787  ...  7.2837806  2.743247   5.810811 ]\n",
      " [17.531246   9.328126  10.937502  ...  6.5781217  3.7187529 13.5625   ]\n",
      " [28.75      13.196426   6.732146  ... 19.803568   3.9285746  4.8571424]]\n"
     ]
    }
   ],
   "source": [
    "from sklearn.cluster import KMeans\n",
    "from sklearn import metrics\n",
    "import numpy as np\n",
    "import matplotlib.pyplot as plt\n",
    "\n",
    "K = 10\n",
    "kmeans_model = KMeans(n_clusters=K).fit(des) #des são os vetores-de-características\n",
    "\n",
    "palavras = np.array(kmeans_model.cluster_centers_)\n",
    "\n",
    "print(palavras)"
   ]
  },
  {
   "cell_type": "code",
   "execution_count": 20,
   "metadata": {},
   "outputs": [
    {
     "name": "stdout",
     "output_type": "stream",
     "text": [
      "[ 21.351852   14.          7.7592626  43.462963   71.777794   19.166668\n",
      "   3.0185208  10.185184   79.648155   30.888887    8.000002   21.370373\n",
      "  28.185184   15.611114    8.740741   23.09259    29.722237   12.777783\n",
      "   8.592592   22.333336   48.259247   31.259258   11.518519   13.981482\n",
      "  27.35185    20.277777   10.000001   13.907408   20.333328   16.759256\n",
      "   4.388886    9.537034   26.074074   10.055553    6.648152   52.01853\n",
      "  99.81485    33.574074    5.9814796   7.407402  125.75927    29.888891\n",
      "   5.2777805  15.92593    26.999998   17.999998   11.888887   42.092587\n",
      "  46.77778    11.055555    4.222219   21.388891   87.25929    53.203686\n",
      "  15.055555   16.166672   46.7963     15.685184    6.3333316  10.77778\n",
      "  28.222221   25.962963   11.000001   20.574074   23.38889     5.796301\n",
      "   2.3148108  36.35186   103.388855   52.592567    9.537035    8.907411\n",
      " 126.72221    46.092598    9.962963   13.425924   26.94444    18.574076\n",
      "   6.3333316  27.037035   51.74077    22.351852   15.148149   39.351845\n",
      "  81.53701    33.648144    9.333334   15.037041   48.944443   13.537039\n",
      "   4.6481533  11.574079   26.61111    25.851856   17.148153   27.148144\n",
      "  12.777786    7.851854    3.499999   21.518518   74.55556    44.592613\n",
      "   9.777778   13.111112   79.27778    25.074072    7.370371   12.074074\n",
      "  27.222221   18.944439   12.055555   39.259262   47.759262   21.518518\n",
      "  11.481481   22.703701   43.77778    21.703705   12.3148155  26.388893\n",
      "  41.574074   12.759259    4.0370417  11.055553   22.499996   20.166662\n",
      "  15.740743   26.370369 ]\n",
      "Tamanho da primeira palavra:  128\n",
      "Qtde de palavras:  10\n"
     ]
    }
   ],
   "source": [
    "#mostrando a 1° palavra\n",
    "print(palavras[0])\n",
    "print('Tamanho da primeira palavra: ', len(palavras[0]))\n",
    "print('Qtde de palavras: ', len(palavras))"
   ]
  },
  {
   "cell_type": "markdown",
   "metadata": {},
   "source": [
    "# atribuindo uma palavra-visual para cada ponto detectado"
   ]
  },
  {
   "cell_type": "code",
   "execution_count": 23,
   "metadata": {},
   "outputs": [
    {
     "name": "stdout",
     "output_type": "stream",
     "text": [
      "[4, 9, 9, 3, 7, 1, 1, 7, 7, 1, 1, 1, 9, 5, 9, 1, 1, 1, 1, 5, 5, 5, 4, 1, 8, 1, 5, 7, 2, 0, 9, 3, 0, 8, 5, 5, 2, 3, 8, 4, 6, 3, 2, 2, 4, 5, 5, 0, 8, 5, 4, 2, 8, 9, 3, 5, 0, 6, 5, 5, 6, 2, 5, 0, 9, 4, 9, 9, 9, 8, 9, 5, 6, 9, 9, 9, 3, 5, 8, 0, 9, 5, 3, 5, 2, 4, 4, 2, 8, 4, 5, 5, 2, 8, 5, 1, 8, 5, 8, 5, 9, 4, 2, 9, 2, 4, 5, 5, 9, 4, 5, 5, 0, 1, 6, 0, 2, 9, 8, 3, 2, 5, 7, 6, 2, 5, 3, 3, 5, 9, 2, 8, 2, 5, 0, 8, 9, 2, 6, 9, 0, 1, 2, 5, 5, 5, 3, 5, 5, 5, 5, 5, 6, 8, 4, 1, 0, 6, 9, 0, 0, 3, 3, 4, 5, 6, 1, 4, 2, 5, 5, 0, 0, 4, 9, 2, 2, 4, 0, 7, 9, 4, 2, 5, 4, 4, 9, 1, 5, 5, 6, 8, 8, 3, 7, 0, 0, 2, 8, 0, 5, 9, 5, 4, 6, 3, 4, 7, 2, 8, 2, 8, 2, 2, 5, 8, 4, 2, 5, 5, 7, 4, 2, 5, 9, 5, 5, 8, 9, 7, 3, 5, 2, 5, 5, 0, 3, 8, 5, 2, 6, 1, 5, 2, 4, 2, 4, 4, 0, 3, 3, 3, 0, 0, 0, 2, 2, 2, 3, 8, 6, 5, 8, 2, 0, 9, 1, 5, 6, 6, 9, 3, 8, 2, 4, 1, 5, 9, 2, 2, 2, 5, 5, 5, 5, 4, 6, 2, 2, 2, 7, 5, 5, 3, 3, 9, 5, 5, 3, 3, 1, 9, 9, 4, 5, 0, 5, 4, 6, 2, 2, 5, 9, 9, 8, 9, 8, 6, 8, 8, 5, 9, 9, 5, 5, 8, 0, 5, 7, 9, 2, 2, 5, 8, 3, 4, 1, 5, 5, 3, 3, 0, 9, 6, 5, 5, 7, 9, 9, 7, 5, 5, 0, 7, 1, 8, 5, 7, 3, 7, 0, 2, 2, 9, 8, 0, 1, 7, 1, 1, 8, 9, 7, 8, 0, 5, 1, 1, 1, 1, 7, 9, 7, 3, 0, 7, 0, 5, 2, 1, 1, 2, 1, 7, 7, 1, 7, 5, 2, 5, 1, 1, 1, 8, 1, 1, 9, 1, 5, 0, 1, 8, 6, 4, 2, 7, 3, 3, 8, 7, 8, 2, 2, 7, 7, 2, 4, 0, 1, 1, 8, 2, 8, 1, 7, 7, 7, 4, 3, 3, 8, 4, 7, 1, 7, 7, 7, 4, 3, 3, 8, 8, 1, 1, 1, 7, 0, 0, 4, 1, 1, 3, 8, 1, 0, 8, 4, 7, 7, 7, 6, 4, 3, 7, 8, 7, 8, 7, 7, 7, 8, 0, 1, 3, 0, 7, 7, 3, 3, 3, 0, 8, 8, 8, 4, 4, 0, 8, 7, 2, 1, 8, 8, 4, 0, 3, 4, 7, 5, 6, 8, 0, 7, 1, 7, 5, 1, 7, 8, 9, 8, 9, 9, 7, 1, 1, 1, 6, 3, 7, 8, 1, 3, 6, 1, 6, 3, 0, 3, 1, 6, 7, 1, 1, 6, 8, 4, 1, 1, 4, 6, 4, 4, 0, 4, 6, 5, 1, 1, 7, 1, 1, 1, 7, 1, 0, 7, 0, 7, 1, 6, 9, 7, 1, 6, 7, 7, 6, 7, 6, 1, 7, 7, 0, 7, 7, 7, 8, 8, 3, 4, 5, 1, 4, 2, 7, 1, 5, 4, 3, 3, 1, 5, 1, 7, 1, 4, 1, 3, 4, 6, 3, 5, 1, 2, 2, 1, 9, 9, 0, 9, 9, 1, 1, 5, 5, 1, 7, 1, 0, 7, 7, 1, 0, 0, 2, 1, 7, 8, 1]\n",
      "qtde de pontos rotulados:  640\n"
     ]
    }
   ],
   "source": [
    "def distancia(a, b):\n",
    "    M = len(a)\n",
    "    soma = 0\n",
    "    for i in range(M):\n",
    "        soma = soma + ((a[i]-b[i])**2)\n",
    "    return np.sqrt(soma) \n",
    "\n",
    "pontos_rotulados = []\n",
    "\n",
    "\n",
    "for ponto in des:\n",
    "    min = 9999\n",
    "    label = -1\n",
    "    \n",
    "    for i in range(len(palavras)):\n",
    "        dist = distancia(ponto, palavras[i])\n",
    "        if(dist < min):\n",
    "            min = dist\n",
    "            label = i\n",
    "            \n",
    "    pontos_rotulados.append(label)\n",
    "\n",
    "print(pontos_rotulados)  \n",
    "print('qtde de pontos rotulados: ', len(pontos_rotulados))"
   ]
  },
  {
   "cell_type": "markdown",
   "metadata": {},
   "source": [
    "## computando a frequencia das palavras-visuais na imagem (histograma de palavras)"
   ]
  },
  {
   "cell_type": "code",
   "execution_count": 24,
   "metadata": {},
   "outputs": [
    {
     "data": {
      "text/plain": [
       "[<matplotlib.lines.Line2D at 0x1e72cdf2908>]"
      ]
     },
     "execution_count": 24,
     "metadata": {},
     "output_type": "execute_result"
    },
    {
     "data": {
      "image/png": "[encoded data removed]",
      "text/plain": [
       "<Figure size 432x288 with 1 Axes>"
      ]
     },
     "metadata": {},
     "output_type": "display_data"
    }
   ],
   "source": [
    "hist = np.zeros(10)\n",
    "\n",
    "for i in pontos_rotulados:\n",
    "    hist[i] += 1\n",
    "    \n",
    "plt.plot(hist)    "
   ]
  },
  {
   "cell_type": "markdown",
   "metadata": {},
   "source": [
    "## gerando o vetor de característica para cada imagem da base de dados"
   ]
  },
  {
   "cell_type": "code",
   "execution_count": 33,
   "metadata": {},
   "outputs": [],
   "source": [
    "def extrair_caracteristica(img):\n",
    "    sift = cv2.xfeatures2d.SIFT_create()\n",
    "    # encontrando os pontos-de-interesse\n",
    "    kp = sift.detect(img,None)\n",
    "    print('Qtde Pontos Detectados: ', len(kp))\n",
    "    # computando o vetor-de-característica para cada ponto dectado no passo anterior\n",
    "    kp, des = sift.compute(img, kp)\n",
    "    pontos_rotulados = []\n",
    "\n",
    "    for ponto in des:\n",
    "        min = 9999\n",
    "        label = -1\n",
    "        for i in range(len(palavras)):\n",
    "            dist = distancia(ponto, palavras[i])\n",
    "            if(dist < min):\n",
    "                min = dist\n",
    "                label = i\n",
    "        pontos_rotulados.append(label)\n",
    "    \n",
    "    hist = np.zeros(10)\n",
    "\n",
    "    for i in pontos_rotulados:\n",
    "        hist[i] += 1\n",
    "    \n",
    "    return hist\n",
    "    "
   ]
  },
  {
   "cell_type": "code",
   "execution_count": 34,
   "metadata": {},
   "outputs": [
    {
     "name": "stdout",
     "output_type": "stream",
     "text": [
      "Qtde Pontos Detectados:  35\n",
      "1-0.jpg [ 1. 11.  1.  2.  2.  0.  2. 12.  4.  0.]\n",
      "Qtde Pontos Detectados:  35\n",
      "1-1.jpg [ 0. 14.  0.  1.  1.  0.  3. 14.  2.  0.]\n",
      "Qtde Pontos Detectados:  22\n",
      "1-2.jpg [ 1.  5.  0.  2.  2.  1.  0. 11.  0.  0.]\n",
      "Qtde Pontos Detectados:  28\n",
      "2-0.jpg [ 0. 10.  0.  0.  1.  0.  1. 16.  0.  0.]\n",
      "Qtde Pontos Detectados:  31\n",
      "2-1.jpg [ 1. 16.  0.  3.  1.  1.  0.  9.  0.  0.]\n",
      "Qtde Pontos Detectados:  12\n",
      "2-2.jpg [0. 6. 0. 1. 0. 0. 0. 5. 0. 0.]\n",
      "Qtde Pontos Detectados:  22\n",
      "3-0.jpg [ 0.  9.  0.  2.  1.  0.  0. 10.  0.  0.]\n",
      "Qtde Pontos Detectados:  33\n",
      "3-1.jpg [ 0. 14.  0.  0.  4.  0.  0. 15.  0.  0.]\n",
      "Qtde Pontos Detectados:  29\n",
      "3-2.jpg [ 0.  9.  1.  0.  3.  0.  1. 14.  1.  0.]\n",
      "Qtde Pontos Detectados:  77\n",
      "4-0.jpg [ 1. 18.  6.  5.  8.  5.  8. 23.  1.  2.]\n",
      "Qtde Pontos Detectados:  54\n",
      "4-1.jpg [ 1.  9.  3.  5. 11.  1.  6. 15.  1.  2.]\n",
      "Qtde Pontos Detectados:  55\n",
      "4-2.jpg [ 0. 17.  3.  1.  8.  7.  4. 15.  0.  0.]\n",
      "Qtde Pontos Detectados:  16\n",
      "5-0.jpg [0. 5. 0. 0. 1. 0. 0. 9. 1. 0.]\n",
      "Qtde Pontos Detectados:  20\n",
      "5-1.jpg [ 0.  7.  0.  0.  0.  0.  1. 11.  1.  0.]\n",
      "Qtde Pontos Detectados:  19\n",
      "5-2.jpg [ 2.  3.  0.  0.  1.  0.  0. 13.  0.  0.]\n",
      "Qtde Pontos Detectados:  645\n",
      "lena.jpg [ 55.  85.  62.  53.  54. 102.  34.  74.  65.  61.]\n",
      "Qtde Pontos Detectados:  384\n",
      "lena2.jpg [25. 48. 33. 34. 35. 50. 22. 46. 53. 38.]\n"
     ]
    }
   ],
   "source": [
    "import os\n",
    "\n",
    "files_path = [os.path.abspath(x) for x in os.listdir('./') if x.endswith('.jpg')]\n",
    "\n",
    "base_teste = []\n",
    "\n",
    "#extraindo as características das imagens na base de dados\n",
    "for i in files_path:\n",
    "    diretorio, arquivo = os.path.split(i)\n",
    "    imagem = cv2.imread(arquivo)\n",
    "    carac = extrair_caracteristica(imagem)\n",
    "    print(arquivo, carac)\n",
    "    classe = arquivo.split('-')\n",
    "    base_teste.append((carac, classe[0]))  "
   ]
  },
  {
   "cell_type": "code",
   "execution_count": null,
   "metadata": {},
   "outputs": [],
   "source": []
  }
 ],
 "metadata": {
  "kernelspec": {
   "display_name": "Python 3",
   "language": "python",
   "name": "python3"
  },
  "language_info": {
   "codemirror_mode": {
    "name": "ipython",
    "version": 3
   },
   "file_extension": ".py",
   "mimetype": "text/x-python",
   "name": "python",
   "nbconvert_exporter": "python",
   "pygments_lexer": "ipython3",
   "version": "3.6.5"
  }
 },
 "nbformat": 4,
 "nbformat_minor": 2
}
