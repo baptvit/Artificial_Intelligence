{
 "cells": [
  {
   "cell_type": "markdown",
   "metadata": {},
   "source": [
    "## Gerando arquivo ARFF"
   ]
  },
  {
   "cell_type": "code",
   "execution_count": 50,
   "metadata": {},
   "outputs": [],
   "source": [
    "def gravar_arquivo_arff(base_teste, classes):\n",
    "    tam = len(base_teste[0][0])\n",
    "    file = open('test.arff','w') \n",
    " \n",
    "    file.write('@relation teste\\n') \n",
    "    for i in range(tam):\n",
    "        file.write('@attribute '+ str(i) +' NUMERIC\\n') \n",
    "    \n",
    "    file.write('@attribute classes {')\n",
    "    \n",
    "    a = set(classes)\n",
    "    \n",
    "    for i in a:\n",
    "        file.write(str(i)+',')\n",
    "    \n",
    "    file.write('}')    \n",
    "    \n",
    "    for i in range(tam):\n",
    "         len(set(classes))\n",
    "    \n",
    "    file.write('\\n@data\\n') \n",
    "\n",
    "    for item in base_teste:\n",
    "        for i in range(len(item[0])):\n",
    "            file.write(\"%s,\" % str(item[0][i])) \n",
    "        file.write(\"%s\\n\" % item[1])    \n",
    " \n",
    "    file.close() \n",
    "    print('arquivo gravado')"
   ]
  },
  {
   "cell_type": "code",
   "execution_count": 67,
   "metadata": {
    "scrolled": false
   },
   "outputs": [
    {
     "name": "stdout",
     "output_type": "stream",
     "text": [
      "1-0.jpg [0.03785566 0.93918671 0.02295763]\n",
      "1-1.jpg [0.03546014 0.95103124 0.01350862]\n",
      "1-2.jpg [0.04263125 0.93864643 0.01872233]\n",
      "2-0.jpg [0.03152892 0.95328619 0.01518488]\n",
      "2-1.jpg [0.03242571 0.95074003 0.01683426]\n",
      "2-2.jpg [0.02726544 0.95887272 0.01386184]\n",
      "3-0.jpg [0.97255575 0.01505622 0.01238803]\n",
      "3-1.jpg [0.98391621 0.01047316 0.00561062]\n",
      "3-2.jpg [0.97661491 0.01322599 0.0101591 ]\n",
      "4-0.jpg [0.06734474 0.90537833 0.02727693]\n",
      "4-1.jpg [0.05016669 0.91903477 0.03079854]\n",
      "4-2.jpg [0.06221349 0.90815324 0.02963327]\n",
      "5-0.jpg [0.06599614 0.91030587 0.02369799]\n",
      "5-1.jpg [0.06525526 0.91625352 0.01849122]\n",
      "5-2.jpg [0.06479717 0.9068881  0.02831473]\n",
      "arquivo gravado\n"
     ]
    }
   ],
   "source": [
    "import cv2\n",
    "import numpy as np\n",
    "import matplotlib.pyplot as plt\n",
    "import os\n",
    "from statistics import mode\n",
    "\n",
    "def extrair_caracteristica2(img):\n",
    "    histB = cv2.calcHist([img],[0],None,[10],[240,250])\n",
    "    histG = cv2.calcHist([img],[1],None,[10],[240,250])\n",
    "    histR = cv2.calcHist([img],[2],None,[10],[240,250])\n",
    "    cv2.normalize(histB, histB)\n",
    "    cv2.normalize(histG, histG)\n",
    "    cv2.normalize(histR, histR)\n",
    "    histFinal = np.append(np.append(histB, histG),histR)\n",
    "    return histFinal\n",
    "\n",
    "def extrair_caracteristica(img):\n",
    "    qtdeVerde = 0\n",
    "    qtdeAzul = 0\n",
    "    qtdeVermelho = 0\n",
    "    qtdeLinhas, qtdeColunas, c = img.shape\n",
    "    for i in range(qtdeLinhas):\n",
    "        for j in range(qtdeColunas):\n",
    "            if(img[i,j,1] > img[i,j,0] and img[i,j,1] > img[i,j,2]):\n",
    "                qtdeVerde += 1\n",
    "            if(img[i,j,2] > img[i,j,0] and img[i,j,2] > img[i,j,1]):\n",
    "                qtdeVermelho += 1    \n",
    "            if(img[i,j,0] > img[i,j,1] and img[i,j,0] > img[i,j,2]):\n",
    "                qtdeAzul += 1    \n",
    "    qtdeVerde2 = qtdeVerde/(qtdeVerde+qtdeAzul+qtdeVermelho)\n",
    "    qtdeVermelho2 = qtdeVermelho/(qtdeVerde+qtdeAzul+qtdeVermelho)\n",
    "    qtdeAzul2 = qtdeAzul/(qtdeVerde+qtdeAzul+qtdeVermelho)\n",
    "    return np.append(np.append(qtdeVerde2, qtdeVermelho2),qtdeAzul2)\n",
    "    \n",
    "\n",
    "files_path = [os.path.abspath(x) for x in os.listdir('./') if x.endswith('.jpg')]\n",
    "\n",
    "base_teste = []\n",
    "classes = []\n",
    "\n",
    "#extraindo as características das imagens na base de dados\n",
    "for i in files_path:\n",
    "    diretorio, arquivo = os.path.split(i)\n",
    "    imagem = cv2.imread(arquivo)\n",
    "    carac = extrair_caracteristica(imagem)\n",
    "    print(arquivo, carac)\n",
    "    classe = arquivo.split('-')\n",
    "    classes.append(classe[0])\n",
    "    base_teste.append((carac, classe[0]))\n",
    "    \n",
    "\n",
    "gravar_arquivo_arff(base_teste, classes)    "
   ]
  },
  {
   "cell_type": "markdown",
   "metadata": {},
   "source": [
    "## Agrupamento (clustering) usando o K Means"
   ]
  },
  {
   "cell_type": "code",
   "execution_count": 72,
   "metadata": {},
   "outputs": [
    {
     "name": "stdout",
     "output_type": "stream",
     "text": [
      "[array([0.03785566, 0.93918671, 0.02295763]), array([0.03546014, 0.95103124, 0.01350862]), array([0.04263125, 0.93864643, 0.01872233]), array([0.03152892, 0.95328619, 0.01518488]), array([0.03242571, 0.95074003, 0.01683426]), array([0.02726544, 0.95887272, 0.01386184]), array([0.97255575, 0.01505622, 0.01238803]), array([0.98391621, 0.01047316, 0.00561062]), array([0.97661491, 0.01322599, 0.0101591 ]), array([0.06734474, 0.90537833, 0.02727693]), array([0.05016669, 0.91903477, 0.03079854]), array([0.06221349, 0.90815324, 0.02963327]), array([0.06599614, 0.91030587, 0.02369799]), array([0.06525526, 0.91625352, 0.01849122]), array([0.06479717, 0.9068881 , 0.02831473])]\n"
     ]
    }
   ],
   "source": [
    "X = []\n",
    "for i in base_teste:\n",
    "    X.append(i[0])\n",
    "\n",
    "print(X)"
   ]
  },
  {
   "cell_type": "code",
   "execution_count": 73,
   "metadata": {},
   "outputs": [
    {
     "name": "stdout",
     "output_type": "stream",
     "text": [
      "[[0.03452785 0.94862722 0.01684493]\n",
      " [0.97769562 0.01291846 0.00938592]\n",
      " [0.06262892 0.91100231 0.02636878]]\n"
     ]
    }
   ],
   "source": [
    "from sklearn.cluster import KMeans\n",
    "from sklearn import metrics\n",
    "import numpy as np\n",
    "import matplotlib.pyplot as plt\n",
    "\n",
    "K = 3\n",
    "kmeans_model = KMeans(n_clusters=K).fit(X)\n",
    "\n",
    "print(kmeans_model.cluster_centers_)\n",
    "centers = np.array(kmeans_model.cluster_centers_)"
   ]
  },
  {
   "cell_type": "code",
   "execution_count": null,
   "metadata": {},
   "outputs": [],
   "source": []
  }
 ],
 "metadata": {
  "kernelspec": {
   "display_name": "Python 3",
   "language": "python",
   "name": "python3"
  },
  "language_info": {
   "codemirror_mode": {
    "name": "ipython",
    "version": 3
   },
   "file_extension": ".py",
   "mimetype": "text/x-python",
   "name": "python",
   "nbconvert_exporter": "python",
   "pygments_lexer": "ipython3",
   "version": "3.6.5"
  }
 },
 "nbformat": 4,
 "nbformat_minor": 2
}
