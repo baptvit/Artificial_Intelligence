{
 "cells": [
  {
   "cell_type": "markdown",
   "metadata": {},
   "source": [
    "O\t filtro\t de\t média\t pode\t ser\t aplicado\t pela\t função\t \tblur\t\t da\n",
    "biblioteca\t OpenCV,\t que\t requer\t apenas\t dois\t parâmetros.\t O\n",
    "primeiro\t refere-se\t à\t imagem\t que\t será\t submetida\t ao\t filtro,\t o\n",
    "segundo,\t à\t dimensão\t da\t máscara\t que\t será\t aplicada.\t O\t código\n",
    "seguinte\texemplifica\tcomo\trealizar\ta\taplicação\tdo\tfiltro\tde\tmédia:"
   ]
  },
  {
   "cell_type": "code",
   "execution_count": 98,
   "metadata": {},
   "outputs": [],
   "source": [
    "import cv2 \n",
    "imgOriginal = cv2.imread(\"lena_ruido3.jpg\") \n",
    "imgTratada = cv2.blur(imgOriginal, (5,5)) \n",
    "\n",
    "plt.imshow(imgOriginal)\n",
    "plt.show()\n",
    "plt.imshow(imgTratada)"
   ]
  },
  {
   "cell_type": "markdown",
   "metadata": {},
   "source": [
    "Para utilizar o filtro gaussiano três\t parâmetros\t são\tnecessários\t para\t execução.\n",
    "O\tprimeiro\tdeles\té\ta\timagem\ta\tser\ttratada;\to\tsegundo,\ta\tdimensão\n",
    "da\tmatriz\tque\trepresenta\ta\tmáscara\tde\tfiltragem;\te\to\túltimo,\to\tgrau\n",
    "de\t suavização.\tNa\tprática,\tquanto\tmaior\to\tvalor\tdesse\túltimo parâmetro,\tmais\n",
    "intensa\t será\t a\t suavização.\t"
   ]
  },
  {
   "cell_type": "markdown",
   "metadata": {},
   "source": [
    "É recomendado que a máscara seja uma matriz quadrada, com número ímpar de linhas e colunas. Quanto maior a dimensão da máscara, maior será o efeito do filtro sobre a imagem. O código seguinte exemplifica a aplicação do filtro gaussiano com o método GaussianBlur ."
   ]
  },
  {
   "cell_type": "code",
   "execution_count": 99,
   "metadata": {},
   "outputs": [],
   "source": [
    "import cv2 \n",
    "imgOriginal = cv2.imread(\"lena_ruido3.jpg\") \n",
    "imgTratada = cv2.GaussianBlur(imgOriginal,(5,5),2)\n",
    "\n",
    "plt.imshow(imgOriginal)\n",
    "plt.show()\n",
    "plt.imshow(imgTratada)"
   ]
  },
  {
   "cell_type": "markdown",
   "metadata": {},
   "source": [
    "Para utilizar o filtro da mediana, apenas dois parâmetros são necessários para utilizá-lo. O primeiro deles é a imagem que receberá o tratamento, e o segundo é um valor inteiro, ímpar e positivo, que indicará o tamanho da máscara."
   ]
  },
  {
   "cell_type": "code",
   "execution_count": 100,
   "metadata": {},
   "outputs": [],
   "source": [
    "import cv2 \n",
    "imgOriginal = cv2.imread(\"lena_ruido2.jpg\") \n",
    "imgTratada = cv2.medianBlur(imgOriginal,3)\n",
    "\n",
    "plt.imshow(imgOriginal)\n",
    "plt.show()\n",
    "plt.imshow(imgTratada)"
   ]
  },
  {
   "cell_type": "markdown",
   "metadata": {},
   "source": [
    "De todos os filtros apresentados até então, o filtro bilateral é o mais indicado quando o objetivo é suavizar a imagem preservando os detalhes de bordas e contornos."
   ]
  },
  {
   "cell_type": "markdown",
   "metadata": {},
   "source": [
    "O\t filtro\t bilateral\t pode\t ser\t aplicado\t pelo\t método\n",
    "\tbilateralFilter\t\t da\t biblioteca\t OpenCV.\t Para\t executar\t esse\n",
    "método,\t quatro\t parâmetros\t são\t requeridos.\t O\t primeiro\t deles\t é\t a\n",
    "imagem\tque\treceberá\to\ttratamento,\te\to\tsegundo\tindica\to\ttamanho\n",
    "do\tfiltro.\tQuanto\tmaior\to\tvalor\tdo\tsegundo\tparâmetro,\tmais\tlenta\n",
    "será\ta\t execução\t desse\tmétodo,\tnão\t sendo\t recomendado\t trabalhar\n",
    "com\t valores\t superiores\t a\t 5\t em\t processamento\t de\t imagens\t em\n",
    "tempo\treal."
   ]
  },
  {
   "cell_type": "markdown",
   "metadata": {},
   "source": [
    "Geralmente,\tos\tmesmos\tvalores\tsão\tutilizados\tno\tterceiro\te\tno\n",
    "quarto\t parâmetro.\t O\t terceiro\t é\t conhecido\t como\t σ\t Color\t (sigma\n",
    "color),\te\to\tquarto\tcomo\tσ\tSpace\t(sigma\tspace).\tNa\tprática,\tquando\n",
    "menores\t que\t 10,\t esses\t valores\t não\t apresentam\t resultados\n",
    "significativos\tno\ttratamento\tde\truído\te\tsuavização. Entretanto,\t quando\t maiores\t que\t 150,\t podem\t provocar\t um\n",
    "tratamento\t muito\t intenso,\t fazendo\t com\t que\t a\t imagem\t perca\n",
    "detalhes\timportantes.\t Quanto\tmaior\t o\t valor\t do\t parâmetro\t sigma\n",
    "color,\tmaior\t será\t a\tmistura\t das\t cores\t vizinhas,\t e\t quanto\tmaior\t o\n",
    "valor\tdo\t parâmetro\t sigma\t space,\tmaior\t será\ta\tinfluência\t do\tfiltro\n",
    "nos\tpixels\tvizinhos\t–\tdesde\tque\tsuas\tcores\tsejam\tpróximas.\n"
   ]
  },
  {
   "cell_type": "code",
   "execution_count": 111,
   "metadata": {},
   "outputs": [],
   "source": [
    "import cv2 \n",
    "imgOriginal = cv2.imread(\"lena_ruido3.jpg\") \n",
    "imgTratada = cv2.bilateralFilter(imgOriginal, 11, 90, 90)\n",
    "\n",
    "plt.imshow(imgOriginal)\n",
    "plt.show()\n",
    "plt.imshow(imgTratada)"
   ]
  },
  {
   "cell_type": "markdown",
   "metadata": {},
   "source": [
    "Aula passada nós também vimos a operação CONVOLUÇÃO.\n",
    "\n",
    "![alt text](convolucao.jpg \"Exemplo de convolução\")"
   ]
  },
  {
   "cell_type": "markdown",
   "metadata": {},
   "source": [
    "Na figura acima, a primeira matriz, da esquerda para a direita, representa uma imagem de entrada em tons de cinza. A segunda matriz representa a máscara (kernel), ou seja, o filtro que será aplicado à imagem de entrada. A terceira apresenta o resultado da convolução, no qual o pixel-alvo, posicionado na linha 3 e coluna 3, teve o seu valor alterado de 11 para 2"
   ]
  },
  {
   "cell_type": "markdown",
   "metadata": {},
   "source": [
    "A função filter2D do OpenCV realiza a convolução de uma imagem com um kernel"
   ]
  },
  {
   "cell_type": "code",
   "execution_count": 115,
   "metadata": {},
   "outputs": [],
   "source": [
    "import cv2\n",
    "import numpy as np\n",
    "from matplotlib import pyplot as plt\n",
    "\n",
    "img = cv2.imread('feijao.jpg')\n",
    "\n",
    "kernel = np.array([[0, 0, 0],[1, 0, -1],[0, 0, 0]])\n",
    "img2 = cv2.filter2D(img, -1, kernel)\n",
    "\n",
    "plt.title('imagem original')\n",
    "plt.imshow(img)\n",
    "plt.show()\n",
    "plt.title('imagem após a convolucao')\n",
    "plt.imshow(img2)\n"
   ]
  },
  {
   "cell_type": "raw",
   "metadata": {},
   "source": [
    "SEGMENTANDO OBJETOS"
   ]
  },
  {
   "cell_type": "markdown",
   "metadata": {},
   "source": [
    "Retornando ao problema de segmentar os feijões do fundo"
   ]
  },
  {
   "cell_type": "code",
   "execution_count": 45,
   "metadata": {
    "scrolled": true
   },
   "outputs": [],
   "source": [
    "import cv2\n",
    "import numpy as np\n",
    "import matplotlib.pyplot as plt\n",
    "\n",
    "\n",
    "img = cv2.imread('feijao.jpg')\n",
    "\n",
    "qtdeLinhas, qtdeColunas, c = img.shape\n",
    "\n",
    "B = img[:,:,0]\n",
    "G = img[:,:,1]\n",
    "R = img[:,:,2]\n",
    "\n",
    "W = np.zeros((qtdeLinhas, qtdeColunas), dtype=int)+255 #criando uma imagem toda branca (todos os pixels com valores = 255)\n",
    "\n",
    "\n",
    "for i in range(qtdeLinhas):\n",
    "    for j in range(qtdeColunas):\n",
    "        if(G[i,j] > R[i,j] and G[i,j] > B[i,j]): #se um pixel tiver o canal verde  maior que os outros dois canais (Red e Blue)\n",
    "            W[i,j] = 0 # o pixel vira fundo\n",
    "        \n",
    "plt.gray()\n",
    "plt.imshow(W)\n"
   ]
  },
  {
   "cell_type": "markdown",
   "metadata": {},
   "source": [
    "Na imagem acima temos uma imagem binária, em que o objeto é representado pela cor branca (255) e o fundo pela cor preta (0)"
   ]
  },
  {
   "cell_type": "markdown",
   "metadata": {},
   "source": [
    "Para salvar a imagem acima em um novo arquivo, escrevemos o seguinte comando"
   ]
  },
  {
   "cell_type": "code",
   "execution_count": null,
   "metadata": {},
   "outputs": [],
   "source": [
    "cv2.imwrite('img_binaria.png', W)"
   ]
  },
  {
   "cell_type": "markdown",
   "metadata": {},
   "source": [
    "A seguir, vamos ver um novo conceito chamado de operações morfológicas"
   ]
  },
  {
   "cell_type": "raw",
   "metadata": {},
   "source": [
    "OPERAÇÕES MORFOLÓGICAS"
   ]
  },
  {
   "cell_type": "markdown",
   "metadata": {},
   "source": [
    "Operações\t morfológicas\t são\t operações\t que\t modificam\t o\t formato\n",
    "ou\t a\t estrutura\t dos\t objetos\t representados\t em\t uma\timagem.\t Essas\n",
    "operações\t podem\t ser\t aplicadas\t a\t qualquer\t tipo\t de\t imagem,\n",
    "entretanto,\t são\t frequentemente\t utilizadas\t em\t imagens\t binárias,\n",
    "com\ta\tfinalidade\tde\trealçar\to\tobjeto\tde\tinteresse,\tou\t tratar\truídos\n",
    "provocados\tpelo\tprocesso\tde\tbinarização."
   ]
  },
  {
   "cell_type": "markdown",
   "metadata": {},
   "source": [
    "Elemento Estruturante: pode ser visto como uma imagem binária, menor que a imagem original, armazenado geralmente em uma matriz quadrada. Ele é a base para que qualquer operação morfológica seja executada"
   ]
  },
  {
   "cell_type": "code",
   "execution_count": 10,
   "metadata": {
    "scrolled": true
   },
   "outputs": [
    {
     "name": "stdout",
     "output_type": "stream",
     "text": [
      "Elemento estruturante: Retângulo 5x5 \n",
      " [[1 1 1 1 1]\n",
      " [1 1 1 1 1]\n",
      " [1 1 1 1 1]\n",
      " [1 1 1 1 1]\n",
      " [1 1 1 1 1]]\n",
      "\n",
      " Elemento estruturante: Elipse 5x5 \n",
      " [[0 0 1 0 0]\n",
      " [1 1 1 1 1]\n",
      " [1 1 1 1 1]\n",
      " [1 1 1 1 1]\n",
      " [0 0 1 0 0]]\n",
      "\n",
      " Elemento estruturante: Cruz 5x5 \n",
      " [[0 0 1 0 0]\n",
      " [0 0 1 0 0]\n",
      " [1 1 1 1 1]\n",
      " [0 0 1 0 0]\n",
      " [0 0 1 0 0]]\n"
     ]
    }
   ],
   "source": [
    "import cv2\n",
    "\n",
    "E1 = cv2.getStructuringElement(cv2.MORPH_RECT,(5,5))\n",
    "E2 = cv2.getStructuringElement(cv2.MORPH_ELLIPSE,(5,5))\n",
    "E3 = cv2.getStructuringElement(cv2.MORPH_CROSS,(5,5))\n",
    "\n",
    "print(\"Elemento estruturante: Retângulo 5x5 \\n\", E1)\n",
    "print(\"\\n Elemento estruturante: Elipse 5x5 \\n\", E2)\n",
    "print(\"\\n Elemento estruturante: Cruz 5x5 \\n\", E3)"
   ]
  },
  {
   "cell_type": "markdown",
   "metadata": {},
   "source": [
    "Em muitos casos, quando o objetivo é realçar objetos de interesse com formato predominantemente circular, o elemento estruturante elíptico apresenta melhores resultados. Por outro lado, quando o objeto de interesse apresenta formato retangular, ou composto por mais retas que curvas, o elemento estruturante retangular é o mais indicado."
   ]
  },
  {
   "cell_type": "markdown",
   "metadata": {},
   "source": [
    "Em casos especiais, quando nenhum dos elementos estruturantes predefinidos apresentam bons resultados, podemos criar um elemento estruturante personalizado. O código a seguir exemplifica esse procedimento. Observe que basta defini-lo em uma matriz binária."
   ]
  },
  {
   "cell_type": "code",
   "execution_count": 13,
   "metadata": {},
   "outputs": [
    {
     "name": "stdout",
     "output_type": "stream",
     "text": [
      "Elemento estruturante criado: \n",
      " [[0 0 1 1 1]\n",
      " [0 0 1 1 1]\n",
      " [1 1 1 1 1]\n",
      " [1 1 1 0 0]\n",
      " [1 1 1 0 0]]\n"
     ]
    }
   ],
   "source": [
    "import cv2 \n",
    "import numpy as np \n",
    "elementoEstruturante = np.matrix([ \n",
    "                                    [0, 0, 1, 1, 1], \n",
    "                                    [0, 0, 1, 1, 1], \n",
    "                                    [1, 1, 1, 1, 1], \n",
    "                                    [1, 1, 1, 0, 0], \n",
    "                                    [1, 1, 1, 0, 0] ], np.uint8)\n",
    "\n",
    "print(\"Elemento estruturante criado: \\n\", elementoEstruturante)"
   ]
  },
  {
   "cell_type": "raw",
   "metadata": {},
   "source": [
    "OPERAÇÃO: EROSÃO"
   ]
  },
  {
   "cell_type": "markdown",
   "metadata": {},
   "source": [
    "O\talgoritmo\tda\toperação\tde\terosão\tconsiste\tem\tsobrepor\tcada\n",
    "pixel\t da\t imagem\t de\t entrada\t com\t o\t centro\t do\t elemento\n",
    "estruturante.\t Se\t todos\t os\t pontos\t do\t elemento\t estruturante\n",
    "coincidirem\t com\t os\t pontos\t do\t objeto\t de\t interesse,\t então,\t esse\n",
    "ponto\ttorna-se\tparte\tdo\tobjeto\tna\timagem\tde\tsaída.\tÉ\timportante\n",
    "ressaltar\tque,\tneste\tprocedimento,\ta\timagem\tde\tsaída\té\tinicializada\n",
    "apenas\t com\t o\t fundo,\t ou\t seja,\t sem\t nenhum\t objeto\t inicialmente\n",
    "representado.\n",
    "\n",
    "![alt text](erosao.jpg \"Exemplo de erosao\")"
   ]
  },
  {
   "cell_type": "markdown",
   "metadata": {},
   "source": [
    "A operação de erosão pode ser aplicada a uma imagem com a função erode , da biblioteca OpenCV. Esta requer três parâmetros fundamentais: a imagem a ser tratada, o elemento estruturante e o número de iterações desejadas."
   ]
  },
  {
   "cell_type": "code",
   "execution_count": 57,
   "metadata": {},
   "outputs": [],
   "source": [
    "import cv2 \n",
    "import numpy as np\n",
    "import matplotlib.pyplot as plt\n",
    "\n",
    "imagemOriginal = cv2.imread(\"img_binaria.png\", 0) \n",
    "\n",
    "elementoEstruturante = cv2.getStructuringElement( cv2.MORPH_CROSS, (5,5) ) \n",
    "\n",
    "print(\"elemento estruturante utilizado: \\n \", elementoEstruturante)\n",
    "\n",
    "imagemProcessada = cv2.erode( imagemOriginal, elementoEstruturante, iterations = 5 ) \n",
    "\n",
    "\n",
    "plt.gray()\n",
    "plt.imshow(imagemOriginal)\n",
    "plt.show()\n",
    "plt.imshow(imagemProcessada)"
   ]
  },
  {
   "cell_type": "code",
   "execution_count": 1,
   "metadata": {
    "scrolled": true
   },
   "outputs": [],
   "source": [
    "import cv2 \n",
    "import numpy as np\n",
    "import matplotlib.pyplot as plt\n",
    "\n",
    "imagemOriginal = cv2.imread(\"texto_exemplo.png\", 0) \n",
    "\n",
    "elementoEstruturante = cv2.getStructuringElement( cv2.MORPH_ELLIPSE, (3,3) ) \n",
    "\n",
    "imagemProcessada = cv2.erode( imagemOriginal, elementoEstruturante, iterations = 1 ) \n",
    "\n",
    "plt.gray()\n",
    "plt.imshow(imagemOriginal)\n",
    "plt.show()\n",
    "plt.imshow(imagemProcessada)"
   ]
  },
  {
   "cell_type": "raw",
   "metadata": {},
   "source": [
    "OPERAÇÃO: DILATAÇÃO"
   ]
  },
  {
   "cell_type": "markdown",
   "metadata": {},
   "source": [
    "O algoritmo da operação de dilatação, assim como o de erosão, consiste em sobrepor cada pixel da imagem de entrada com o centro do elemento estruturante. Se todos os pontos do elemento estruturante coincidirem com os pontos do objeto de interesse, então, esse ponto torna-se parte do objeto na imagem de saída. Diferente da operação de erosão, nesta, a imagem de saída é inicializada como uma cópia da imagem de entrada.\n",
    "\n",
    "![alt text](dilatacao.jpg \"Exemplo de dilatacao\")"
   ]
  },
  {
   "cell_type": "markdown",
   "metadata": {},
   "source": [
    "A\t função\t \t dilate\t ,\t da\t biblioteca\t OpenCV,\t possibilita\t a\n",
    "execução\t dessa\t operação.\t Ela\t requer\t os\t mesmos\t parâmetros\n",
    "apresentados\tna\tfunção\t\terode\t.\t O\t código\t a\t seguir\t exemplifica\t a\n",
    "operação:"
   ]
  },
  {
   "cell_type": "code",
   "execution_count": 1,
   "metadata": {
    "scrolled": true
   },
   "outputs": [
    {
     "name": "stdout",
     "output_type": "stream",
     "text": [
      "elemento estruturante utilizado: \n",
      "  [[0 0 1 0 0]\n",
      " [1 1 1 1 1]\n",
      " [1 1 1 1 1]\n",
      " [1 1 1 1 1]\n",
      " [0 0 1 0 0]]\n"
     ]
    }
   ],
   "source": [
    "import cv2 \n",
    "import numpy as np\n",
    "import matplotlib.pyplot as plt\n",
    "\n",
    "imagemOriginal = cv2.imread(\"img_binaria.png\", 0) \n",
    "elementoEstruturante = cv2.getStructuringElement( cv2.MORPH_ELLIPSE, (5,5) ) \n",
    "\n",
    "print(\"elemento estruturante utilizado: \\n \", elementoEstruturante)\n",
    "\n",
    "imagemProcessada = cv2.dilate(imagemOriginal, elementoEstruturante, iterations = 2 )\n",
    "\n",
    "\n",
    "plt.gray()\n",
    "plt.imshow(imagemOriginal)\n",
    "plt.show()\n",
    "plt.imshow(imagemProcessada)"
   ]
  },
  {
   "cell_type": "code",
   "execution_count": 5,
   "metadata": {},
   "outputs": [],
   "source": [
    "import cv2 \n",
    "import numpy as np\n",
    "import matplotlib.pyplot as plt\n",
    "\n",
    "imagemOriginal = cv2.imread(\"texto_exemplo.png\", 0) \n",
    "elementoEstruturante = cv2.getStructuringElement(cv2.MORPH_CROSS,(5,1))\n",
    "\n",
    "print(\"Elemento estruturante utilizado \\n\", elementoEstruturante)\n",
    "\n",
    "imagemProcessada = cv2.dilate(imagemOriginal, elementoEstruturante, iterations = 1 )\n",
    "\n",
    "\n",
    "plt.gray()\n",
    "plt.imshow(imagemOriginal)\n",
    "plt.show()\n",
    "plt.imshow(imagemProcessada)"
   ]
  },
  {
   "cell_type": "markdown",
   "metadata": {},
   "source": [
    "Essas duas operações (erosão e dilatação) são as operações básicas. Quando elas são combinadas, formam outras operações que veremos a seguir."
   ]
  },
  {
   "cell_type": "raw",
   "metadata": {},
   "source": [
    "OPERAÇÃO: FECHAMENTO - objetivo: fechar buracos no processo de binarização     "
   ]
  },
  {
   "cell_type": "markdown",
   "metadata": {},
   "source": [
    "A\toperação\tde\tabertura\té\tcaracterizada\tpela\toperação\tde\terosão\n",
    "seguida\t da\t operação\t de\t dilatação"
   ]
  },
  {
   "cell_type": "code",
   "execution_count": 44,
   "metadata": {},
   "outputs": [],
   "source": [
    "# primeiro, vamos segmentar os numeros da imagem da placa de um veículo\n",
    "# o código abaixo realiza esse procedimento\n",
    "\n",
    "import cv2\n",
    "import numpy as np\n",
    "import matplotlib.pyplot as plt\n",
    "\n",
    "\n",
    "img = cv2.imread('placa.png')\n",
    "\n",
    "qtdeLinhas, qtdeColunas, c = img.shape\n",
    "\n",
    "B = img[:,:,0]\n",
    "G = img[:,:,1]\n",
    "R = img[:,:,2]\n",
    "\n",
    "W = np.zeros((qtdeLinhas, qtdeColunas), dtype=int) \n",
    "\n",
    "\n",
    "for i in range(qtdeLinhas):\n",
    "    for j in range(qtdeColunas):\n",
    "        if(R[i,j] < 60 and G[i,j] < 60 and B[i,j] < 60): \n",
    "            W[i,j] = 255 \n",
    "        \n",
    "plt.gray()\n",
    "plt.title('imagem binária')\n",
    "plt.imshow(W)"
   ]
  },
  {
   "cell_type": "code",
   "execution_count": 46,
   "metadata": {},
   "outputs": [],
   "source": [
    "import cv2\n",
    "import numpy as np\n",
    "import matplotlib.pyplot as plt\n",
    "\n",
    "\n",
    "img = cv2.imread('placa.png')\n",
    "\n",
    "qtdeLinhas, qtdeColunas, c = img.shape\n",
    "\n",
    "B = img[:,:,0]\n",
    "G = img[:,:,1]\n",
    "R = img[:,:,2]\n",
    "\n",
    "imagemBinaria = np.zeros((qtdeLinhas, qtdeColunas)) \n",
    "\n",
    "\n",
    "for i in range(qtdeLinhas):\n",
    "    for j in range(qtdeColunas):\n",
    "        if(R[i,j] < 60 and G[i,j] < 60 and B[i,j] < 60): \n",
    "            imagemBinaria[i,j] = 255 \n",
    "        \n",
    "plt.gray()\n",
    "plt.title('imagem binária')\n",
    "plt.imshow(imagemBinaria)\n",
    "\n",
    "\n",
    "#vamos efetuar uma dilatacao na imagem binária\n",
    "\n",
    "elementoEstruturante = cv2.getStructuringElement(cv2.MORPH_RECT,(5,5))\n",
    "\n",
    "print(\"elemento estruturante utilizado: \\n \", elementoEstruturante)\n",
    "\n",
    "imagemDilatada = cv2.dilate(imagemBinaria, elementoEstruturante, iterations = 1)\n",
    "\n",
    "\n",
    "plt.show()\n",
    "plt.title('imagem dilatada')\n",
    "plt.imshow(imagemDilatada)\n",
    "\n",
    "\n",
    "#vamos agora efetuar uma erosao na imagem dilatada\n",
    "imagemProcessada = cv2.erode(imagemDilatada, elementoEstruturante, iterations = 1 )\n",
    "\n",
    "plt.show()\n",
    "plt.title('imagem erodida')\n",
    "plt.imshow(imagemProcessada)\n"
   ]
  },
  {
   "cell_type": "code",
   "execution_count": 55,
   "metadata": {},
   "outputs": [
    {
     "data": {
      "image/png": "[encoded data removed]",
      "text/plain": [
       "<Figure size 432x288 with 1 Axes>"
      ]
     },
     "metadata": {},
     "output_type": "display_data"
    },
    {
     "data": {
      "text/plain": [
       "<matplotlib.image.AxesImage at 0x29fe8e8cb70>"
      ]
     },
     "execution_count": 55,
     "metadata": {},
     "output_type": "execute_result"
    },
    {
     "data": {
      "image/png": "[encoded data removed]",
      "text/plain": [
       "<Figure size 432x288 with 1 Axes>"
      ]
     },
     "metadata": {},
     "output_type": "display_data"
    }
   ],
   "source": [
    "import cv2\n",
    "import numpy as np\n",
    "import matplotlib.pyplot as plt\n",
    "\n",
    "\n",
    "img = cv2.imread('placa.png')\n",
    "\n",
    "qtdeLinhas, qtdeColunas, c = img.shape\n",
    "\n",
    "B = img[:,:,0]\n",
    "G = img[:,:,1]\n",
    "R = img[:,:,2]\n",
    "\n",
    "imagemBinaria = np.zeros((qtdeLinhas, qtdeColunas)) \n",
    "\n",
    "\n",
    "for i in range(qtdeLinhas):\n",
    "    for j in range(qtdeColunas):\n",
    "        if(R[i,j] < 60 and G[i,j] < 60 and B[i,j] < 60): \n",
    "            imagemBinaria[i,j] = 255 \n",
    "        \n",
    "plt.gray()\n",
    "plt.title('imagem binária')\n",
    "plt.imshow(imagemBinaria)\n",
    "\n",
    "\n",
    "#vamos efetuar uma operação fechamento\n",
    "\n",
    "elementoEstruturante = cv2.getStructuringElement(cv2.MORPH_RECT,(9,9))\n",
    "imagemProcessada = cv2.morphologyEx(imagemBinaria, cv2.MORPH_CLOSE, elementoEstruturante)\n",
    "\n",
    "plt.show()\n",
    "plt.title('imagem processada')\n",
    "plt.imshow(imagemProcessada)"
   ]
  },
  {
   "cell_type": "raw",
   "metadata": {},
   "source": [
    "OPERAÇÃO: ABERTURA - Objetivo: eliminar ruidos"
   ]
  },
  {
   "cell_type": "markdown",
   "metadata": {},
   "source": [
    "A operação de abertura é caracterizada pela operação de erosão\n",
    "seguida da operação de dilatação"
   ]
  },
  {
   "cell_type": "code",
   "execution_count": 60,
   "metadata": {},
   "outputs": [
    {
     "data": {
      "image/png": "[encoded data removed]",
      "text/plain": [
       "<Figure size 432x288 with 1 Axes>"
      ]
     },
     "metadata": {},
     "output_type": "display_data"
    },
    {
     "data": {
      "text/plain": [
       "<matplotlib.image.AxesImage at 0x29feb1a9898>"
      ]
     },
     "execution_count": 60,
     "metadata": {},
     "output_type": "execute_result"
    },
    {
     "data": {
      "image/png": "[encoded data removed]",
      "text/plain": [
       "<Figure size 432x288 with 1 Axes>"
      ]
     },
     "metadata": {},
     "output_type": "display_data"
    }
   ],
   "source": [
    "import cv2\n",
    "import numpy as np\n",
    "import matplotlib.pyplot as plt\n",
    "\n",
    "\n",
    "img = cv2.imread('placa.png')\n",
    "\n",
    "qtdeLinhas, qtdeColunas, c = img.shape\n",
    "\n",
    "B = img[:,:,0]\n",
    "G = img[:,:,1]\n",
    "R = img[:,:,2]\n",
    "\n",
    "imagemBinaria = np.zeros((qtdeLinhas, qtdeColunas)) #criando uma imagem toda branca (todos os pixels com valores = 255)\n",
    "\n",
    "\n",
    "for i in range(qtdeLinhas):\n",
    "    for j in range(qtdeColunas):\n",
    "        if(R[i,j] < 60 and G[i,j] < 60 and B[i,j] < 60): #se eu um pixel cujo canal verde for maior que os outros dois canais (Red e Blue)\n",
    "            imagemBinaria[i,j] = 255 # o pixel vira fundo\n",
    "        \n",
    "plt.gray()\n",
    "plt.title('imagem binária')\n",
    "plt.imshow(imagemBinaria)\n",
    "\n",
    "\n",
    "#vamos efetuar uma operação abertura\n",
    "\n",
    "elementoEstruturante = cv2.getStructuringElement(cv2.MORPH_RECT,(5,5))\n",
    "imagemProcessada = cv2.morphologyEx(imagemBinaria, cv2.MORPH_OPEN, elementoEstruturante)\n",
    "\n",
    "plt.show()\n",
    "plt.title('imagem processada')\n",
    "plt.imshow(imagemProcessada)"
   ]
  },
  {
   "cell_type": "code",
   "execution_count": 71,
   "metadata": {
    "scrolled": true
   },
   "outputs": [
    {
     "data": {
      "text/plain": [
       "True"
      ]
     },
     "execution_count": 71,
     "metadata": {},
     "output_type": "execute_result"
    },
    {
     "data": {
      "image/png": "[encoded data removed]",
      "text/plain": [
       "<Figure size 432x288 with 1 Axes>"
      ]
     },
     "metadata": {},
     "output_type": "display_data"
    }
   ],
   "source": [
    "import cv2\n",
    "import numpy as np\n",
    "import matplotlib.pyplot as plt\n",
    "\n",
    "\n",
    "img = cv2.imread('img_teste.png')\n",
    "\n",
    "elementoEstruturante = cv2.getStructuringElement(cv2.MORPH_RECT,(11,11))\n",
    "imagemProcessada = cv2.morphologyEx(img, cv2.MORPH_OPEN, elementoEstruturante)\n",
    "\n",
    "plt.show()\n",
    "plt.title('imagem processada')\n",
    "plt.imshow(imagemProcessada)\n",
    "\n",
    "cv2.imwrite('img_teste2.png', imagemProcessada)\n"
   ]
  },
  {
   "cell_type": "raw",
   "metadata": {},
   "source": [
    "EXTRAÇÃO DE FRONTEIRAS"
   ]
  },
  {
   "cell_type": "markdown",
   "metadata": {},
   "source": [
    "Para detectar as bordas do objeto, podemos realizar uma erosao e depois subtrair a imagem original pela imagem erodida"
   ]
  },
  {
   "cell_type": "code",
   "execution_count": 15,
   "metadata": {},
   "outputs": [],
   "source": [
    "import cv2\n",
    "import numpy as np\n",
    "import matplotlib.pyplot as plt\n",
    "\n",
    "\n",
    "img = cv2.imread('img_teste2.png',0)\n",
    "\n",
    "elementoEstruturante = cv2.getStructuringElement(cv2.MORPH_RECT,(3,3))\n",
    "\n",
    "imagemProcessada = cv2.erode( img, elementoEstruturante, iterations = 1 ) \n",
    "\n",
    "\n",
    "imagemProcessada = img-imagemProcessada\n",
    "\n",
    "plt.show()\n",
    "plt.title('imagem processada')\n",
    "plt.imshow(imagemProcessada)"
   ]
  },
  {
   "cell_type": "markdown",
   "metadata": {},
   "source": [
    "Existe uma função no OpenCV que faz a mesma coisa que o código acima"
   ]
  },
  {
   "cell_type": "raw",
   "metadata": {},
   "source": [
    "Gradiente Morfológico"
   ]
  },
  {
   "cell_type": "code",
   "execution_count": 16,
   "metadata": {},
   "outputs": [],
   "source": [
    "import cv2\n",
    "import numpy as np\n",
    "import matplotlib.pyplot as plt\n",
    "\n",
    "\n",
    "imagemOriginal = cv2.imread('img_teste2.png',0)\n",
    "\n",
    "elementoEstruturante = cv2.getStructuringElement(cv2.MORPH_RECT,(3,3))\n",
    "\n",
    "imagemProcessada = cv2.morphologyEx( imagemOriginal, cv2.MORPH_GRADIENT, elementoEstruturante)\n",
    "\n",
    "\n",
    "plt.show()\n",
    "plt.title('imagem processada')\n",
    "plt.imshow(imagemProcessada)"
   ]
  },
  {
   "cell_type": "raw",
   "metadata": {},
   "source": [
    "OPERAÇÕES MORFOLÓGICAS EM IMAGENS EM NÍVEL-DE-CINZA"
   ]
  },
  {
   "cell_type": "code",
   "execution_count": 7,
   "metadata": {},
   "outputs": [
    {
     "data": {
      "text/plain": [
       "<matplotlib.image.AxesImage at 0x1c8427e4128>"
      ]
     },
     "execution_count": 7,
     "metadata": {},
     "output_type": "execute_result"
    },
    {
     "data": {
      "image/png": "[encoded data removed]",
      "text/plain": [
       "<Figure size 432x288 with 1 Axes>"
      ]
     },
     "metadata": {},
     "output_type": "display_data"
    }
   ],
   "source": [
    "import cv2 \n",
    "import numpy as np \n",
    "import matplotlib.pyplot as plt\n",
    "\n",
    "imagemOriginal = cv2.imread(\"lena.png\", 0)\n",
    "\n",
    "elementoEstruturante = cv2.getStructuringElement(cv2.MORPH_ELLIPSE, (5,5))\n",
    "\n",
    "#imagemProcessada = cv2.erode( imagemOriginal, elementoEstruturante, iterations = 1) \n",
    "imagemProcessada = cv2.dilate(imagemOriginal, elementoEstruturante, iterations = 1)\n",
    "#imagemProcessada = cv2.morphologyEx(imagemOriginal, cv2.MORPH_TOPHAT, elementoEstruturante)\n",
    "\n",
    "plt.gray()\n",
    "plt.imshow(imagemProcessada)\n",
    "\n",
    "\n"
   ]
  },
  {
   "cell_type": "code",
   "execution_count": 10,
   "metadata": {},
   "outputs": [
    {
     "data": {
      "text/plain": [
       "<matplotlib.image.AxesImage at 0x1c8428e97f0>"
      ]
     },
     "execution_count": 10,
     "metadata": {},
     "output_type": "execute_result"
    },
    {
     "data": {
      "image/png": "[encoded data removed]",
      "text/plain": [
       "<Figure size 432x288 with 1 Axes>"
      ]
     },
     "metadata": {},
     "output_type": "display_data"
    }
   ],
   "source": [
    "import cv2 \n",
    "import numpy as np \n",
    "import matplotlib.pyplot as plt\n",
    "\n",
    "imagemOriginal = cv2.imread(\"lena.png\", 0)\n",
    "\n",
    "elementoEstruturante = cv2.getStructuringElement(cv2.MORPH_ELLIPSE, (5,5))\n",
    "\n",
    "imagemProcessada1 = cv2.erode( imagemOriginal, elementoEstruturante, iterations = 2) \n",
    "imagemProcessada2 = cv2.dilate(imagemOriginal, elementoEstruturante, iterations = 1)\n",
    "imagemProcessada = imagemProcessada2-imagemProcessada1\n",
    "\n",
    "plt.gray()\n",
    "plt.imshow(imagemProcessada)\n",
    "\n"
   ]
  },
  {
   "cell_type": "markdown",
   "metadata": {},
   "source": [
    "Preenchendo o interior de um objetos usando recursividade - CUIDADO, PROCESSO DEMORADO!"
   ]
  },
  {
   "cell_type": "code",
   "execution_count": null,
   "metadata": {},
   "outputs": [],
   "source": [
    "import cv2\n",
    "import numpy as np\n",
    "import matplotlib.pyplot as plt\n",
    "\n",
    "\n",
    "def preencher(W,i,j):\n",
    "    qtdeLinhas, qtdeColunas = W.shape\n",
    "    if(W[i,j] == 255):\n",
    "        return W\n",
    "    elif (i == -1 or j == -1 or i > qtdeLinhas or j > qtdeColunas):\n",
    "        return W\n",
    "    W[i,j] = 255\n",
    "    W = preencher(W, i+1, j)\n",
    "    W = preencher(W, i, j+1)\n",
    "    W = preencher(W, i-1, j)\n",
    "    W = preencher(W, i, j-1)\n",
    "    return W\n",
    "    \n",
    "    \n",
    "    \n",
    "img = cv2.imread('img_teste3.png',0)\n",
    "\n",
    "qtdeLinhas, qtdeColunas = img.shape\n",
    "\n",
    "\n",
    "cx = 0\n",
    "cy = 0\n",
    "cont = 0\n",
    "\n",
    "for i in range(qtdeLinhas):\n",
    "    for j in range(qtdeColunas):\n",
    "        if(img[i,j] == 255):\n",
    "            cont = cont + 1\n",
    "            cx = cx+i\n",
    "            cy = cy+j\n",
    "\n",
    "x = round(cx/cont)\n",
    "y = round(cy/cont)\n",
    "\n",
    "print('o centro do objeto esta na posicao: ', x,y)\n",
    "\n",
    "#img[x,y] = 255\n",
    "#img = preencher(img, x, y)\n",
    "\n",
    "plt.gray()\n",
    "plt.imshow(img)"
   ]
  },
  {
   "cell_type": "markdown",
   "metadata": {},
   "source": [
    "#exercício: separar os feijões. Colocar uma cor para cada um"
   ]
  },
  {
   "cell_type": "code",
   "execution_count": null,
   "metadata": {},
   "outputs": [],
   "source": []
  }
 ],
 "metadata": {
  "kernelspec": {
   "display_name": "Python 3",
   "language": "python",
   "name": "python3"
  },
  "language_info": {
   "codemirror_mode": {
    "name": "ipython",
    "version": 3
   },
   "file_extension": ".py",
   "mimetype": "text/x-python",
   "name": "python",
   "nbconvert_exporter": "python",
   "pygments_lexer": "ipython3",
   "version": "3.6.5"
  }
 },
 "nbformat": 4,
 "nbformat_minor": 2
}
