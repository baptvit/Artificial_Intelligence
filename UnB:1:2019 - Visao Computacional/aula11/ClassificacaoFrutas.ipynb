{
 "cells": [
  {
   "cell_type": "code",
   "execution_count": 11,
   "metadata": {},
   "outputs": [
    {
     "name": "stdout",
     "output_type": "stream",
     "text": [
      "4 4 4\n",
      "classe final:  4\n"
     ]
    }
   ],
   "source": [
    "import cv2\n",
    "import numpy as np\n",
    "import matplotlib.pyplot as plt\n",
    "import os\n",
    "from statistics import mode\n",
    "\n",
    "def distancia(a, b):\n",
    "    M = len(a)\n",
    "    soma = 0\n",
    "    for i in range(M):\n",
    "        soma = soma + ((a[i]-b[i])**2)\n",
    "    return np.sqrt(soma) \n",
    "\n",
    "def extrair_caracteristica(img):\n",
    "    histB = cv2.calcHist([img],[0],None,[10],[240,250])\n",
    "    histG = cv2.calcHist([img],[1],None,[10],[240,250])\n",
    "    histR = cv2.calcHist([img],[2],None,[10],[240,250])\n",
    "\n",
    "    cv2.normalize(histB, histB)\n",
    "    cv2.normalize(histG, histG)\n",
    "    cv2.normalize(histR, histR)\n",
    "\n",
    "    histFinal = np.append(np.append(histB, histG),histR)\n",
    "    return histFinal\n",
    "    \n",
    "\n",
    "files_path = [os.path.abspath(x) for x in os.listdir('./') if x.endswith('.jpg')]\n",
    "\n",
    "base_teste = []\n",
    "\n",
    "#extraindo as características das imagens na base de dados\n",
    "for i in files_path:\n",
    "    diretorio, arquivo = os.path.split(i)\n",
    "    imagem = cv2.imread(arquivo)\n",
    "    carac = extrair_caracteristica(imagem)\n",
    "    classe = arquivo.split('-')\n",
    "    base_teste.append((carac, classe[0]))   \n",
    "    \n",
    "    \n",
    "img = cv2.imread('4-2.jpg')\n",
    "vetor_consulta = extrair_caracteristica(img)    \n",
    "    \n",
    "#calculando a distancia do vetor de características da imagem consulta com todos\n",
    "# os vetores de características extraidos das imagens que estão na base de dados\n",
    "d = []\n",
    "\n",
    "for feat in base_teste:\n",
    "    vetor = feat[0]\n",
    "    dist = distancia(vetor, vetor_consulta)\n",
    "    d.append((dist, feat[1])) \n",
    "    \n",
    "e = sorted(d)\n",
    "\n",
    "k1 = e[0][1]\n",
    "k2 = e[1][1]\n",
    "k3 = e[2][1]\n",
    "k4 = e[3][1]\n",
    "print(k1, k2, k3)\n",
    "\n",
    "a = mode([k1,k2,k3, k1])\n",
    "print(\"classe final: \", a)"
   ]
  },
  {
   "cell_type": "code",
   "execution_count": null,
   "metadata": {},
   "outputs": [],
   "source": []
  }
 ],
 "metadata": {
  "kernelspec": {
   "display_name": "Python 3",
   "language": "python",
   "name": "python3"
  },
  "language_info": {
   "codemirror_mode": {
    "name": "ipython",
    "version": 3
   },
   "file_extension": ".py",
   "mimetype": "text/x-python",
   "name": "python",
   "nbconvert_exporter": "python",
   "pygments_lexer": "ipython3",
   "version": "3.6.5"
  }
 },
 "nbformat": 4,
 "nbformat_minor": 2
}
