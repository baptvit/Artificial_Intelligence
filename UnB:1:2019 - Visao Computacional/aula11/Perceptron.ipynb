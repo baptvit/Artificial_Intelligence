{
 "cells": [
  {
   "cell_type": "code",
   "execution_count": 78,
   "metadata": {},
   "outputs": [
    {
     "name": "stdout",
     "output_type": "stream",
     "text": [
      "pesos:  [[0.06023449 0.24096342]]\n",
      "bias:  0.5709724339498253\n",
      "epoca:  0\n",
      "epoca:  1\n",
      "epoca:  2\n",
      "epoca:  3\n",
      "epoca:  4\n",
      "epoca:  5\n",
      "epoca:  6\n",
      "epoca:  7\n",
      "epoca:  8\n",
      "epoca:  9\n",
      "0\n",
      "0\n",
      "0\n",
      "1\n",
      "pesos:  [[0.46023449 0.24096342]]\n",
      "bias:  -0.6290275660501747\n"
     ]
    }
   ],
   "source": [
    "import numpy as np\n",
    "\n",
    "class Neuronio:\n",
    "    \n",
    "    def __init__(self, qtdeEntradas, taxaAprendizado=0.2):\n",
    "        self.pesos = np.random.rand(1, qtdeEntradas)\n",
    "        self.pesoBias = np.random.random()\n",
    "        self.taxaAprendizado = taxaAprendizado\n",
    "    \n",
    "    def ativacao(x):\n",
    "        return 1 if (x >= 0) else 0 #ReLu\n",
    "        #return 1.0 / (1.0 + np.exp(-x)) #sigmoid\n",
    "    \n",
    "    def derivada(self, x):\n",
    "        return x #derivada ReLu\n",
    "        #return x * (1.0 - x) #derivada sigmoid\n",
    "\n",
    "    def saida(self, entrada):\n",
    "        soma = np.sum(entrada*self.pesos)+self.pesoBias\n",
    "        return ativacao(float(soma))\n",
    "    \n",
    "    def atualizarPesos(self, entrada, saidaEsperada):\n",
    "        erro = saidaEsperada-self.saida(entrada)\n",
    "        self.pesos +=  (self.taxaAprendizado * erro * self.derivada(entrada))\n",
    "        self.pesoBias +=  (self.taxaAprendizado * erro)\n",
    "        \n",
    "    def imprimirPesos(self):\n",
    "        print (\"pesos: \", self.pesos)\n",
    "        print (\"bias: \", self.pesoBias)    \n",
    "\n",
    "\n",
    "X = np.array([[0,0],[0,1],[1,0],[1,1]], dtype=float)\n",
    "Y = np.array([0,0,0,1], dtype=int)\n",
    "qtdeAmostras = Y.shape[0]\n",
    "\n",
    "\n",
    "c = Neuronio(2)\n",
    "\n",
    "c.imprimirPesos()\n",
    "\n",
    "\n",
    "\n",
    "for epoca in range(10):\n",
    "    print(\"epoca: \", epoca)\n",
    "    for i in range(qtdeAmostras):\n",
    "        saidaObtida = c.saida(X[i])\n",
    "        if(saidaObtida != Y[i]): #neuronio errou a classificação\n",
    "            c.atualizarPesos(X[i], Y[i]) #vamos então atualizar os pesos\n",
    "        \n",
    "print(c.saida([0,0]))\n",
    "print(c.saida([0,1]))\n",
    "print(c.saida([1,0]))\n",
    "print(c.saida([1,1]))\n",
    "c.imprimirPesos()    "
   ]
  },
  {
   "cell_type": "code",
   "execution_count": null,
   "metadata": {},
   "outputs": [],
   "source": []
  },
  {
   "cell_type": "code",
   "execution_count": null,
   "metadata": {},
   "outputs": [],
   "source": []
  }
 ],
 "metadata": {
  "kernelspec": {
   "display_name": "Python 3",
   "language": "python",
   "name": "python3"
  },
  "language_info": {
   "codemirror_mode": {
    "name": "ipython",
    "version": 3
   },
   "file_extension": ".py",
   "mimetype": "text/x-python",
   "name": "python",
   "nbconvert_exporter": "python",
   "pygments_lexer": "ipython3",
   "version": "3.6.5"
  }
 },
 "nbformat": 4,
 "nbformat_minor": 2
}
