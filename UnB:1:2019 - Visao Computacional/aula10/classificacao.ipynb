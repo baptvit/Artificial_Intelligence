{
 "cells": [
  {
   "cell_type": "markdown",
   "metadata": {},
   "source": [
    "1° passo: extrair as características da imagens da base de treinamento"
   ]
  },
  {
   "cell_type": "markdown",
   "metadata": {},
   "source": [
    "Para cada imagem da base de dados, iremos extrair os Momentos de Hu (que são 7), e no final do vetor, colocaremos a classe que pertence a imagem"
   ]
  },
  {
   "cell_type": "raw",
   "metadata": {},
   "source": [
    "Exemplo: [2.6, 3.9, 7.1, -14.4, -20.4, -18.5, 13, 1]"
   ]
  },
  {
   "cell_type": "raw",
   "metadata": {},
   "source": [
    "Exemplo: [2.6, 3.9, 7.1, -14.4, -20.4, -18.5, 13, 2]"
   ]
  },
  {
   "cell_type": "raw",
   "metadata": {},
   "source": [
    "Exemplo: [2.6, 3.9, 7.1, -14.4, -20.4, -18.5, 13, 1]"
   ]
  },
  {
   "cell_type": "code",
   "execution_count": 5,
   "metadata": {},
   "outputs": [],
   "source": [
    "import cv2\n",
    "import numpy as np\n",
    "import matplotlib.pyplot as plt\n",
    "import os\n",
    "\n",
    "files_path = [os.path.abspath(x) for x in os.listdir('./') if x.endswith('.png')]\n",
    "\n",
    "def extrair_caracteristica(img):\n",
    "    gray = cv2.cvtColor(img, cv2.COLOR_BGR2GRAY) \n",
    "    _, imgBinaria = cv2.threshold(gray, 250, 255, cv2.THRESH_BINARY) #seleciona apenas os pixels dentro do intervalo [250,255]\n",
    "    momentos = cv2.moments(imgBinaria)\n",
    "    momentosDeHu = cv2.HuMoments(momentos)\n",
    "    feature = (-np.sign(momentosDeHu) * np.log10(np.abs(momentosDeHu)))\n",
    "    return feature\n",
    "\n",
    "\n",
    "base_teste = []\n",
    "\n",
    "#extraindo as características das imagens na base de dados\n",
    "for i in files_path:\n",
    "    diretorio, arquivo = os.path.split(i)\n",
    "    imagem = cv2.imread(arquivo)\n",
    "    carac = extrair_caracteristica(imagem)\n",
    "    classe = arquivo.split('-')\n",
    "    base_teste.append((carac, classe[0]))   "
   ]
  },
  {
   "cell_type": "code",
   "execution_count": null,
   "metadata": {},
   "outputs": [],
   "source": [
    "print(base_teste)"
   ]
  },
  {
   "cell_type": "markdown",
   "metadata": {},
   "source": [
    "2° passo: calcular o vetor de característica da imagem consulta"
   ]
  },
  {
   "cell_type": "code",
   "execution_count": 29,
   "metadata": {},
   "outputs": [],
   "source": [
    "img = cv2.imread('2-1.png')\n",
    "vetor_consulta = extrair_caracteristica(img)"
   ]
  },
  {
   "cell_type": "code",
   "execution_count": null,
   "metadata": {},
   "outputs": [],
   "source": [
    "print(vetor_consulta)"
   ]
  },
  {
   "cell_type": "markdown",
   "metadata": {},
   "source": [
    "3° passo: definir uma função de distância. Abaixo temos a distância Euclidiana"
   ]
  },
  {
   "cell_type": "code",
   "execution_count": 9,
   "metadata": {},
   "outputs": [],
   "source": [
    "def distancia(a, b):\n",
    "    M = len(a)\n",
    "    soma = 0\n",
    "    for i in range(M):\n",
    "        soma = soma + ((a[i]-b[i])**2)\n",
    "    return np.sqrt(soma) "
   ]
  },
  {
   "cell_type": "markdown",
   "metadata": {},
   "source": [
    "4° passo: calcular a distancia do vetor_consulta com todos os vetores das imagens da base_teste"
   ]
  },
  {
   "cell_type": "markdown",
   "metadata": {},
   "source": [
    "OBSERVAÇÃO: após calcular distância, incluir a classe da imagem que foi calculada a distância"
   ]
  },
  {
   "cell_type": "code",
   "execution_count": 30,
   "metadata": {},
   "outputs": [],
   "source": [
    "#calculando a distancia do vetor de características da imagem consulta com todos\n",
    "# os vetores de características extraidos das imagens que estão na base de dados\n",
    "d = []\n",
    "\n",
    "for feat in base_teste:\n",
    "    vetor = feat[0]\n",
    "    dist = distancia(vetor, vetor_consulta)\n",
    "    d.append((dist, feat[1]))"
   ]
  },
  {
   "cell_type": "code",
   "execution_count": null,
   "metadata": {},
   "outputs": [],
   "source": [
    "print(d)"
   ]
  },
  {
   "cell_type": "markdown",
   "metadata": {},
   "source": [
    "5° passo: ordenar as distâncias em ordem crescente (menor para o maior)"
   ]
  },
  {
   "cell_type": "code",
   "execution_count": 31,
   "metadata": {},
   "outputs": [],
   "source": [
    "e = sorted(d)"
   ]
  },
  {
   "cell_type": "code",
   "execution_count": null,
   "metadata": {},
   "outputs": [],
   "source": [
    "print(e)"
   ]
  },
  {
   "cell_type": "markdown",
   "metadata": {},
   "source": [
    "6° passo: iremos contar qual é a classe que mais se repete considerando o top-k"
   ]
  },
  {
   "cell_type": "markdown",
   "metadata": {},
   "source": [
    "Neste exemplo, iremos usar k = 3, ou seja, as 3 imagens mais similares"
   ]
  },
  {
   "cell_type": "markdown",
   "metadata": {},
   "source": [
    "A classe que mais se repetir, será a classe da imagem consulta"
   ]
  },
  {
   "cell_type": "code",
   "execution_count": 32,
   "metadata": {},
   "outputs": [
    {
     "name": "stdout",
     "output_type": "stream",
     "text": [
      "2 2 2\n"
     ]
    }
   ],
   "source": [
    "k1 = e[0][1]\n",
    "k2 = e[1][1]\n",
    "k3 = e[2][1]\n",
    "print(k1, k2, k3)"
   ]
  },
  {
   "cell_type": "code",
   "execution_count": 33,
   "metadata": {},
   "outputs": [
    {
     "name": "stdout",
     "output_type": "stream",
     "text": [
      "classe final:  2\n"
     ]
    }
   ],
   "source": [
    "from statistics import mode\n",
    "a = mode([k1,k2,k3])\n",
    "print(\"classe final: \", a)"
   ]
  },
  {
   "cell_type": "markdown",
   "metadata": {},
   "source": [
    "## Código final, juntando todos os passos"
   ]
  },
  {
   "cell_type": "code",
   "execution_count": 25,
   "metadata": {},
   "outputs": [
    {
     "name": "stdout",
     "output_type": "stream",
     "text": [
      "2 1 2\n",
      "classe final:  2\n"
     ]
    }
   ],
   "source": [
    "import cv2\n",
    "import numpy as np\n",
    "import matplotlib.pyplot as plt\n",
    "import os\n",
    "from statistics import mode\n",
    "\n",
    "def distancia(a, b):\n",
    "    M = len(a)\n",
    "    soma = 0\n",
    "    for i in range(M):\n",
    "        soma = soma + ((a[i]-b[i])**2)\n",
    "    return np.sqrt(soma) \n",
    "\n",
    "def extrair_caracteristica(img):\n",
    "    gray = cv2.cvtColor(img, cv2.COLOR_BGR2GRAY) \n",
    "    _, imgBinaria = cv2.threshold(gray, 250, 255, cv2.THRESH_BINARY) #seleciona apenas os pixels dentro do intervalo [250,255]\n",
    "    momentos = cv2.moments(imgBinaria)\n",
    "    momentosDeHu = cv2.HuMoments(momentos)\n",
    "    feature = (-np.sign(momentosDeHu) * np.log10(np.abs(momentosDeHu)))\n",
    "    return feature\n",
    "\n",
    "files_path = [os.path.abspath(x) for x in os.listdir('./') if x.endswith('.png')]\n",
    "\n",
    "base_teste = []\n",
    "\n",
    "#extraindo as características das imagens na base de dados\n",
    "for i in files_path:\n",
    "    diretorio, arquivo = os.path.split(i)\n",
    "    imagem = cv2.imread(arquivo)\n",
    "    carac = extrair_caracteristica(imagem)\n",
    "    classe = arquivo.split('-')\n",
    "    base_teste.append((carac, classe[0]))   \n",
    "    \n",
    "    \n",
    "img = cv2.imread('img_consulta.jpg')\n",
    "vetor_consulta = extrair_caracteristica(img)    \n",
    "    \n",
    "#calculando a distancia do vetor de características da imagem consulta com todos\n",
    "# os vetores de características extraidos das imagens que estão na base de dados\n",
    "d = []\n",
    "\n",
    "for feat in base_teste:\n",
    "    vetor = feat[0]\n",
    "    dist = distancia(vetor, vetor_consulta)\n",
    "    d.append((dist, feat[1])) \n",
    "    \n",
    "e = sorted(d)\n",
    "\n",
    "k1 = e[0][1]\n",
    "k2 = e[1][1]\n",
    "k3 = e[2][1]\n",
    "\n",
    "a = mode([k1,k2,k3])\n",
    "print(k1, k2, k3)\n",
    "print(\"classe final: \", a)\n"
   ]
  },
  {
   "cell_type": "code",
   "execution_count": null,
   "metadata": {},
   "outputs": [],
   "source": []
  },
  {
   "cell_type": "code",
   "execution_count": null,
   "metadata": {},
   "outputs": [],
   "source": []
  }
 ],
 "metadata": {
  "kernelspec": {
   "display_name": "Python 3",
   "language": "python",
   "name": "python3"
  },
  "language_info": {
   "codemirror_mode": {
    "name": "ipython",
    "version": 3
   },
   "file_extension": ".py",
   "mimetype": "text/x-python",
   "name": "python",
   "nbconvert_exporter": "python",
   "pygments_lexer": "ipython3",
   "version": "3.6.5"
  }
 },
 "nbformat": 4,
 "nbformat_minor": 2
}
