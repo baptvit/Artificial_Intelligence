{
 "cells": [
  {
   "cell_type": "markdown",
   "metadata": {},
   "source": [
    "1° passo: construir a base de dados"
   ]
  },
  {
   "cell_type": "code",
   "execution_count": 1,
   "metadata": {
    "scrolled": true
   },
   "outputs": [
    {
     "name": "stdout",
     "output_type": "stream",
     "text": [
      "1-.png\n",
      "1-1.png\n",
      "1-2.png\n",
      "2-.png\n",
      "2-1.png\n",
      "2-2.png\n",
      "3-.png\n",
      "3-1.png\n",
      "3-2.png\n",
      "base de dados construida\n"
     ]
    }
   ],
   "source": [
    "import cv2\n",
    "import numpy as np\n",
    "import matplotlib.pyplot as plt\n",
    "import os\n",
    "\n",
    "files_path = [os.path.abspath(x) for x in os.listdir('./') if x.endswith('.png')]\n",
    "\n",
    "def extrair_caracteristica(img):\n",
    "    gray = cv2.cvtColor(img, cv2.COLOR_BGR2GRAY) \n",
    "    _, imgBinaria = cv2.threshold(gray, 250, 255, cv2.THRESH_BINARY) #seleciona apenas os pixels dentro do intervalo [250,255]\n",
    "    momentos = cv2.moments(imgBinaria)\n",
    "    momentosDeHu = cv2.HuMoments(momentos)\n",
    "    feature = (-np.sign(momentosDeHu) * np.log10(np.abs(momentosDeHu)))\n",
    "    return feature\n",
    "\n",
    "\n",
    "base_teste = []\n",
    "\n",
    "#extraindo as características das imagens na base de dados\n",
    "for i in files_path:\n",
    "    diretorio, arquivo = os.path.split(i)\n",
    "    print(arquivo)\n",
    "    imagem = cv2.imread(arquivo)\n",
    "    carac = extrair_caracteristica(imagem)\n",
    "    classe = arquivo.split('-')\n",
    "    base_teste.append((carac, classe[0]))  \n",
    "\n",
    "print('base de dados construida')    "
   ]
  },
  {
   "cell_type": "markdown",
   "metadata": {},
   "source": [
    "2° passo: criar função chamada 'classifica' que recebe o vetor_consulta e retorna a classe que ele pertence usando K-NN"
   ]
  },
  {
   "cell_type": "code",
   "execution_count": 2,
   "metadata": {},
   "outputs": [],
   "source": [
    "from statistics import mode\n",
    "\n",
    "def distancia(a, b):\n",
    "    M = len(a)\n",
    "    soma = 0\n",
    "    for i in range(M):\n",
    "        soma = soma + ((a[i]-b[i])**2)\n",
    "    return np.sqrt(soma) \n",
    "\n",
    "def classifica(vetor_consulta):\n",
    "    d = []\n",
    "\n",
    "    for feat in base_teste:\n",
    "        vetor = feat[0]\n",
    "        dist = distancia(vetor, vetor_consulta)\n",
    "        d.append((dist, feat[1]))   \n",
    "        \n",
    "    e = sorted(d)\n",
    "    k1 = e[0][1]\n",
    "    k2 = e[1][1]\n",
    "    k3 = e[2][1]\n",
    "    a = mode([k1,k2,k3,9])\n",
    "    return a"
   ]
  },
  {
   "cell_type": "markdown",
   "metadata": {},
   "source": [
    "3° passo: extrair o objeto do video"
   ]
  },
  {
   "cell_type": "code",
   "execution_count": 4,
   "metadata": {},
   "outputs": [],
   "source": [
    "def extrair_caracteristica_img_consulta(imgBinaria):\n",
    "    momentos = cv2.moments(imgBinaria)\n",
    "    momentosDeHu = cv2.HuMoments(momentos)\n",
    "    feature = (-np.sign(momentosDeHu) * np.log10(np.abs(momentosDeHu)))\n",
    "    return feature"
   ]
  },
  {
   "cell_type": "code",
   "execution_count": 5,
   "metadata": {},
   "outputs": [],
   "source": [
    "import cv2\n",
    "import matplotlib.pyplot as plt\n",
    "\n",
    "cam = cv2.VideoCapture(0)\n",
    "\n",
    "texto = \"nao identificado\"\n",
    "\n",
    "while (True):\n",
    "    ret, frame = cam.read()\n",
    "    imgOriginal = frame.copy()\n",
    "    \n",
    "    imgBinaria = cv2.inRange(frame, (40, 40, 120), (140, 140, 255))\n",
    "    #imgBinaria = cv2.erode(imgBinaria, elementoEstruturante, iterations = 2 ) \n",
    "    cv2.imshow('mask', imgBinaria)\n",
    "    (lx, contornos, tree) = cv2.findContours(imgBinaria, cv2.RETR_TREE, cv2.CHAIN_APPROX_SIMPLE)\n",
    "    \n",
    "    for cp in contornos:\n",
    "        if(len(cp) > 500):\n",
    "            x, y, w, h = cv2.boundingRect(cp)\n",
    "            # Desenhando o retângulo na imagem\n",
    "            cv2.rectangle(frame, (x,y), (x+w, y+h), (0, 255, 0), 5)\n",
    "            cv2.putText(frame, texto, (100,100), cv2.FONT_HERSHEY_PLAIN, fontScale=2, color=(0, 255, 255), thickness = 2)\n",
    "            vetor_consulta = extrair_caracteristica_img_consulta(imgBinaria[y:y+h, x:x+w])\n",
    "            a = classifica(vetor_consulta)\n",
    "            texto = \"Classe: \"+ a\n",
    "            # Desenhando o contorno\n",
    "            #cv2.drawContours(frame, cp, -1, (0, 0, 255), 2)\n",
    "            \n",
    "    cv2.imshow('teste', frame)\n",
    "    \n",
    "    \n",
    "    k = cv2.waitKey(1) & 0xFF\n",
    "    \n",
    "    \n",
    "\n",
    "    if k == 27: # se o usuário apertou a tecla ESC\n",
    "         break\n",
    "    if k == 13: # se o usuário apertou a tecla ENTER\n",
    "        plt.imshow(imgOriginal[y:y+h, x:x+w, ::-1])\n",
    "        plt.show()\n",
    "        \n",
    "        #plt.imshow(imgOriginal[y:y+h, x:x+w, ::-1])\n",
    "             \n",
    "    \n",
    "cv2.destroyAllWindows()\n",
    "cam.release()"
   ]
  },
  {
   "cell_type": "code",
   "execution_count": null,
   "metadata": {},
   "outputs": [],
   "source": []
  }
 ],
 "metadata": {
  "kernelspec": {
   "display_name": "Python 3",
   "language": "python",
   "name": "python3"
  },
  "language_info": {
   "codemirror_mode": {
    "name": "ipython",
    "version": 3
   },
   "file_extension": ".py",
   "mimetype": "text/x-python",
   "name": "python",
   "nbconvert_exporter": "python",
   "pygments_lexer": "ipython3",
   "version": "3.6.5"
  }
 },
 "nbformat": 4,
 "nbformat_minor": 2
}
