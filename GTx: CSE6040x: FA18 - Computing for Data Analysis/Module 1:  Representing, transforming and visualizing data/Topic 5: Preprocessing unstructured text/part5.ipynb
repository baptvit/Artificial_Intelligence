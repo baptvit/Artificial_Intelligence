{
 "cells": [
  {
   "cell_type": "markdown",
   "metadata": {
    "nbgrader": {
     "grade": false,
     "grade_id": "cell-68fd8fe196863861",
     "locked": true,
     "schema_version": 1,
     "solution": false
    }
   },
   "source": [
    "# Part 0 of 2: Simple string processing review\n",
    "\n",
    "This notebook accompanies the videos for Topic 5: Preprocessing unstructured text."
   ]
  },
  {
   "cell_type": "code",
   "execution_count": null,
   "metadata": {
    "collapsed": true
   },
   "outputs": [],
   "source": [
    "text = \"sgtEEEr2020.0\""
   ]
  },
  {
   "cell_type": "code",
   "execution_count": null,
   "metadata": {
    "collapsed": true
   },
   "outputs": [],
   "source": [
    "# Strings have methods for checking \"global\" string properties\n",
    "print(\"1.\", text.isalpha())\n",
    "\n",
    "# These can also be applied per character\n",
    "print(\"2.\", [c.isalpha() for c in text])"
   ]
  },
  {
   "cell_type": "code",
   "execution_count": null,
   "metadata": {
    "collapsed": true
   },
   "outputs": [],
   "source": [
    "# Here are a bunch of additional useful methods\n",
    "print(\"BELOW: (global) -> (per character)\")\n",
    "print(text.isdigit(), \"-->\", [c.isdigit() for c in text])\n",
    "print(text.isspace(), \"-->\", [c.isspace() for c in text])\n",
    "print(text.islower(), \"-->\", [c.islower() for c in text])\n",
    "print(text.isupper(), \"-->\", [c.isupper() for c in text])\n",
    "print(text.isnumeric(), \"-->\", [c.isnumeric() for c in text])"
   ]
  },
  {
   "cell_type": "markdown",
   "metadata": {
    "nbgrader": {
     "grade": false,
     "grade_id": "cell-0a99319dc0dd5f6c",
     "locked": true,
     "schema_version": 1,
     "solution": false
    }
   },
   "source": [
    "**Exercise 0** (1 point). Create a new function that checks whether a given input string is a properly formatted social security number, i.e., has the pattern, `XXX-XX-XXXX`, _including_ the separator dashes, where each `X` is a digit. It should return `True` if so or `False` otherwise."
   ]
  },
  {
   "cell_type": "code",
   "execution_count": 1,
   "metadata": {
    "collapsed": true,
    "nbgrader": {
     "grade": false,
     "grade_id": "is_ssn",
     "locked": false,
     "schema_version": 1,
     "solution": true
    }
   },
   "outputs": [],
   "source": [
    "def is_ssn (s):\n",
    "    parts = s.split('-')\n",
    "    correct_lengths = [3, 2, 4]\n",
    "    if len(parts) != len(correct_lengths):\n",
    "        return False\n",
    "    for p, n in zip(parts, correct_lengths):\n",
    "        if not (p.isdigit() and len(p) == n):\n",
    "            return False\n",
    "    return True"
   ]
  },
  {
   "cell_type": "code",
   "execution_count": 2,
   "metadata": {
    "nbgrader": {
     "grade": true,
     "grade_id": "is_ssn_test",
     "locked": true,
     "points": 1,
     "schema_version": 1,
     "solution": false
    }
   },
   "outputs": [
    {
     "name": "stdout",
     "output_type": "stream",
     "text": [
      "\n",
      "(Passed!)\n"
     ]
    }
   ],
   "source": [
    "# Test cell: `is_snn_test`\n",
    "assert is_ssn('832-38-1847')\n",
    "assert not is_ssn('832 -38 -  1847')\n",
    "assert not is_ssn('832-bc-3847')\n",
    "assert not is_ssn('832381847')\n",
    "assert not is_ssn('8323-8-1847')\n",
    "assert not is_ssn('abc-de-ghij')\n",
    "print(\"\\n(Passed!)\")"
   ]
  },
  {
   "cell_type": "markdown",
   "metadata": {},
   "source": [
    "# Regular expressions\n",
    "\n",
    "Exercise 0 hints at the general problem of finding patterns in text. A handy tool for this problem is Python's [regular expression module](https://docs.python.org/3/howto/regex.html).\n",
    "\n",
    "A _regular expression_ is specially formatted pattern, written as a string. Matching patterns with regular expressions has 3 steps:\n",
    "\n",
    "1. You come up with a pattern to find.\n",
    "2. You compile it into a _pattern object_.\n",
    "3. You apply the pattern object to a string, to find _matches_, i.e., instances of the pattern within the string.\n",
    "\n",
    "> What follows is just a small sample of what is possible with regular expressions in Python; refer to the [regular expression documentation](https://docs.python.org/3/howto/regex.html) for many more examples and details."
   ]
  },
  {
   "cell_type": "code",
   "execution_count": 3,
   "metadata": {
    "collapsed": true
   },
   "outputs": [],
   "source": [
    "import re"
   ]
  },
  {
   "cell_type": "markdown",
   "metadata": {
    "nbgrader": {
     "grade": false,
     "grade_id": "cell-c953dd7aa8b5f9a5",
     "locked": true,
     "schema_version": 1,
     "solution": false
    }
   },
   "source": [
    "## Basics\n",
    "\n",
    "Let's see how this scheme works for the simplest case, in which the pattern is an exact substring."
   ]
  },
  {
   "cell_type": "code",
   "execution_count": 4,
   "metadata": {},
   "outputs": [
    {
     "name": "stdout",
     "output_type": "stream",
     "text": [
      "<_sre.SRE_Match object; span=(16, 19), match='fox'>\n"
     ]
    }
   ],
   "source": [
    "pattern = 'fox'\n",
    "pattern_matcher = re.compile(pattern)\n",
    "\n",
    "input = 'The quick brown fox jumps over the lazy dog'\n",
    "matches = pattern_matcher.search(input)\n",
    "print(matches)"
   ]
  },
  {
   "cell_type": "markdown",
   "metadata": {},
   "source": [
    "You can also query matches for more information."
   ]
  },
  {
   "cell_type": "code",
   "execution_count": 5,
   "metadata": {},
   "outputs": [
    {
     "name": "stdout",
     "output_type": "stream",
     "text": [
      "fox\n",
      "16\n",
      "19\n",
      "(16, 19)\n"
     ]
    }
   ],
   "source": [
    "print(matches.group())\n",
    "print(matches.start())\n",
    "print(matches.end())\n",
    "print(matches.span())"
   ]
  },
  {
   "cell_type": "markdown",
   "metadata": {},
   "source": [
    "**Module-level searching.** For infrequently used patterns, you can also skip creating the pattern object and just call the module-level search function, `re.search()`."
   ]
  },
  {
   "cell_type": "code",
   "execution_count": 6,
   "metadata": {},
   "outputs": [
    {
     "name": "stdout",
     "output_type": "stream",
     "text": [
      "Found jump @ (20, 24)\n"
     ]
    }
   ],
   "source": [
    "matches_2 = re.search ('jump', input)\n",
    "assert matches_2 is not None\n",
    "print (\"Found\", matches_2.group (), \"@\", matches_2.span ())"
   ]
  },
  {
   "cell_type": "markdown",
   "metadata": {},
   "source": [
    "**Other Search Methods**\n",
    "1. match() - \tDetermine if the RE matches at the beginning of the string.\n",
    "2. search() - \tScan through a string, looking for any location where this RE matches.\n",
    "3. findall() - \tFind all substrings where the RE matches, and returns them as a list.\n",
    "4. finditer() -\tFind all substrings where the RE matches, and returns them as an iterator."
   ]
  },
  {
   "cell_type": "markdown",
   "metadata": {},
   "source": [
    "**Creating pattern groups** "
   ]
  },
  {
   "cell_type": "code",
   "execution_count": null,
   "metadata": {
    "collapsed": true
   },
   "outputs": [],
   "source": [
    "# Make the expression more readable with a re.VERBOSE pattern\n",
    "re_names2 = re.compile ('''^              # Beginning of string\n",
    "                           ([a-zA-Z]+)    # First name\n",
    "                           \\s+            # At least one space\n",
    "                           ([a-zA-Z]+\\s)? # Optional middle name\n",
    "                           ([a-zA-Z]+)    # Last name\n",
    "                           $              # End of string\n",
    "                        ''',\n",
    "                        re.VERBOSE)\n",
    "print (re_names2.match ('Rich Vuduc').groups ())\n",
    "print (re_names2.match ('Rich S Vuduc').groups ())\n",
    "print (re_names2.match ('Rich Salamander Vuduc').groups ())"
   ]
  },
  {
   "cell_type": "markdown",
   "metadata": {},
   "source": [
    "For more details on the re.VERBOSE pattern, see [here.](https://docs.python.org/2/library/re.html#re.VERBOSE)"
   ]
  },
  {
   "cell_type": "markdown",
   "metadata": {},
   "source": [
    "**Tagging pattern groups**"
   ]
  },
  {
   "cell_type": "code",
   "execution_count": null,
   "metadata": {
    "collapsed": true
   },
   "outputs": [],
   "source": [
    "# Named groups\n",
    "re_names3 = re.compile ('''^\n",
    "                           (?P<first>[a-zA-Z]+)\n",
    "                           \\s\n",
    "                           (?P<middle>[a-zA-Z]+\\s)?\n",
    "                           \\s*\n",
    "                           (?P<last>[a-zA-Z]+)\n",
    "                           $\n",
    "                        ''',\n",
    "                        re.VERBOSE)\n",
    "print (re_names3.match ('Rich Vuduc').group ('first'))\n",
    "print (re_names3.match ('Rich S Vuduc').group ('middle'))\n",
    "print (re_names3.match ('Rich Salamander Vuduc').group ('last'))"
   ]
  },
  {
   "cell_type": "markdown",
   "metadata": {},
   "source": [
    "**A regular expression debugger.** There are several online tools to help you write and debug your regular expressions. See, for instance, [pythex](https://pythex.org/), [regexr](https://regexr.com/), or [regex101](https://regex101.com/)."
   ]
  },
  {
   "cell_type": "markdown",
   "metadata": {},
   "source": [
    "## Email addresses\n",
    "\n",
    "In the next exercise, you'll apply what you've learned about regular expressions to build a pattern matcher for email addresses.\n",
    "\n",
    "Although there is a [formal specification of what constitutes a valid email address](https://tools.ietf.org/html/rfc5322#section-3.4.1), for this exercise, let's use the following simplified rules.\n",
    "\n",
    "* We will restrict our attention to ASCII addresses and ignore Unicode. If you don't know what that means, don't worry about it---you shouldn't need to do anything special given our code templates, below.\n",
    "* An email address has two parts, the username and the domain name. These are separated by an `@` character.\n",
    "* A username **must begin with an alphabetic** character. It may be followed by any number of additional _alphanumeric_ characters or any of the following special characters: `.` (period), `-` (hyphen), `_` (underscore), or `+` (plus).\n",
    "* A domain name **must end with an alphabetic** character. It may consist of any of the following characters: alphanumeric characters, `.` (period), `-` (hyphen), or `_` (underscore).\n",
    "* Alphabetic characters may be uppercase or lowercase.\n",
    "* No whitespace characters are allowed.\n",
    "\n",
    "Valid domain names usually have additional restrictions, e.g., there are a limited number of endings, such as `.com`, `.edu`, and so on. However, for this exercise you may ignore this fact."
   ]
  },
  {
   "cell_type": "markdown",
   "metadata": {
    "nbgrader": {
     "grade": false,
     "grade_id": "cell-bccd5fe8a605f83c",
     "locked": true,
     "schema_version": 1,
     "solution": false
    }
   },
   "source": [
    "**Exercise 1** (2 points). Write a function `parse_email` that, given an email address `s`, returns a tuple, `(user-id, domain)` corresponding to the user name and domain name.\n",
    "\n",
    "For instance, given `richie@cc.gatech.edu` it should return `(richie, cc.gatech.edu)`.\n",
    "\n",
    "Your function should parse the email only if it exactly matches the email specification. For example, if there are leading or trailing spaces, the function should *not* match those. See the test cases for examples.\n",
    "\n",
    "If the input is not a valid email address, the function should raise a `ValueError`.\n",
    "\n",
    "> The requirement, \"raise a `ValueError`\" refers to a technique for handling errors in a program known as _exception handling_. The Python documentation covers [exceptions](https://docs.python.org/3/tutorial/errors.html) in more detail, including [raising `ValueError` objects](https://docs.python.org/3/tutorial/errors.html#raising-exceptions)."
   ]
  },
  {
   "cell_type": "code",
   "execution_count": 7,
   "metadata": {
    "collapsed": true,
    "nbgrader": {
     "grade": false,
     "grade_id": "parse_email",
     "locked": false,
     "schema_version": 1,
     "solution": true
    }
   },
   "outputs": [],
   "source": [
    "def parse_email (s):\n",
    "    pattern = '''\n",
    "       ^\n",
    "       (?P<user>[a-zA-Z][\\w.\\-+]*)\n",
    "       @\n",
    "       (?P<domain>[\\w.\\-]*[a-zA-Z])\n",
    "       $\n",
    "    '''\n",
    "    matcher = re.compile(pattern, re.VERBOSE)\n",
    "    matches = matcher.match(s)\n",
    "    if matches:\n",
    "        return (matches.group('user'), matches.group('domain'))\n",
    "    raise ValueError(\"Bad email address\")\n"
   ]
  },
  {
   "cell_type": "code",
   "execution_count": 8,
   "metadata": {
    "nbgrader": {
     "grade": true,
     "grade_id": "parse_email_test",
     "locked": true,
     "points": 2,
     "schema_version": 1,
     "solution": false
    }
   },
   "outputs": [
    {
     "name": "stdout",
     "output_type": "stream",
     "text": [
      "Testing valid email: 'richie@cc.gatech.edu'\n",
      "Testing valid email: 'bertha_hugely@sampson.edu'\n",
      "Testing valid email: 'JKRowling@Huge-Books.org'\n",
      "Testing invalid email: 'x @hpcgarage.org'\n",
      "==> Correctly throws an exception!\n",
      "Testing invalid email: '   quiggy.smith38x@gmail.com'\n",
      "==> Correctly throws an exception!\n",
      "Testing invalid email: 'richie@cc.gatech.edu  '\n",
      "==> Correctly throws an exception!\n",
      "Testing invalid email: '4test@gmail.com'\n",
      "==> Correctly throws an exception!\n",
      "Testing invalid email: 'richie@cc.gatech.edu7'\n",
      "==> Correctly throws an exception!\n"
     ]
    }
   ],
   "source": [
    "# Test cell: `parse_email_test`\n",
    "\n",
    "def pass_case(u, d):\n",
    "    s = u + '@' + d\n",
    "    msg = \"Testing valid email: '{}'\".format(s)\n",
    "    print(msg)\n",
    "    assert parse_email(s) == (u, d), msg\n",
    "    \n",
    "pass_case('richie', 'cc.gatech.edu')\n",
    "pass_case('bertha_hugely', 'sampson.edu')\n",
    "pass_case('JKRowling', 'Huge-Books.org')\n",
    "\n",
    "def fail_case(s):\n",
    "    msg = \"Testing invalid email: '{}'\".format(s)\n",
    "    print(msg)\n",
    "    try:\n",
    "        parse_email(s)\n",
    "    except ValueError:\n",
    "        print(\"==> Correctly throws an exception!\")\n",
    "    else:\n",
    "        raise AssertionError(\"Should have, but did not, throw an exception!\")\n",
    "        \n",
    "fail_case('x @hpcgarage.org')\n",
    "fail_case('   quiggy.smith38x@gmail.com')\n",
    "fail_case('richie@cc.gatech.edu  ')\n",
    "fail_case('4test@gmail.com')\n",
    "fail_case('richie@cc.gatech.edu7')"
   ]
  },
  {
   "cell_type": "markdown",
   "metadata": {},
   "source": [
    "## Phone numbers"
   ]
  },
  {
   "cell_type": "markdown",
   "metadata": {
    "nbgrader": {
     "grade": false,
     "grade_id": "cell-a0c6c3084205c049",
     "locked": true,
     "schema_version": 1,
     "solution": false
    }
   },
   "source": [
    "**Exercise 2** (2 points). Write a function to parse US phone numbers written in the canonical \"(404) 555-1212\" format, i.e., a three-digit area code enclosed in parentheses followed by a seven-digit local number in three-hyphen-four digit format. It should also **ignore** all leading and trailing spaces, as well as any spaces that appear between the area code and local numbers. However, it should **not** accept any spaces in the area code (e.g., in '(404)') nor should it in the seven-digit local number.\n",
    "\n",
    "It should return a triple of strings, `(area_code, first_three, last_four)`. \n",
    "\n",
    "If the input is not a valid phone number, it should raise a `ValueError`."
   ]
  },
  {
   "cell_type": "code",
   "execution_count": 9,
   "metadata": {
    "collapsed": true,
    "nbgrader": {
     "grade": false,
     "grade_id": "parse_phone1",
     "locked": false,
     "schema_version": 1,
     "solution": true
    }
   },
   "outputs": [],
   "source": [
    "def parse_phone1 (s):\n",
    "    pattern = '''\n",
    "       \\s*\n",
    "       \\((?P<area>\\d{3})\\) # (Area code)\n",
    "       \\s*\n",
    "       (?P<local3>\\d{3}) # (3 digits)\n",
    "       -\n",
    "       (?P<local4>\\d{4}) # (4 digits)\n",
    "    '''\n",
    "    matcher = re.compile(pattern, re.VERBOSE)\n",
    "    matches = matcher.match(s)\n",
    "    if matches:\n",
    "        return (matches.group('area'), matches.group('local3'), matches.group('local4'))\n",
    "    raise ValueError(\"Invalid phone number? '{}'\".format(s))\n"
   ]
  },
  {
   "cell_type": "code",
   "execution_count": 10,
   "metadata": {
    "nbgrader": {
     "grade": true,
     "grade_id": "parse_phone1_test",
     "locked": true,
     "points": 2,
     "schema_version": 1,
     "solution": false
    }
   },
   "outputs": [
    {
     "name": "stdout",
     "output_type": "stream",
     "text": [
      "Should pass: '(404) 121-2121'\n",
      "Should pass: '(404)121-2121'\n",
      "Should pass: '  (874)    091-6617  '\n",
      "Should pass: '     (901) 964-1822   '\n",
      "Should pass: ' (161)   501-6461 '\n",
      "Should pass: '    (008)   059-7657 '\n",
      "Should pass: '     (359)   156-0428'\n",
      "Should fail: '404-121-2121'\n",
      "==> Correctly throws an exception.\n",
      "Should fail: '(404)555 -1212'\n",
      "==> Correctly throws an exception.\n",
      "Should fail: ' ( 404)121-2121'\n",
      "==> Correctly throws an exception.\n",
      "Should fail: '(abc) def-ghij'\n",
      "==> Correctly throws an exception.\n"
     ]
    }
   ],
   "source": [
    "# Test cell: `parse_phone1_test`\n",
    "\n",
    "def rand_spaces(m=5):\n",
    "    from random import randint\n",
    "    return ' ' * randint(0, m)\n",
    "\n",
    "def asm_phone(a, l, r):\n",
    "    return rand_spaces() + '(' + a + ')' + rand_spaces() + l + '-' + r + rand_spaces()\n",
    "\n",
    "def gen_digits(k):\n",
    "    from random import choice # 3.5 compatible; 3.6 has `choices()`\n",
    "    DIGITS = '0123456789'\n",
    "    return ''.join([choice(DIGITS) for _ in range(k)])\n",
    "\n",
    "def pass_phone(p=None, a=None, l=None, r=None):\n",
    "    if p is None:\n",
    "        a = gen_digits(3)\n",
    "        l = gen_digits(3)\n",
    "        r = gen_digits(4)\n",
    "        p = asm_phone(a, l, r)\n",
    "    else:\n",
    "        assert a is not None and l is not None and r is not None, \"Need to supply sample solution.\"\n",
    "    msg = \"Should pass: '{}'\".format(p)\n",
    "    print(msg)\n",
    "    p_you = parse_phone1(p)\n",
    "    assert p_you == (a, l, r), \"Got {} instead of ('{}', '{}', '{}')\".format(p_you, a, l, r)\n",
    "    \n",
    "def fail_phone(s):\n",
    "    msg = \"Should fail: '{}'\".format(s)\n",
    "    print(msg)\n",
    "    try:\n",
    "        p_you = parse_phone1(s)\n",
    "    except ValueError:\n",
    "        print(\"==> Correctly throws an exception.\")\n",
    "    else:\n",
    "        raise AssertionError(\"Failed to throw a `ValueError` exception!\")\n",
    "\n",
    "\n",
    "# Cases that should definitely pass:\n",
    "pass_phone('(404) 121-2121', '404', '121', '2121')\n",
    "pass_phone('(404)121-2121', '404', '121', '2121')\n",
    "for _ in range(5):\n",
    "    pass_phone()\n",
    "    \n",
    "fail_phone(\"404-121-2121\")\n",
    "fail_phone('(404)555 -1212')\n",
    "fail_phone(\" ( 404)121-2121\")\n",
    "fail_phone(\"(abc) def-ghij\")"
   ]
  },
  {
   "cell_type": "markdown",
   "metadata": {
    "nbgrader": {
     "grade": false,
     "grade_id": "cell-92b8099165470979",
     "locked": true,
     "schema_version": 1,
     "solution": false
    }
   },
   "source": [
    "**Exercise 3** (3 points). Implement an enhanced phone number parser that can handle any of these patterns.\n",
    "\n",
    "* (404) 555-1212\n",
    "* (404) 5551212\n",
    "* 404-555-1212\n",
    "* 404-5551212\n",
    "* 404555-1212\n",
    "* 4045551212\n",
    "\n",
    "As before, it should not be sensitive to leading or trailing spaces. Also, for the patterns in which the area code is enclosed in parentheses, it should not be sensitive to the number of spaces separating the area code from the remainder of the number."
   ]
  },
  {
   "cell_type": "code",
   "execution_count": 11,
   "metadata": {
    "collapsed": true,
    "nbgrader": {
     "grade": false,
     "grade_id": "parse_phone2",
     "locked": false,
     "schema_version": 1,
     "solution": true
    }
   },
   "outputs": [],
   "source": [
    "def parse_phone2(s):\n",
    "    pattern = '''\n",
    "        ^\\s*               # Leading spaces\n",
    "        (?P<areacode>\n",
    "           \\d{3}-?         # \"xxx\" or \"xxx-\"\n",
    "           | \\(\\d{3}\\)\\s*  # OR \"(xxx) \"\n",
    "        )\n",
    "        (?P<prefix>\\d{3})  # xxx\n",
    "        -?                 # Dash (optional)\n",
    "        (?P<suffix>\\d{4})  # xxxx\n",
    "        \\s*$               # Trailing spaces\n",
    "    '''\n",
    "    matcher = re.compile(pattern, re.VERBOSE)\n",
    "    matches = matcher.match(s)\n",
    "    if matches is None:\n",
    "        raise ValueError(\"'{}' is not in the right format.\".format (s))\n",
    "    areacode = re.search('\\d{3}', matches.group ('areacode')).group()\n",
    "    prefix = matches.group ('prefix')\n",
    "    suffix = matches.group ('suffix')\n",
    "    return (areacode, prefix, suffix)\n"
   ]
  },
  {
   "cell_type": "code",
   "execution_count": 12,
   "metadata": {
    "nbgrader": {
     "grade": true,
     "grade_id": "parse_phone2_test",
     "locked": true,
     "points": 3,
     "schema_version": 1,
     "solution": false
    }
   },
   "outputs": [
    {
     "name": "stdout",
     "output_type": "stream",
     "text": [
      "Should pass: '  (404)   555-1212  '\n",
      "Should pass: '(404)555-1212  '\n",
      "Should pass: '  404-555-1212 '\n",
      "Should pass: '  404-5551212 '\n",
      "Should pass: ' 4045551212'\n",
      "Should pass: '     731-824-9287   '\n",
      "Should pass: '     053-005-7138    '\n",
      "Should pass: '    0999406612     '\n",
      "Should pass: '   308-7845315   '\n",
      "Should pass: '   (912)547-9436  '\n",
      "Should fail: '+1 (404) 555-3355'\n",
      "==> Function correctly raised an exception.\n",
      "Should fail: '404.555.3355'\n",
      "==> Function correctly raised an exception.\n",
      "Should fail: '404 555-3355'\n",
      "==> Function correctly raised an exception.\n",
      "Should fail: '404 555 3355'\n",
      "==> Function correctly raised an exception.\n",
      "Should fail: '(404-555-1212'\n",
      "==> Function correctly raised an exception.\n",
      "\n",
      "(Passed!)\n"
     ]
    }
   ],
   "source": [
    "# Test cell: `parse_phone2_test`\n",
    "\n",
    "def asm_phone2(a, l, r):\n",
    "    from random import random\n",
    "    x = random()\n",
    "    if x < 0.33:\n",
    "        a2 = '(' + a + ')' + rand_spaces()\n",
    "    elif x < 0.67:\n",
    "        a2 = a + '-'\n",
    "    else:\n",
    "        a2 = a\n",
    "    y = random()\n",
    "    if y < 0.5:\n",
    "        l2 = l + '-'\n",
    "    else:\n",
    "        l2 = l\n",
    "    return rand_spaces() + a2 + l2 + r + rand_spaces()\n",
    "\n",
    "def pass_phone2(p=None, a=None, l=None, r=None):\n",
    "    if p is None:\n",
    "        a = gen_digits(3)\n",
    "        l = gen_digits(3)\n",
    "        r = gen_digits(4)\n",
    "        p = asm_phone2(a, l, r)\n",
    "    else:\n",
    "        assert a is not None and l is not None and r is not None, \"Need to supply sample solution.\"\n",
    "    msg = \"Should pass: '{}'\".format(p)\n",
    "    print(msg)\n",
    "    p_you = parse_phone2(p)\n",
    "    assert p_you == (a, l, r), \"Got {} instead of ('{}', '{}', '{}')\".format(p_you, a, l, r)\n",
    "    \n",
    "pass_phone2(\"  (404)   555-1212  \", '404', '555', '1212')\n",
    "pass_phone2(\"(404)555-1212  \", '404', '555', '1212')\n",
    "pass_phone2(\"  404-555-1212 \", '404', '555', '1212')\n",
    "pass_phone2(\"  404-5551212 \", '404', '555', '1212')\n",
    "pass_phone2(\" 4045551212\", '404', '555', '1212')\n",
    "    \n",
    "for _ in range(5):\n",
    "    pass_phone2()\n",
    "    \n",
    "    \n",
    "def fail_phone2(s):\n",
    "    msg = \"Should fail: '{}'\".format(s)\n",
    "    print(msg)\n",
    "    try:\n",
    "        parse_phone2 (s)\n",
    "    except ValueError:\n",
    "        print (\"==> Function correctly raised an exception.\")\n",
    "    else:\n",
    "        raise AssertionError (\"Function did *not* raise an exception as expected!\")\n",
    "        \n",
    "failure_cases = ['+1 (404) 555-3355',\n",
    "                 '404.555.3355',\n",
    "                 '404 555-3355',\n",
    "                 '404 555 3355',\n",
    "                 '(404-555-1212'\n",
    "                ]\n",
    "for s in failure_cases:\n",
    "    fail_phone2(s)\n",
    "    \n",
    "print(\"\\n(Passed!)\")"
   ]
  },
  {
   "cell_type": "markdown",
   "metadata": {
    "collapsed": true,
    "nbgrader": {
     "grade": false,
     "grade_id": "cell-4e60d75d4b47de9c",
     "locked": true,
     "schema_version": 1,
     "solution": false
    }
   },
   "source": [
    "**Fin!** This cell marks the end of Part 0. Don't forget to save, restart and rerun all cells, and submit it. When you are done, proceed to Parts 1 and 2."
   ]
  }
 ],
 "metadata": {
  "celltoolbar": "Create Assignment",
  "kernelspec": {
   "display_name": "Python 3.6 [deprecated]",
   "language": "python",
   "name": "python36"
  },
  "language_info": {
   "codemirror_mode": {
    "name": "ipython",
    "version": 3
   },
   "file_extension": ".py",
   "mimetype": "text/x-python",
   "name": "python",
   "nbconvert_exporter": "python",
   "pygments_lexer": "ipython3",
   "version": "3.6.4"
  }
 },
 "nbformat": 4,
 "nbformat_minor": 1
}
